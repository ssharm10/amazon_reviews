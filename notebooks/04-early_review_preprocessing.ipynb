{
 "cells": [
  {
   "cell_type": "markdown",
   "metadata": {},
   "source": [
    "**Table of contents**<a id='toc0_'></a>    \n",
    "- [Introduction](#toc1_1_1_)    \n",
    "      - [Importing Python Libraries](#toc1_1_1_1_)    \n",
    "      - [Loading Clean Dataset](#toc1_1_1_2_)    \n",
    "    - [Distribution of Reviews per product](#toc1_1_2_)    \n",
    "    - [Word Counts in Reviews](#toc1_1_3_)    \n",
    "    - [Review Sentiment Analysis](#toc1_1_4_)    \n",
    "    - [Early Review Analysis](#toc1_1_5_)    \n",
    "    - [Temporal nature of reviews](#toc1_1_6_)    \n",
    "    - [Pickling the dataframe](#toc1_1_7_)    \n",
    "\n",
    "<!-- vscode-jupyter-toc-config\n",
    "\tnumbering=false\n",
    "\tanchor=true\n",
    "\tflat=false\n",
    "\tminLevel=1\n",
    "\tmaxLevel=6\n",
    "\t/vscode-jupyter-toc-config -->\n",
    "<!-- THIS CELL WILL BE REPLACED ON TOC UPDATE. DO NOT WRITE YOUR TEXT IN THIS CELL -->"
   ]
  },
  {
   "cell_type": "markdown",
   "metadata": {},
   "source": [
    "### <a id='toc1_1_1_'></a>[Introduction](#toc0_)"
   ]
  },
  {
   "cell_type": "markdown",
   "metadata": {},
   "source": [
    "In this notebook, we first merge the meta data with reviews dataframe and then perform pre-processing on user generated reviews and ratings to make them suitable for modeling."
   ]
  },
  {
   "cell_type": "markdown",
   "metadata": {},
   "source": [
    "#### <a id='toc1_1_1_1_'></a>[Importing Python Libraries](#toc0_)"
   ]
  },
  {
   "cell_type": "markdown",
   "metadata": {},
   "source": [
    "Importing necessary libraries for data pre-processing"
   ]
  },
  {
   "cell_type": "code",
   "execution_count": 63,
   "metadata": {},
   "outputs": [],
   "source": [
    "import pandas as pd\n",
    "import numpy as np\n",
    "import seaborn as sns\n",
    "import matplotlib.pyplot as plt\n",
    "import regex as re\n",
    "from sklearn.pipeline import Pipeline\n",
    "from sklearn.feature_extraction.text import TfidfVectorizer\n",
    "from sklearn.compose import ColumnTransformer\n",
    "import string\n",
    "import spacy\n",
    "\n",
    "# Ignore all warnings to avoid cluttering the output\n",
    "import warnings\n",
    "warnings.filterwarnings(\"ignore\")"
   ]
  },
  {
   "cell_type": "code",
   "execution_count": 64,
   "metadata": {},
   "outputs": [],
   "source": [
    "#Useful settings\n",
    "\n",
    "plt.rcParams['figure.figsize'] = (8.0, 6.0) # set matplotlib global settings eg. figsize\n",
    "sns.set_style(\"white\")                   #Setting grid style in seaborn"
   ]
  },
  {
   "cell_type": "markdown",
   "metadata": {},
   "source": [
    "#### <a id='toc1_1_1_2_'></a>[Loading Clean Dataset](#toc0_)"
   ]
  },
  {
   "cell_type": "code",
   "execution_count": null,
   "metadata": {},
   "outputs": [
    {
     "data": {
      "text/html": [
       "<div>\n",
       "<style scoped>\n",
       "    .dataframe tbody tr th:only-of-type {\n",
       "        vertical-align: middle;\n",
       "    }\n",
       "\n",
       "    .dataframe tbody tr th {\n",
       "        vertical-align: top;\n",
       "    }\n",
       "\n",
       "    .dataframe thead th {\n",
       "        text-align: right;\n",
       "    }\n",
       "</style>\n",
       "<table border=\"1\" class=\"dataframe\">\n",
       "  <thead>\n",
       "    <tr style=\"text-align: right;\">\n",
       "      <th></th>\n",
       "      <th>rating_by_user</th>\n",
       "      <th>title</th>\n",
       "      <th>text_review</th>\n",
       "      <th>images</th>\n",
       "      <th>product_id</th>\n",
       "      <th>parent_asin</th>\n",
       "      <th>user_id</th>\n",
       "      <th>time_of_review</th>\n",
       "      <th>helpful_vote</th>\n",
       "      <th>verified_purchase</th>\n",
       "    </tr>\n",
       "  </thead>\n",
       "  <tbody>\n",
       "    <tr>\n",
       "      <th>0</th>\n",
       "      <td>5</td>\n",
       "      <td>Beautiful colors</td>\n",
       "      <td>I bought one for myself and one for my grandda...</td>\n",
       "      <td>[]</td>\n",
       "      <td>B08GPJ1MSN</td>\n",
       "      <td>B08GPJ1MSN</td>\n",
       "      <td>AF7OANMNHQJC3PD4HRPX2FATECPA</td>\n",
       "      <td>2021-05-21 14:31:35.111</td>\n",
       "      <td>1</td>\n",
       "      <td>True</td>\n",
       "    </tr>\n",
       "    <tr>\n",
       "      <th>1</th>\n",
       "      <td>5</td>\n",
       "      <td>You simply must order order more than one!</td>\n",
       "      <td>I’ve ordered three bows so far. Have not been ...</td>\n",
       "      <td>[]</td>\n",
       "      <td>B084TWHS7W</td>\n",
       "      <td>B084TWHS7W</td>\n",
       "      <td>AGMJ3EMDVL6OWBJF7CA5RGJLXN5A</td>\n",
       "      <td>2020-04-24 21:15:46.965</td>\n",
       "      <td>0</td>\n",
       "      <td>True</td>\n",
       "    </tr>\n",
       "    <tr>\n",
       "      <th>2</th>\n",
       "      <td>5</td>\n",
       "      <td>Great</td>\n",
       "      <td>As pictured. Used a frame from the dollar stor...</td>\n",
       "      <td>[]</td>\n",
       "      <td>B07V3NRQC4</td>\n",
       "      <td>B07V3NRQC4</td>\n",
       "      <td>AEYORY2AVPMCPDV57CE337YU5LXA</td>\n",
       "      <td>2020-06-06 13:09:11.297</td>\n",
       "      <td>0</td>\n",
       "      <td>True</td>\n",
       "    </tr>\n",
       "    <tr>\n",
       "      <th>3</th>\n",
       "      <td>5</td>\n",
       "      <td>Well made and so beautiful</td>\n",
       "      <td>This is beyond beautiful.  So shiny, the size ...</td>\n",
       "      <td>[]</td>\n",
       "      <td>B071ZMDK26</td>\n",
       "      <td>B071ZMDK26</td>\n",
       "      <td>AEINY4XOINMMJCK5GZ3M6MMHBN6A</td>\n",
       "      <td>2019-06-02 01:14:39.784</td>\n",
       "      <td>2</td>\n",
       "      <td>True</td>\n",
       "    </tr>\n",
       "    <tr>\n",
       "      <th>4</th>\n",
       "      <td>5</td>\n",
       "      <td>Smells just like the real thing!</td>\n",
       "      <td>Oh wow what a pleasant surprise! This smells g...</td>\n",
       "      <td>[]</td>\n",
       "      <td>B01MPVZ4YP</td>\n",
       "      <td>B01MPVZ4YP</td>\n",
       "      <td>AGCPAPUHXYA3EEIL2KGSQTGO5HRA</td>\n",
       "      <td>2019-01-08 00:12:11.674</td>\n",
       "      <td>1</td>\n",
       "      <td>True</td>\n",
       "    </tr>\n",
       "  </tbody>\n",
       "</table>\n",
       "</div>"
      ],
      "text/plain": [
       "   rating_by_user                                       title  \\\n",
       "0               5                            Beautiful colors   \n",
       "1               5  You simply must order order more than one!   \n",
       "2               5                                       Great   \n",
       "3               5                  Well made and so beautiful   \n",
       "4               5            Smells just like the real thing!   \n",
       "\n",
       "                                         text_review images  product_id  \\\n",
       "0  I bought one for myself and one for my grandda...     []  B08GPJ1MSN   \n",
       "1  I’ve ordered three bows so far. Have not been ...     []  B084TWHS7W   \n",
       "2  As pictured. Used a frame from the dollar stor...     []  B07V3NRQC4   \n",
       "3  This is beyond beautiful.  So shiny, the size ...     []  B071ZMDK26   \n",
       "4  Oh wow what a pleasant surprise! This smells g...     []  B01MPVZ4YP   \n",
       "\n",
       "  parent_asin                       user_id          time_of_review  \\\n",
       "0  B08GPJ1MSN  AF7OANMNHQJC3PD4HRPX2FATECPA 2021-05-21 14:31:35.111   \n",
       "1  B084TWHS7W  AGMJ3EMDVL6OWBJF7CA5RGJLXN5A 2020-04-24 21:15:46.965   \n",
       "2  B07V3NRQC4  AEYORY2AVPMCPDV57CE337YU5LXA 2020-06-06 13:09:11.297   \n",
       "3  B071ZMDK26  AEINY4XOINMMJCK5GZ3M6MMHBN6A 2019-06-02 01:14:39.784   \n",
       "4  B01MPVZ4YP  AGCPAPUHXYA3EEIL2KGSQTGO5HRA 2019-01-08 00:12:11.674   \n",
       "\n",
       "   helpful_vote  verified_purchase  \n",
       "0             1               True  \n",
       "1             0               True  \n",
       "2             0               True  \n",
       "3             2               True  \n",
       "4             1               True  "
      ]
     },
     "execution_count": 65,
     "metadata": {},
     "output_type": "execute_result"
    }
   ],
   "source": [
    "# Here we load the pickled review DataFrame that has undergone basic cleaning   \n",
    "review_df = pd.read_pickle('../data/review_sample_handmade.pkl')\n",
    "\n",
    "#display first 5 rows\n",
    "review_df.head()"
   ]
  },
  {
   "cell_type": "code",
   "execution_count": 66,
   "metadata": {},
   "outputs": [
    {
     "name": "stdout",
     "output_type": "stream",
     "text": [
      "The shape of the review dataframe is (664162, 10).\n"
     ]
    }
   ],
   "source": [
    "print(f'The shape of the review dataframe is {review_df.shape}.')"
   ]
  },
  {
   "cell_type": "code",
   "execution_count": 67,
   "metadata": {},
   "outputs": [
    {
     "name": "stdout",
     "output_type": "stream",
     "text": [
      "<class 'pandas.core.frame.DataFrame'>\n",
      "RangeIndex: 664162 entries, 0 to 664161\n",
      "Data columns (total 10 columns):\n",
      " #   Column             Non-Null Count   Dtype         \n",
      "---  ------             --------------   -----         \n",
      " 0   rating_by_user     664162 non-null  int64         \n",
      " 1   title              664162 non-null  object        \n",
      " 2   text_review        664162 non-null  object        \n",
      " 3   images             664162 non-null  object        \n",
      " 4   product_id         664162 non-null  object        \n",
      " 5   parent_asin        664162 non-null  object        \n",
      " 6   user_id            664162 non-null  object        \n",
      " 7   time_of_review     664162 non-null  datetime64[ns]\n",
      " 8   helpful_vote       664162 non-null  int64         \n",
      " 9   verified_purchase  664162 non-null  bool          \n",
      "dtypes: bool(1), datetime64[ns](1), int64(2), object(6)\n",
      "memory usage: 46.2+ MB\n"
     ]
    }
   ],
   "source": [
    "#display info\n",
    "review_df.info()"
   ]
  },
  {
   "cell_type": "code",
   "execution_count": 68,
   "metadata": {},
   "outputs": [
    {
     "data": {
      "text/plain": [
       "Series([], dtype: int64)"
      ]
     },
     "execution_count": 68,
     "metadata": {},
     "output_type": "execute_result"
    }
   ],
   "source": [
    "#checking null values \n",
    "review_df.isna().sum().loc[lambda x: x> 0]"
   ]
  },
  {
   "cell_type": "code",
   "execution_count": 69,
   "metadata": {},
   "outputs": [
    {
     "name": "stdout",
     "output_type": "stream",
     "text": [
      "Number of products reviewed: 164728\n",
      "Number of unique reviewers: 586613\n",
      "Ratings range from: 1 to 5\n"
     ]
    }
   ],
   "source": [
    "# Number of products \n",
    "print(\"Number of products reviewed:\", review_df['parent_asin'].nunique())\n",
    "\n",
    "# Number of unique reviewers \n",
    "print(\"Number of unique reviewers:\", review_df['user_id'].nunique())\n",
    "\n",
    "# Range of ratings\n",
    "print(\"Ratings range from:\", review_df['rating_by_user'].min(), \"to\", review_df['rating_by_user'].max())"
   ]
  },
  {
   "cell_type": "markdown",
   "metadata": {},
   "source": [
    "### <a id='toc1_1_2_'></a>[Distribution of Reviews per product](#toc0_)"
   ]
  },
  {
   "cell_type": "code",
   "execution_count": 70,
   "metadata": {},
   "outputs": [
    {
     "data": {
      "image/png": "[encoded data removed]",
      "text/plain": [
       "<Figure size 800x600 with 1 Axes>"
      ]
     },
     "metadata": {},
     "output_type": "display_data"
    }
   ],
   "source": [
    "grouped_df = review_df.groupby('parent_asin',as_index=False)['rating_by_user'].count().rename(columns= {'rating_by_user':'review_counts'})\n",
    "grouped_df['review_counts'].hist(bins=30)\n",
    "\n",
    "#title and axis labels\n",
    "plt.xlabel('Number of Reviews per Product')\n",
    "plt.ylabel('Number of Products')\n",
    "plt.title('Distribution of review counts per product')\n",
    "plt.yscale('log')\n",
    "plt.show()"
   ]
  },
  {
   "cell_type": "code",
   "execution_count": 71,
   "metadata": {},
   "outputs": [
    {
     "data": {
      "text/plain": [
       "count    164728.000000\n",
       "mean          4.031871\n",
       "std          16.397329\n",
       "min           1.000000\n",
       "25%           1.000000\n",
       "50%           1.000000\n",
       "75%           3.000000\n",
       "max        2498.000000\n",
       "Name: review_counts, dtype: float64"
      ]
     },
     "execution_count": 71,
     "metadata": {},
     "output_type": "execute_result"
    }
   ],
   "source": [
    "grouped_df['review_counts'].describe()"
   ]
  },
  {
   "cell_type": "markdown",
   "metadata": {},
   "source": [
    "**Key Insights**\n",
    "\n",
    "- The distribution reveals a highly skewed distribution of reviews per product, with most products receiving very few ratings. \n",
    "- About 50% of products have only received a single review and about 75% of products have ≤3 reviews. \n",
    "- The presence of long tail shows that select items attract disproportionate attention from users.\n"
   ]
  },
  {
   "cell_type": "markdown",
   "metadata": {},
   "source": [
    "### <a id='toc1_1_3_'></a>[Word Counts in Reviews](#toc0_)"
   ]
  },
  {
   "cell_type": "code",
   "execution_count": 72,
   "metadata": {},
   "outputs": [
    {
     "data": {
      "text/plain": [
       "0                              Beautiful colors\n",
       "1    You simply must order order more than one \n",
       "2                                         Great\n",
       "3                    Well made and so beautiful\n",
       "4              Smells just like the real thing \n",
       "Name: review_title_cleaned, dtype: object"
      ]
     },
     "execution_count": 72,
     "metadata": {},
     "output_type": "execute_result"
    }
   ],
   "source": [
    "# Function to clean text: remove punctuation & emojis, then split\n",
    "def clean_and_split(text):\n",
    "        # Remove HTML tags like <br />\n",
    "        text = re.sub(r'<.*?>', ' ', text)\n",
    "        text = re.sub(r\"[^\\w\\s]\", \" \", text)  # Remove punctuation\n",
    "        text = re.sub(r\"[\\U00010000-\\U0010FFFF]\", \" \", text, flags=re.UNICODE)  # Remove emojis\n",
    "        return text\n",
    "\n",
    "#apply to review titles\n",
    "review_df['review_title_cleaned'] = review_df['title'].apply(clean_and_split)\n",
    "\n",
    "review_df['review_title_cleaned'].head()"
   ]
  },
  {
   "cell_type": "code",
   "execution_count": 73,
   "metadata": {},
   "outputs": [
    {
     "data": {
      "text/plain": [
       "0    I bought one for myself and one for my grandda...\n",
       "1    I ve ordered three bows so far  Have not been ...\n",
       "2    As pictured  Used a frame from the dollar stor...\n",
       "3    This is beyond beautiful   So shiny  the size ...\n",
       "4    Oh wow what a pleasant surprise  This smells g...\n",
       "Name: review_text_cleaned, dtype: object"
      ]
     },
     "execution_count": 73,
     "metadata": {},
     "output_type": "execute_result"
    }
   ],
   "source": [
    "#clean review text\n",
    "\n",
    "review_df['review_text_cleaned'] = review_df['text_review'].apply(clean_and_split)\n",
    "\n",
    "review_df['review_text_cleaned'].head()"
   ]
  },
  {
   "cell_type": "code",
   "execution_count": 74,
   "metadata": {},
   "outputs": [
    {
     "data": {
      "text/html": [
       "<div>\n",
       "<style scoped>\n",
       "    .dataframe tbody tr th:only-of-type {\n",
       "        vertical-align: middle;\n",
       "    }\n",
       "\n",
       "    .dataframe tbody tr th {\n",
       "        vertical-align: top;\n",
       "    }\n",
       "\n",
       "    .dataframe thead th {\n",
       "        text-align: right;\n",
       "    }\n",
       "</style>\n",
       "<table border=\"1\" class=\"dataframe\">\n",
       "  <thead>\n",
       "    <tr style=\"text-align: right;\">\n",
       "      <th></th>\n",
       "      <th>review_text_word_counts</th>\n",
       "      <th>review_title_word_counts</th>\n",
       "    </tr>\n",
       "  </thead>\n",
       "  <tbody>\n",
       "    <tr>\n",
       "      <th>count</th>\n",
       "      <td>664162.000000</td>\n",
       "      <td>664162.000000</td>\n",
       "    </tr>\n",
       "    <tr>\n",
       "      <th>mean</th>\n",
       "      <td>25.504717</td>\n",
       "      <td>3.452743</td>\n",
       "    </tr>\n",
       "    <tr>\n",
       "      <th>std</th>\n",
       "      <td>29.935683</td>\n",
       "      <td>2.767256</td>\n",
       "    </tr>\n",
       "    <tr>\n",
       "      <th>min</th>\n",
       "      <td>0.000000</td>\n",
       "      <td>0.000000</td>\n",
       "    </tr>\n",
       "    <tr>\n",
       "      <th>25%</th>\n",
       "      <td>8.000000</td>\n",
       "      <td>2.000000</td>\n",
       "    </tr>\n",
       "    <tr>\n",
       "      <th>50%</th>\n",
       "      <td>17.000000</td>\n",
       "      <td>2.000000</td>\n",
       "    </tr>\n",
       "    <tr>\n",
       "      <th>75%</th>\n",
       "      <td>33.000000</td>\n",
       "      <td>4.000000</td>\n",
       "    </tr>\n",
       "    <tr>\n",
       "      <th>max</th>\n",
       "      <td>1782.000000</td>\n",
       "      <td>46.000000</td>\n",
       "    </tr>\n",
       "  </tbody>\n",
       "</table>\n",
       "</div>"
      ],
      "text/plain": [
       "       review_text_word_counts  review_title_word_counts\n",
       "count            664162.000000             664162.000000\n",
       "mean                 25.504717                  3.452743\n",
       "std                  29.935683                  2.767256\n",
       "min                   0.000000                  0.000000\n",
       "25%                   8.000000                  2.000000\n",
       "50%                  17.000000                  2.000000\n",
       "75%                  33.000000                  4.000000\n",
       "max                1782.000000                 46.000000"
      ]
     },
     "execution_count": 74,
     "metadata": {},
     "output_type": "execute_result"
    }
   ],
   "source": [
    "#calculate the word counts in text and title of reviews\n",
    "\n",
    "# Apply to the cleaned review text column\n",
    "review_df['review_text_word_counts'] = review_df['review_text_cleaned'].str.split().apply(len)\n",
    "\n",
    "# Apply to the cleaned title colbumn\n",
    "review_df['review_title_word_counts'] = review_df['review_title_cleaned'].str.split().apply(len)\n",
    "\n",
    "review_df[['review_text_word_counts','review_title_word_counts']].describe()"
   ]
  },
  {
   "cell_type": "markdown",
   "metadata": {},
   "source": [
    "### <a id='toc1_1_4_'></a>[Review Sentiment Analysis](#toc0_)"
   ]
  },
  {
   "cell_type": "markdown",
   "metadata": {},
   "source": [
    "In this section, we use Vader Sentiment scores to calculate sentiment scores based on the combined title and text of the reviews. Since VADER is optimized for social media, product reviews, and informal text, it is good choice for this analysis."
   ]
  },
  {
   "cell_type": "code",
   "execution_count": 75,
   "metadata": {},
   "outputs": [
    {
     "data": {
      "text/plain": [
       "0    Beautiful colors I bought one for myself and o...\n",
       "1    You simply must order order more than one! I’v...\n",
       "2    Great As pictured. Used a frame from the dolla...\n",
       "3    Well made and so beautiful This is beyond beau...\n",
       "4    Smells just like the real thing! Oh wow what a...\n",
       "Name: review, dtype: object"
      ]
     },
     "execution_count": 75,
     "metadata": {},
     "output_type": "execute_result"
    }
   ],
   "source": [
    "#First Create a column that combines text and title of the review\n",
    "review_df['review'] = review_df['title'] + ' ' + review_df['text_review']\n",
    "review_df['review'].head()"
   ]
  },
  {
   "cell_type": "code",
   "execution_count": 76,
   "metadata": {},
   "outputs": [],
   "source": [
    "#calculate sentiment of these early reviews\n",
    "from vaderSentiment.vaderSentiment import SentimentIntensityAnalyzer\n",
    "\n",
    "# Initialize analyzer\n",
    "analyzer = SentimentIntensityAnalyzer()\n",
    "\n",
    "# Function to get Vader Scores\n",
    "def get_vader_scores(text):\n",
    "    return analyzer.polarity_scores(str(text))\n",
    "\n",
    "# Apply to both title and text\n",
    "review_df['review_sentiment'] = review_df['review'].apply(lambda x: get_vader_scores(x)['compound'])\n"
   ]
  },
  {
   "cell_type": "code",
   "execution_count": 77,
   "metadata": {},
   "outputs": [
    {
     "name": "stdout",
     "output_type": "stream",
     "text": [
      "Correlation Matrix:\n",
      "                  review_sentiment  rating_by_user\n",
      "review_sentiment          1.000000        0.700317\n",
      "rating_by_user            0.700317        1.000000\n"
     ]
    },
    {
     "data": {
      "image/png": "[encoded data removed]",
      "text/plain": [
       "<Figure size 800x600 with 1 Axes>"
      ]
     },
     "metadata": {},
     "output_type": "display_data"
    }
   ],
   "source": [
    "#compare vader scores with actual user ratings\n",
    "\n",
    "# Correlation check\n",
    "print('Correlation Matrix:')\n",
    "print(review_df[['review_sentiment', 'rating_by_user']].corr())\n",
    "\n",
    "# Visual comparison\n",
    "sns.boxplot(x='rating_by_user', y='review_sentiment', data=review_df)\n",
    "plt.title('Sentiment Score vs User Rating')\n",
    "plt.show()"
   ]
  },
  {
   "cell_type": "markdown",
   "metadata": {},
   "source": [
    "**Key Insights**\n",
    "\n",
    "- Vader scores generally align with user ratings, showing higher average sentiment scores for 4- and 5-star reviews.\n",
    "\n",
    "- The distribution of Vader scores is tighter for 4 and 5-star ratings compared to lower ratings, indicating that the model is more consistent in capturing positive sentiment than negative sentiment.\n",
    "\n",
    "- While the median Vader score for 4 and 5-star reviews are high, there are numerous outliers with significantly lower sentiment scores. This suggests that Vader struggles to capture positive sentiment in some highly-rated reviews, potentially due to neutral or mixed language."
   ]
  },
  {
   "cell_type": "markdown",
   "metadata": {},
   "source": [
    "### <a id='toc1_1_5_'></a>[Early Review Analysis](#toc0_)"
   ]
  },
  {
   "cell_type": "markdown",
   "metadata": {},
   "source": [
    "In this section, we analyze specific features of early reviews of products and create a dataframe to store these early reviews for later use as features in our model. We will also establish a baseline sentiment score using VADER for these early reviews."
   ]
  },
  {
   "cell_type": "code",
   "execution_count": 78,
   "metadata": {},
   "outputs": [
    {
     "data": {
      "text/plain": [
       "parent_asin\n",
       "B001RMKWM6    22\n",
       "B0155Y8RQY    21\n",
       "B0157CCJ7C    32\n",
       "B0158SFDUA    29\n",
       "B01591IOQG    81\n",
       "              ..\n",
       "B0CC8ZC5GW    70\n",
       "B0CCVB4W21    33\n",
       "B0CDLTRQGM    29\n",
       "B0CDP4724X    32\n",
       "B0CG562C9R    37\n",
       "Name: rating_by_user, Length: 4630, dtype: int64"
      ]
     },
     "execution_count": 78,
     "metadata": {},
     "output_type": "execute_result"
    }
   ],
   "source": [
    "review_df.groupby('parent_asin',\n",
    "                )['rating_by_user'].count().loc[lambda x: x > 20]"
   ]
  },
  {
   "cell_type": "code",
   "execution_count": 79,
   "metadata": {},
   "outputs": [],
   "source": [
    "#First find products with atleast 20 reviews\n",
    "valid_ids = review_df.groupby('parent_asin') \\\n",
    "            ['rating_by_user'].count().loc[lambda x: x > 20].index\n",
    "\n",
    "#filter those products\n",
    "products_min_20_reviews = review_df[review_df['parent_asin'].isin(valid_ids)].copy()\n"
   ]
  },
  {
   "cell_type": "code",
   "execution_count": 80,
   "metadata": {},
   "outputs": [],
   "source": [
    "# Sort reviews by time (oldest first) and group by product to calculate early verified ratio\n",
    "early_verified = (\n",
    "    products_min_20_reviews.sort_values('time_of_review')\n",
    "    .groupby('parent_asin')\n",
    "    .head(5)\n",
    "    .groupby('parent_asin')['verified_purchase']\n",
    "    .mean()\n",
    "    .rename('early_verified_ratio')\n",
    ")\n"
   ]
  },
  {
   "cell_type": "code",
   "execution_count": 81,
   "metadata": {},
   "outputs": [],
   "source": [
    "#calculate early_rating_average\n",
    "early_ratings = (\n",
    "    products_min_20_reviews.sort_values('time_of_review')\n",
    "    .groupby('parent_asin')\n",
    "    .head(5)\n",
    "    .groupby('parent_asin')['rating_by_user']\n",
    "    .agg(['mean', 'count'])\n",
    "    .rename(columns={'mean': 'early_rating_avg', 'count': 'early_review_count'})\n",
    ")"
   ]
  },
  {
   "cell_type": "code",
   "execution_count": 82,
   "metadata": {},
   "outputs": [],
   "source": [
    "#calculate early_sentiment_score\n",
    "early_sentiment = (\n",
    "    products_min_20_reviews.sort_values('time_of_review')\n",
    "    .groupby('parent_asin')\n",
    "    .head(5)\n",
    "    .groupby('parent_asin')['review_sentiment']\n",
    "    .mean()\n",
    "    .rename('early_sentiment')\n",
    ")"
   ]
  },
  {
   "cell_type": "code",
   "execution_count": 83,
   "metadata": {},
   "outputs": [],
   "source": [
    "#calculate word counts in review title/text\n",
    "early_wordcounts = (\n",
    "    products_min_20_reviews.sort_values('time_of_review')\n",
    "    .groupby('parent_asin')\n",
    "    .head(5)\n",
    "    .groupby('parent_asin')[['review_title_word_counts', 'review_text_word_counts']]\n",
    "    .mean()\n",
    "    .rename(columns={'review_title_word_counts': 'early_review_title_word_counts', 'review_text_word_counts': 'early_review_text_word_counts'})\n",
    ")"
   ]
  },
  {
   "cell_type": "code",
   "execution_count": 84,
   "metadata": {},
   "outputs": [
    {
     "data": {
      "text/html": [
       "<div>\n",
       "<style scoped>\n",
       "    .dataframe tbody tr th:only-of-type {\n",
       "        vertical-align: middle;\n",
       "    }\n",
       "\n",
       "    .dataframe tbody tr th {\n",
       "        vertical-align: top;\n",
       "    }\n",
       "\n",
       "    .dataframe thead th {\n",
       "        text-align: right;\n",
       "    }\n",
       "</style>\n",
       "<table border=\"1\" class=\"dataframe\">\n",
       "  <thead>\n",
       "    <tr style=\"text-align: right;\">\n",
       "      <th></th>\n",
       "      <th>parent_asin</th>\n",
       "      <th>early_rating_avg</th>\n",
       "      <th>early_review_count</th>\n",
       "      <th>early_verified_ratio</th>\n",
       "      <th>early_sentiment</th>\n",
       "      <th>early_review_title_word_counts</th>\n",
       "      <th>early_review_text_word_counts</th>\n",
       "    </tr>\n",
       "  </thead>\n",
       "  <tbody>\n",
       "    <tr>\n",
       "      <th>0</th>\n",
       "      <td>B001RMKWM6</td>\n",
       "      <td>3.6</td>\n",
       "      <td>5</td>\n",
       "      <td>0.6</td>\n",
       "      <td>0.26130</td>\n",
       "      <td>2.8</td>\n",
       "      <td>56.8</td>\n",
       "    </tr>\n",
       "    <tr>\n",
       "      <th>1</th>\n",
       "      <td>B0155Y8RQY</td>\n",
       "      <td>5.0</td>\n",
       "      <td>5</td>\n",
       "      <td>1.0</td>\n",
       "      <td>0.71510</td>\n",
       "      <td>2.6</td>\n",
       "      <td>14.8</td>\n",
       "    </tr>\n",
       "    <tr>\n",
       "      <th>2</th>\n",
       "      <td>B0157CCJ7C</td>\n",
       "      <td>4.8</td>\n",
       "      <td>5</td>\n",
       "      <td>1.0</td>\n",
       "      <td>0.81328</td>\n",
       "      <td>3.8</td>\n",
       "      <td>15.6</td>\n",
       "    </tr>\n",
       "    <tr>\n",
       "      <th>3</th>\n",
       "      <td>B0158SFDUA</td>\n",
       "      <td>5.0</td>\n",
       "      <td>5</td>\n",
       "      <td>1.0</td>\n",
       "      <td>0.90284</td>\n",
       "      <td>2.4</td>\n",
       "      <td>22.8</td>\n",
       "    </tr>\n",
       "    <tr>\n",
       "      <th>4</th>\n",
       "      <td>B01591IOQG</td>\n",
       "      <td>5.0</td>\n",
       "      <td>5</td>\n",
       "      <td>0.8</td>\n",
       "      <td>0.88314</td>\n",
       "      <td>3.6</td>\n",
       "      <td>39.6</td>\n",
       "    </tr>\n",
       "  </tbody>\n",
       "</table>\n",
       "</div>"
      ],
      "text/plain": [
       "  parent_asin  early_rating_avg  early_review_count  early_verified_ratio  \\\n",
       "0  B001RMKWM6               3.6                   5                   0.6   \n",
       "1  B0155Y8RQY               5.0                   5                   1.0   \n",
       "2  B0157CCJ7C               4.8                   5                   1.0   \n",
       "3  B0158SFDUA               5.0                   5                   1.0   \n",
       "4  B01591IOQG               5.0                   5                   0.8   \n",
       "\n",
       "   early_sentiment  early_review_title_word_counts  \\\n",
       "0          0.26130                             2.8   \n",
       "1          0.71510                             2.6   \n",
       "2          0.81328                             3.8   \n",
       "3          0.90284                             2.4   \n",
       "4          0.88314                             3.6   \n",
       "\n",
       "   early_review_text_word_counts  \n",
       "0                           56.8  \n",
       "1                           14.8  \n",
       "2                           15.6  \n",
       "3                           22.8  \n",
       "4                           39.6  "
      ]
     },
     "execution_count": 84,
     "metadata": {},
     "output_type": "execute_result"
    }
   ],
   "source": [
    "# Combine all features into a dataframe \n",
    "early_features = pd.concat([early_ratings, early_verified, early_sentiment,early_wordcounts], axis=1)\n",
    "\n",
    "early_features = early_features.reset_index()\n",
    "early_features.head()"
   ]
  },
  {
   "cell_type": "code",
   "execution_count": 85,
   "metadata": {},
   "outputs": [
    {
     "data": {
      "text/plain": [
       "early_review_count\n",
       "5    4630\n",
       "Name: count, dtype: int64"
      ]
     },
     "execution_count": 85,
     "metadata": {},
     "output_type": "execute_result"
    }
   ],
   "source": [
    "#sanity check that there are only 5 reviews per product\n",
    "early_features['early_review_count'].value_counts()"
   ]
  },
  {
   "cell_type": "code",
   "execution_count": 86,
   "metadata": {},
   "outputs": [],
   "source": [
    "#we can now delete this column\n",
    "early_features.drop(columns='early_review_count',inplace=True)"
   ]
  },
  {
   "cell_type": "markdown",
   "metadata": {},
   "source": [
    "### <a id='toc1_1_6_'></a>[Temporal nature of reviews](#toc0_)"
   ]
  },
  {
   "cell_type": "markdown",
   "metadata": {},
   "source": [
    "This section analyzes products with sufficient review history to quantify how early ratings (first 5 reviews) predict long-term popularity. We’ll also identify products where early signals diverged from final outcomes"
   ]
  },
  {
   "cell_type": "code",
   "execution_count": 87,
   "metadata": {},
   "outputs": [
    {
     "name": "stdout",
     "output_type": "stream",
     "text": [
      "Eligible products: 2816 out of Total Products: 164728\n"
     ]
    }
   ],
   "source": [
    "# Filter products with robust review history so that we can calculate a meaningful long term rating\n",
    "MIN_REVIEWS = 30   # Minimum number of reviews\n",
    "MIN_DAYS = 90      # At least 3 months of data\n",
    "\n",
    "eligible_products = review_df.groupby('parent_asin').filter(\n",
    "    lambda x: (len(x) >= MIN_REVIEWS) & \n",
    "              ((x['time_of_review'].max() - x['time_of_review'].min()).days >= MIN_DAYS)\n",
    ")\n",
    "\n",
    "print(f\"Eligible products: {eligible_products['parent_asin'].nunique()} out of Total Products: {review_df['parent_asin'].nunique()}\")"
   ]
  },
  {
   "cell_type": "code",
   "execution_count": 88,
   "metadata": {},
   "outputs": [],
   "source": [
    "eligible_products['long_term_rating'] = eligible_products.groupby('parent_asin',as_index=False)['rating_by_user'].transform('median')\n",
    "\n",
    "eligible_products = eligible_products.merge(early_features[['parent_asin','early_rating_avg']], on ='parent_asin',how='left')"
   ]
  },
  {
   "cell_type": "code",
   "execution_count": 89,
   "metadata": {},
   "outputs": [
    {
     "data": {
      "text/plain": [
       "count    216067.000000\n",
       "mean          0.270268\n",
       "std           0.514390\n",
       "min          -3.200000\n",
       "25%           0.000000\n",
       "50%           0.000000\n",
       "75%           0.400000\n",
       "max           3.000000\n",
       "Name: delta_ratings, dtype: float64"
      ]
     },
     "execution_count": 89,
     "metadata": {},
     "output_type": "execute_result"
    }
   ],
   "source": [
    "#calculate delta between long term and early ratings\n",
    "eligible_products['delta_ratings'] = eligible_products['long_term_rating'] - eligible_products['early_rating_avg']\n",
    "eligible_products['delta_ratings'].describe()\n"
   ]
  },
  {
   "cell_type": "markdown",
   "metadata": {},
   "source": [
    "While most products show no difference between the early rating average and the long-term rating, there are a few outliers. We see a few examples of these outliers below."
   ]
  },
  {
   "cell_type": "code",
   "execution_count": 90,
   "metadata": {},
   "outputs": [
    {
     "data": {
      "text/html": [
       "<div>\n",
       "<style scoped>\n",
       "    .dataframe tbody tr th:only-of-type {\n",
       "        vertical-align: middle;\n",
       "    }\n",
       "\n",
       "    .dataframe tbody tr th {\n",
       "        vertical-align: top;\n",
       "    }\n",
       "\n",
       "    .dataframe thead th {\n",
       "        text-align: right;\n",
       "    }\n",
       "</style>\n",
       "<table border=\"1\" class=\"dataframe\">\n",
       "  <thead>\n",
       "    <tr style=\"text-align: right;\">\n",
       "      <th></th>\n",
       "      <th>rating_by_user</th>\n",
       "      <th>title</th>\n",
       "      <th>text_review</th>\n",
       "      <th>images</th>\n",
       "      <th>product_id</th>\n",
       "      <th>parent_asin</th>\n",
       "      <th>user_id</th>\n",
       "      <th>time_of_review</th>\n",
       "      <th>helpful_vote</th>\n",
       "      <th>verified_purchase</th>\n",
       "      <th>review_title_cleaned</th>\n",
       "      <th>review_text_cleaned</th>\n",
       "      <th>review_text_word_counts</th>\n",
       "      <th>review_title_word_counts</th>\n",
       "      <th>review</th>\n",
       "      <th>review_sentiment</th>\n",
       "      <th>long_term_rating</th>\n",
       "      <th>early_rating_avg</th>\n",
       "      <th>delta_ratings</th>\n",
       "    </tr>\n",
       "  </thead>\n",
       "  <tbody>\n",
       "    <tr>\n",
       "      <th>0</th>\n",
       "      <td>1</td>\n",
       "      <td>Garbage</td>\n",
       "      <td>Cheaply made, impossibly small, with no gift b...</td>\n",
       "      <td>[{'small_image_url': 'https://m.media-amazon.c...</td>\n",
       "      <td>B08CTCMGYL</td>\n",
       "      <td>B08ZYQHW7Y</td>\n",
       "      <td>AF3R4PFRYJWNA323LFMFN7CZWCVQ</td>\n",
       "      <td>2022-11-18 19:40:42.532</td>\n",
       "      <td>0</td>\n",
       "      <td>True</td>\n",
       "      <td>Garbage</td>\n",
       "      <td>Cheaply made  impossibly small  with no gift b...</td>\n",
       "      <td>22</td>\n",
       "      <td>1</td>\n",
       "      <td>Garbage Cheaply made, impossibly small, with n...</td>\n",
       "      <td>-0.7494</td>\n",
       "      <td>1.0</td>\n",
       "      <td>4.2</td>\n",
       "      <td>-3.2</td>\n",
       "    </tr>\n",
       "    <tr>\n",
       "      <th>1</th>\n",
       "      <td>1</td>\n",
       "      <td>Do not lay flat to the ear as shown in picture</td>\n",
       "      <td>Do not lay flat to the ear as picture show it ...</td>\n",
       "      <td>[]</td>\n",
       "      <td>B08BNR4RMY</td>\n",
       "      <td>B08ZYQHW7Y</td>\n",
       "      <td>AEJFSONVKQ4CLAFNKULGJBSHZZWA</td>\n",
       "      <td>2022-01-01 15:45:43.239</td>\n",
       "      <td>0</td>\n",
       "      <td>True</td>\n",
       "      <td>Do not lay flat to the ear as shown in picture</td>\n",
       "      <td>Do not lay flat to the ear as picture show it ...</td>\n",
       "      <td>12</td>\n",
       "      <td>11</td>\n",
       "      <td>Do not lay flat to the ear as shown in picture...</td>\n",
       "      <td>0.0000</td>\n",
       "      <td>1.0</td>\n",
       "      <td>4.2</td>\n",
       "      <td>-3.2</td>\n",
       "    </tr>\n",
       "    <tr>\n",
       "      <th>2</th>\n",
       "      <td>2</td>\n",
       "      <td>Do not stay in place</td>\n",
       "      <td>They look like hammered partial paper clips bu...</td>\n",
       "      <td>[]</td>\n",
       "      <td>B08BNR4RMY</td>\n",
       "      <td>B08ZYQHW7Y</td>\n",
       "      <td>AHN7R73BN5RPOABGO3TGQGLMUEEA</td>\n",
       "      <td>2023-01-05 22:45:29.511</td>\n",
       "      <td>1</td>\n",
       "      <td>True</td>\n",
       "      <td>Do not stay in place</td>\n",
       "      <td>They look like hammered partial paper clips bu...</td>\n",
       "      <td>41</td>\n",
       "      <td>5</td>\n",
       "      <td>Do not stay in place They look like hammered p...</td>\n",
       "      <td>-0.2960</td>\n",
       "      <td>1.0</td>\n",
       "      <td>4.2</td>\n",
       "      <td>-3.2</td>\n",
       "    </tr>\n",
       "    <tr>\n",
       "      <th>3</th>\n",
       "      <td>4</td>\n",
       "      <td>Pretty, but small</td>\n",
       "      <td>They are very pretty, but smaller than I expec...</td>\n",
       "      <td>[]</td>\n",
       "      <td>B08CVLW7BK</td>\n",
       "      <td>B08ZYQHW7Y</td>\n",
       "      <td>AH55Z7EM4T5LC2P7UCZX4P2WXTRQ</td>\n",
       "      <td>2021-04-20 03:10:53.141</td>\n",
       "      <td>2</td>\n",
       "      <td>True</td>\n",
       "      <td>Pretty  but small</td>\n",
       "      <td>They are very pretty  but smaller than I expec...</td>\n",
       "      <td>56</td>\n",
       "      <td>3</td>\n",
       "      <td>Pretty, but small They are very pretty, but sm...</td>\n",
       "      <td>0.9030</td>\n",
       "      <td>1.0</td>\n",
       "      <td>4.2</td>\n",
       "      <td>-3.2</td>\n",
       "    </tr>\n",
       "    <tr>\n",
       "      <th>4</th>\n",
       "      <td>1</td>\n",
       "      <td>Cheap</td>\n",
       "      <td>These are cheap. I do not recommend. One of th...</td>\n",
       "      <td>[{'small_image_url': 'https://m.media-amazon.c...</td>\n",
       "      <td>B08CTCRQYL</td>\n",
       "      <td>B08ZYQHW7Y</td>\n",
       "      <td>AEUV3MLBQCGZS2L4D7VD62VZPNRA</td>\n",
       "      <td>2022-08-22 20:14:20.916</td>\n",
       "      <td>0</td>\n",
       "      <td>True</td>\n",
       "      <td>Cheap</td>\n",
       "      <td>These are cheap  I do not recommend  One of th...</td>\n",
       "      <td>31</td>\n",
       "      <td>1</td>\n",
       "      <td>Cheap These are cheap. I do not recommend. One...</td>\n",
       "      <td>-0.7576</td>\n",
       "      <td>1.0</td>\n",
       "      <td>4.2</td>\n",
       "      <td>-3.2</td>\n",
       "    </tr>\n",
       "  </tbody>\n",
       "</table>\n",
       "</div>"
      ],
      "text/plain": [
       "   rating_by_user                                           title  \\\n",
       "0               1                                         Garbage   \n",
       "1               1  Do not lay flat to the ear as shown in picture   \n",
       "2               2                            Do not stay in place   \n",
       "3               4                               Pretty, but small   \n",
       "4               1                                           Cheap   \n",
       "\n",
       "                                         text_review  \\\n",
       "0  Cheaply made, impossibly small, with no gift b...   \n",
       "1  Do not lay flat to the ear as picture show it ...   \n",
       "2  They look like hammered partial paper clips bu...   \n",
       "3  They are very pretty, but smaller than I expec...   \n",
       "4  These are cheap. I do not recommend. One of th...   \n",
       "\n",
       "                                              images  product_id parent_asin  \\\n",
       "0  [{'small_image_url': 'https://m.media-amazon.c...  B08CTCMGYL  B08ZYQHW7Y   \n",
       "1                                                 []  B08BNR4RMY  B08ZYQHW7Y   \n",
       "2                                                 []  B08BNR4RMY  B08ZYQHW7Y   \n",
       "3                                                 []  B08CVLW7BK  B08ZYQHW7Y   \n",
       "4  [{'small_image_url': 'https://m.media-amazon.c...  B08CTCRQYL  B08ZYQHW7Y   \n",
       "\n",
       "                        user_id          time_of_review  helpful_vote  \\\n",
       "0  AF3R4PFRYJWNA323LFMFN7CZWCVQ 2022-11-18 19:40:42.532             0   \n",
       "1  AEJFSONVKQ4CLAFNKULGJBSHZZWA 2022-01-01 15:45:43.239             0   \n",
       "2  AHN7R73BN5RPOABGO3TGQGLMUEEA 2023-01-05 22:45:29.511             1   \n",
       "3  AH55Z7EM4T5LC2P7UCZX4P2WXTRQ 2021-04-20 03:10:53.141             2   \n",
       "4  AEUV3MLBQCGZS2L4D7VD62VZPNRA 2022-08-22 20:14:20.916             0   \n",
       "\n",
       "   verified_purchase                            review_title_cleaned  \\\n",
       "0               True                                         Garbage   \n",
       "1               True  Do not lay flat to the ear as shown in picture   \n",
       "2               True                            Do not stay in place   \n",
       "3               True                               Pretty  but small   \n",
       "4               True                                           Cheap   \n",
       "\n",
       "                                 review_text_cleaned  review_text_word_counts  \\\n",
       "0  Cheaply made  impossibly small  with no gift b...                       22   \n",
       "1  Do not lay flat to the ear as picture show it ...                       12   \n",
       "2  They look like hammered partial paper clips bu...                       41   \n",
       "3  They are very pretty  but smaller than I expec...                       56   \n",
       "4  These are cheap  I do not recommend  One of th...                       31   \n",
       "\n",
       "   review_title_word_counts  \\\n",
       "0                         1   \n",
       "1                        11   \n",
       "2                         5   \n",
       "3                         3   \n",
       "4                         1   \n",
       "\n",
       "                                              review  review_sentiment  \\\n",
       "0  Garbage Cheaply made, impossibly small, with n...           -0.7494   \n",
       "1  Do not lay flat to the ear as shown in picture...            0.0000   \n",
       "2  Do not stay in place They look like hammered p...           -0.2960   \n",
       "3  Pretty, but small They are very pretty, but sm...            0.9030   \n",
       "4  Cheap These are cheap. I do not recommend. One...           -0.7576   \n",
       "\n",
       "   long_term_rating  early_rating_avg  delta_ratings  \n",
       "0               1.0               4.2           -3.2  \n",
       "1               1.0               4.2           -3.2  \n",
       "2               1.0               4.2           -3.2  \n",
       "3               1.0               4.2           -3.2  \n",
       "4               1.0               4.2           -3.2  "
      ]
     },
     "execution_count": 90,
     "metadata": {},
     "output_type": "execute_result"
    }
   ],
   "source": [
    "#Filter products with large deltas\n",
    "interesting = eligible_products[\n",
    "    (abs(eligible_products['delta_ratings']) >= 1.0)  # Large rating shifts\n",
    "].sort_values('delta_ratings', key=abs, ascending=False).reset_index(drop=True)\n",
    "\n",
    "interesting.head()"
   ]
  },
  {
   "cell_type": "code",
   "execution_count": 107,
   "metadata": {},
   "outputs": [
    {
     "data": {
      "image/png": "[encoded data removed]",
      "text/plain": [
       "<Figure size 1000x400 with 1 Axes>"
      ]
     },
     "metadata": {},
     "output_type": "display_data"
    }
   ],
   "source": [
    "#Pick the product with the worst delta\n",
    "item1 = interesting.loc[0, 'parent_asin']\n",
    "\n",
    "#sort reviews by time\n",
    "product_reviews = review_df[review_df['parent_asin'] == item1].sort_values('time_of_review')\n",
    "\n",
    "plt.figure(figsize=(10, 4))\n",
    "\n",
    "plt.plot(product_reviews['time_of_review'], product_reviews['rating_by_user'].expanding().mean(), label='Rolling Avg')\n",
    "plt.scatter(product_reviews['time_of_review'], product_reviews['rating_by_user'], alpha=0.3, label='Individual Ratings')\n",
    "\n",
    "plt.axhline(early_features.loc[early_features['parent_asin']== item1,'early_rating_avg'].values,ls='--',color='red',label='early_rating_avg')\n",
    "plt.axhline(interesting.loc[interesting['parent_asin']== item1,'long_term_rating'].max(),ls='--',color='black',label='long_term_rating')\n",
    "\n",
    "plt.title(f\"Product {item1} Ratings Over Time\")\n",
    "plt.legend()\n",
    "plt.show()\n"
   ]
  },
  {
   "cell_type": "code",
   "execution_count": 106,
   "metadata": {},
   "outputs": [
    {
     "data": {
      "image/png": "[encoded data removed]",
      "text/plain": [
       "<Figure size 1000x400 with 1 Axes>"
      ]
     },
     "metadata": {},
     "output_type": "display_data"
    }
   ],
   "source": [
    "#take an example of a product with delta close to 1\n",
    "\n",
    "item2 = interesting.loc[len(interesting)-1, 'parent_asin']\n",
    "\n",
    "#sort reviews by time\n",
    "product_reviews = review_df[review_df['parent_asin'] == item2].sort_values('time_of_review')\n",
    "\n",
    "plt.figure(figsize=(10, 4))\n",
    "\n",
    "plt.plot(product_reviews['time_of_review'], product_reviews['rating_by_user'].expanding().mean(), label='Rolling Avg')\n",
    "plt.scatter(product_reviews['time_of_review'], product_reviews['rating_by_user'], alpha=0.3, label='Individual Ratings')\n",
    "\n",
    "plt.axhline(early_features.loc[early_features['parent_asin']== item2,'early_rating_avg'].values,ls='--',color='red',label='early_rating_avg')\n",
    "plt.axhline(interesting.loc[interesting['parent_asin']== item2,'long_term_rating'].max(),ls='--',color='black',label='long_term_rating')\n",
    "\n",
    "plt.title(f\"Product {item2} Ratings Over Time\")\n",
    "plt.legend()\n",
    "plt.show()"
   ]
  },
  {
   "cell_type": "markdown",
   "metadata": {},
   "source": [
    "About 50% of the products show no deviation between their early ratings and long term ratings, suggesting that early ratings could be a useful predictor of long-term product popularity."
   ]
  },
  {
   "cell_type": "markdown",
   "metadata": {},
   "source": [
    "### <a id='toc1_1_7_'></a>[Pickling the dataframe](#toc0_)"
   ]
  },
  {
   "cell_type": "code",
   "execution_count": 71,
   "metadata": {},
   "outputs": [
    {
     "data": {
      "text/plain": [
       "Index(['parent_asin', 'early_rating_avg', 'early_verified_ratio',\n",
       "       'early_sentiment', 'early_review_title_word_counts',\n",
       "       'early_review_text_word_counts'],\n",
       "      dtype='object')"
      ]
     },
     "execution_count": 71,
     "metadata": {},
     "output_type": "execute_result"
    }
   ],
   "source": [
    "#display the columns in the final dataframe\n",
    "early_features.columns"
   ]
  },
  {
   "cell_type": "code",
   "execution_count": 108,
   "metadata": {},
   "outputs": [
    {
     "data": {
      "text/plain": [
       "Series([], dtype: int64)"
      ]
     },
     "execution_count": 108,
     "metadata": {},
     "output_type": "execute_result"
    }
   ],
   "source": [
    "#sanity check missing values \n",
    "early_features.isna().sum().loc[lambda x: x>0]"
   ]
  },
  {
   "cell_type": "code",
   "execution_count": 72,
   "metadata": {},
   "outputs": [],
   "source": [
    "early_features.to_pickle('../data/early_reviews.pkl')"
   ]
  },
  {
   "cell_type": "markdown",
   "metadata": {},
   "source": [
    "### Conclusion"
   ]
  },
  {
   "cell_type": "markdown",
   "metadata": {},
   "source": [
    "In this notebook, we created a dataframe containing the average ratings, verified purchase ratio, sentiment, and word counts in review texts for products with sufficient review history. Next, we will examine how incorporating these review-based features alongside product metadata impacts popularity prediction."
   ]
  }
 ],
 "metadata": {
  "kernelspec": {
   "display_name": "capstone_env",
   "language": "python",
   "name": "python3"
  },
  "language_info": {
   "codemirror_mode": {
    "name": "ipython",
    "version": 3
   },
   "file_extension": ".py",
   "mimetype": "text/x-python",
   "name": "python",
   "nbconvert_exporter": "python",
   "pygments_lexer": "ipython3",
   "version": "3.9.21"
  },
  "orig_nbformat": 4
 },
 "nbformat": 4,
 "nbformat_minor": 2
}
