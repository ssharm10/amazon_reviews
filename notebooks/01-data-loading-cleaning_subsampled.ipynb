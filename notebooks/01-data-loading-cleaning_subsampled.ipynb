{
 "cells": [
  {
   "cell_type": "markdown",
   "metadata": {},
   "source": [
    "## <a id='toc1_1_'></a>[Data Loading and Cleaning](#toc0_)\n",
    "**Name**: Soniya Sharma  \n",
    "**Contact**: soniya.iiser@gmail.com  \n",
    "**Date**: 02/17/2025  "
   ]
  },
  {
   "cell_type": "markdown",
   "metadata": {},
   "source": [
    "**Table of contents**<a id='toc0_'></a>    \n",
    "- [Data Loading and Cleaning](#toc1_1_)    \n",
    "    - [Introduction](#toc1_1_1_)    \n",
    "      - [Downloading Amazon dataset](#toc1_1_1_1_)    \n",
    "      - [Importing Python Libraries](#toc1_1_1_2_)    \n",
    "    - [Loading the meta dataset](#toc1_1_2_)    \n",
    "      - [Categories column](#toc1_1_2_1_)    \n",
    "        - [Observations on Categories:](#toc1_1_2_1_1_)    \n",
    "      - [Details Column](#toc1_1_2_2_)    \n",
    "      - [Department Column](#toc1_1_2_3_)    \n",
    "    - [Loading Review dataset](#toc1_1_3_)    \n",
    "    - [Merging datasets](#toc1_1_4_)    \n",
    "\n",
    "<!-- vscode-jupyter-toc-config\n",
    "\tnumbering=false\n",
    "\tanchor=true\n",
    "\tflat=false\n",
    "\tminLevel=1\n",
    "\tmaxLevel=6\n",
    "\t/vscode-jupyter-toc-config -->\n",
    "<!-- THIS CELL WILL BE REPLACED ON TOC UPDATE. DO NOT WRITE YOUR TEXT IN THIS CELL -->"
   ]
  },
  {
   "cell_type": "markdown",
   "metadata": {},
   "source": [
    "### <a id='toc1_1_1_'></a>[Introduction](#toc0_)"
   ]
  },
  {
   "cell_type": "markdown",
   "metadata": {},
   "source": [
    "In this notebook, our main focus is to understand and clean a small sample of reviews and meta datasets and eventually merge the datasets."
   ]
  },
  {
   "cell_type": "markdown",
   "metadata": {},
   "source": [
    "#### <a id='toc1_1_1_1_'></a>[Downloading Amazon dataset](#toc0_)"
   ]
  },
  {
   "cell_type": "markdown",
   "metadata": {},
   "source": [
    "You can download the necessary dataset from [here](https://huggingface.co/datasets/McAuley-Lab/Amazon-Reviews-2023/tree/main/raw). I am using the reviews and meta data for Handmade_products category.\n",
    "\n",
    "Amazon Review 2023 is an updated version of the Amazon Review 2018 dataset.\n",
    "This dataset mainly includes reviews (ratings, text) and item metadata (desc-\n",
    "riptions, category information, price, brand, and images). Compared to the pre-\n",
    "vious versions, the 2023 version features larger size, newer reviews (up to Sep\n",
    "2023), richer and cleaner meta data, and finer-grained timestamps (from day to \n",
    "milli-second)."
   ]
  },
  {
   "cell_type": "markdown",
   "metadata": {},
   "source": [
    "#### <a id='toc1_1_1_2_'></a>[Importing Python Libraries](#toc0_)"
   ]
  },
  {
   "cell_type": "markdown",
   "metadata": {},
   "source": [
    "Importing necessary libraries for data pre-processing"
   ]
  },
  {
   "cell_type": "code",
   "execution_count": 1,
   "metadata": {},
   "outputs": [],
   "source": [
    "import pandas as pd\n",
    "import numpy as np\n",
    "import seaborn as sns\n",
    "import matplotlib.pyplot as plt\n",
    "import regex as re\n",
    "\n",
    "# # Ignore all warnings to avoid cluttering the output\n",
    "import warnings\n",
    "warnings.filterwarnings(\"ignore\")"
   ]
  },
  {
   "cell_type": "code",
   "execution_count": 2,
   "metadata": {},
   "outputs": [],
   "source": [
    "#Useful settings\n",
    "\n",
    "#pd.set_option('display.max_columns', None) # show all dataframe columns\n",
    "# set matplotlib global settings eg. figsize\n",
    "plt.rcParams['figure.figsize'] = (8.0, 6.0)\n",
    "\n",
    "sns.set_style(\"darkgrid\")  #Setting grid style in seaborn\n",
    "\n",
    "#pd.set_option('display.max_colwidth', 1000)  # display long column titles"
   ]
  },
  {
   "cell_type": "markdown",
   "metadata": {},
   "source": [
    "### <a id='toc1_1_2_'></a>[Loading the meta dataset](#toc0_)"
   ]
  },
  {
   "cell_type": "markdown",
   "metadata": {},
   "source": [
    "Overview: Contains item meta data including average_rating, rating_number, features etc.\n",
    "\n",
    "Step: Importing meta data into a new dataframe meta_df."
   ]
  },
  {
   "cell_type": "code",
   "execution_count": 3,
   "metadata": {},
   "outputs": [
    {
     "data": {
      "text/html": [
       "<div>\n",
       "<style scoped>\n",
       "    .dataframe tbody tr th:only-of-type {\n",
       "        vertical-align: middle;\n",
       "    }\n",
       "\n",
       "    .dataframe tbody tr th {\n",
       "        vertical-align: top;\n",
       "    }\n",
       "\n",
       "    .dataframe thead th {\n",
       "        text-align: right;\n",
       "    }\n",
       "</style>\n",
       "<table border=\"1\" class=\"dataframe\">\n",
       "  <thead>\n",
       "    <tr style=\"text-align: right;\">\n",
       "      <th></th>\n",
       "      <th>main_category</th>\n",
       "      <th>title</th>\n",
       "      <th>average_rating</th>\n",
       "      <th>rating_number</th>\n",
       "      <th>features</th>\n",
       "      <th>description</th>\n",
       "      <th>price</th>\n",
       "      <th>images</th>\n",
       "      <th>videos</th>\n",
       "      <th>store</th>\n",
       "      <th>categories</th>\n",
       "      <th>details</th>\n",
       "      <th>parent_asin</th>\n",
       "      <th>bought_together</th>\n",
       "    </tr>\n",
       "  </thead>\n",
       "  <tbody>\n",
       "    <tr>\n",
       "      <th>0</th>\n",
       "      <td>Handmade</td>\n",
       "      <td>Daisy Keychain Wristlet Gray Fabric Key fob La...</td>\n",
       "      <td>4.5</td>\n",
       "      <td>12</td>\n",
       "      <td>[High Quality Fabrics, Antique Brass Metallic ...</td>\n",
       "      <td>[This charming Daisy Fabric Keychain wristlet ...</td>\n",
       "      <td>NaN</td>\n",
       "      <td>[{'thumb': 'https://m.media-amazon.com/images/...</td>\n",
       "      <td>[]</td>\n",
       "      <td>Generic</td>\n",
       "      <td>[Handmade Products, Clothing, Shoes &amp; Accessor...</td>\n",
       "      <td>{'Package Dimensions': '8 x 4 x 0.85 inches; 0...</td>\n",
       "      <td>B07NTK7T5P</td>\n",
       "      <td>NaN</td>\n",
       "    </tr>\n",
       "    <tr>\n",
       "      <th>1</th>\n",
       "      <td>Handmade</td>\n",
       "      <td>Anemone Jewelry Beauteous November Birthstone ...</td>\n",
       "      <td>4.1</td>\n",
       "      <td>10</td>\n",
       "      <td>[Stunning gemstone and detailed design, Bands ...</td>\n",
       "      <td>[Anemone brings this November birthstone ring ...</td>\n",
       "      <td>69.00</td>\n",
       "      <td>[{'thumb': 'https://m.media-amazon.com/images/...</td>\n",
       "      <td>[]</td>\n",
       "      <td>Anemone Jewelry</td>\n",
       "      <td>[Handmade Products, Jewelry, Rings, Statement]</td>\n",
       "      <td>{'Department': 'womens', 'Date First Available...</td>\n",
       "      <td>B0751M85FV</td>\n",
       "      <td>NaN</td>\n",
       "    </tr>\n",
       "    <tr>\n",
       "      <th>2</th>\n",
       "      <td>Handmade</td>\n",
       "      <td>Silver Triangle Earrings with Chevron Pattern</td>\n",
       "      <td>5.0</td>\n",
       "      <td>1</td>\n",
       "      <td>[]</td>\n",
       "      <td>[These large silver triangles are stamped with...</td>\n",
       "      <td>NaN</td>\n",
       "      <td>[{'thumb': 'https://m.media-amazon.com/images/...</td>\n",
       "      <td>[]</td>\n",
       "      <td>Zoë Noelle Designs</td>\n",
       "      <td>[Handmade Products, Jewelry, Earrings, Drop &amp; ...</td>\n",
       "      <td>{'Department': 'Women', 'Date First Available'...</td>\n",
       "      <td>B01HYNE114</td>\n",
       "      <td>NaN</td>\n",
       "    </tr>\n",
       "    <tr>\n",
       "      <th>3</th>\n",
       "      <td>Handmade</td>\n",
       "      <td>Las Vegas Subway Sign Print - Caesar's, Freemo...</td>\n",
       "      <td>1.0</td>\n",
       "      <td>1</td>\n",
       "      <td>[]</td>\n",
       "      <td>[Subway Signs make fabulous wall art. A bit of...</td>\n",
       "      <td>19.95</td>\n",
       "      <td>[{'thumb': 'https://m.media-amazon.com/images/...</td>\n",
       "      <td>[]</td>\n",
       "      <td>Generic</td>\n",
       "      <td>[Handmade Products, Home &amp; Kitchen, Artwork, P...</td>\n",
       "      <td>{'Date First Available': 'June 14, 2018'}</td>\n",
       "      <td>B07TKZF3Z1</td>\n",
       "      <td>NaN</td>\n",
       "    </tr>\n",
       "    <tr>\n",
       "      <th>4</th>\n",
       "      <td>Handmade</td>\n",
       "      <td>Round Cut Cubic Zirconia Stud Earrings Fashion...</td>\n",
       "      <td>4.2</td>\n",
       "      <td>2</td>\n",
       "      <td>[⭐【Size】The remarkable cubic zirconia studs ha...</td>\n",
       "      <td>[]</td>\n",
       "      <td>14.99</td>\n",
       "      <td>[{'thumb': 'https://m.media-amazon.com/images/...</td>\n",
       "      <td>[]</td>\n",
       "      <td>VDKIDKT</td>\n",
       "      <td>[Handmade Products, Jewelry, Earrings, Stud]</td>\n",
       "      <td>{'Package Dimensions': '2.36 x 2.05 x 1.65 inc...</td>\n",
       "      <td>B0BKBJT5MM</td>\n",
       "      <td>NaN</td>\n",
       "    </tr>\n",
       "  </tbody>\n",
       "</table>\n",
       "</div>"
      ],
      "text/plain": [
       "  main_category                                              title  \\\n",
       "0      Handmade  Daisy Keychain Wristlet Gray Fabric Key fob La...   \n",
       "1      Handmade  Anemone Jewelry Beauteous November Birthstone ...   \n",
       "2      Handmade      Silver Triangle Earrings with Chevron Pattern   \n",
       "3      Handmade  Las Vegas Subway Sign Print - Caesar's, Freemo...   \n",
       "4      Handmade  Round Cut Cubic Zirconia Stud Earrings Fashion...   \n",
       "\n",
       "   average_rating  rating_number  \\\n",
       "0             4.5             12   \n",
       "1             4.1             10   \n",
       "2             5.0              1   \n",
       "3             1.0              1   \n",
       "4             4.2              2   \n",
       "\n",
       "                                            features  \\\n",
       "0  [High Quality Fabrics, Antique Brass Metallic ...   \n",
       "1  [Stunning gemstone and detailed design, Bands ...   \n",
       "2                                                 []   \n",
       "3                                                 []   \n",
       "4  [⭐【Size】The remarkable cubic zirconia studs ha...   \n",
       "\n",
       "                                         description  price  \\\n",
       "0  [This charming Daisy Fabric Keychain wristlet ...    NaN   \n",
       "1  [Anemone brings this November birthstone ring ...  69.00   \n",
       "2  [These large silver triangles are stamped with...    NaN   \n",
       "3  [Subway Signs make fabulous wall art. A bit of...  19.95   \n",
       "4                                                 []  14.99   \n",
       "\n",
       "                                              images videos  \\\n",
       "0  [{'thumb': 'https://m.media-amazon.com/images/...     []   \n",
       "1  [{'thumb': 'https://m.media-amazon.com/images/...     []   \n",
       "2  [{'thumb': 'https://m.media-amazon.com/images/...     []   \n",
       "3  [{'thumb': 'https://m.media-amazon.com/images/...     []   \n",
       "4  [{'thumb': 'https://m.media-amazon.com/images/...     []   \n",
       "\n",
       "                store                                         categories  \\\n",
       "0             Generic  [Handmade Products, Clothing, Shoes & Accessor...   \n",
       "1     Anemone Jewelry     [Handmade Products, Jewelry, Rings, Statement]   \n",
       "2  Zoë Noelle Designs  [Handmade Products, Jewelry, Earrings, Drop & ...   \n",
       "3             Generic  [Handmade Products, Home & Kitchen, Artwork, P...   \n",
       "4             VDKIDKT       [Handmade Products, Jewelry, Earrings, Stud]   \n",
       "\n",
       "                                             details parent_asin  \\\n",
       "0  {'Package Dimensions': '8 x 4 x 0.85 inches; 0...  B07NTK7T5P   \n",
       "1  {'Department': 'womens', 'Date First Available...  B0751M85FV   \n",
       "2  {'Department': 'Women', 'Date First Available'...  B01HYNE114   \n",
       "3          {'Date First Available': 'June 14, 2018'}  B07TKZF3Z1   \n",
       "4  {'Package Dimensions': '2.36 x 2.05 x 1.65 inc...  B0BKBJT5MM   \n",
       "\n",
       "   bought_together  \n",
       "0              NaN  \n",
       "1              NaN  \n",
       "2              NaN  \n",
       "3              NaN  \n",
       "4              NaN  "
      ]
     },
     "execution_count": 3,
     "metadata": {},
     "output_type": "execute_result"
    }
   ],
   "source": [
    "# Load the Meta data json file into a dataframe\n",
    "meta_df = pd.read_json('../data/meta_Handmade_Products.jsonl',lines=True)\n",
    "\n",
    "# Display the first few rows of the 'meta_df' DataFrame\n",
    "meta_df.head()"
   ]
  },
  {
   "cell_type": "code",
   "execution_count": 4,
   "metadata": {},
   "outputs": [
    {
     "name": "stdout",
     "output_type": "stream",
     "text": [
      "<class 'pandas.core.frame.DataFrame'>\n",
      "RangeIndex: 164817 entries, 0 to 164816\n",
      "Data columns (total 14 columns):\n",
      " #   Column           Non-Null Count   Dtype  \n",
      "---  ------           --------------   -----  \n",
      " 0   main_category    164803 non-null  object \n",
      " 1   title            164817 non-null  object \n",
      " 2   average_rating   164817 non-null  float64\n",
      " 3   rating_number    164817 non-null  int64  \n",
      " 4   features         164817 non-null  object \n",
      " 5   description      164817 non-null  object \n",
      " 6   price            97648 non-null   float64\n",
      " 7   images           164817 non-null  object \n",
      " 8   videos           164817 non-null  object \n",
      " 9   store            163699 non-null  object \n",
      " 10  categories       164817 non-null  object \n",
      " 11  details          164817 non-null  object \n",
      " 12  parent_asin      164817 non-null  object \n",
      " 13  bought_together  0 non-null       float64\n",
      "dtypes: float64(3), int64(1), object(10)\n",
      "memory usage: 17.6+ MB\n"
     ]
    }
   ],
   "source": [
    "# Inspecting meta_df and check its concise summary\n",
    "meta_df.info()"
   ]
  },
  {
   "cell_type": "code",
   "execution_count": 5,
   "metadata": {},
   "outputs": [
    {
     "name": "stdout",
     "output_type": "stream",
     "text": [
      "The shape of the amazon meta dataset is 164817 by 14.\n"
     ]
    }
   ],
   "source": [
    "# Print the shape of the 'meta_df' DataFrame\n",
    "print(f\"The shape of the amazon meta dataset is {meta_df.shape[0]} by {meta_df.shape[1]}.\")"
   ]
  },
  {
   "cell_type": "code",
   "execution_count": 6,
   "metadata": {},
   "outputs": [
    {
     "data": {
      "text/plain": [
       "0"
      ]
     },
     "execution_count": 6,
     "metadata": {},
     "output_type": "execute_result"
    }
   ],
   "source": [
    "# Check duplicated rows (after removing columns that contain lists)\n",
    "meta_df.drop(columns=['categories','features','description','details','images','videos']).duplicated().sum()"
   ]
  },
  {
   "cell_type": "code",
   "execution_count": 7,
   "metadata": {},
   "outputs": [
    {
     "data": {
      "text/plain": [
       "main_category        0.008494\n",
       "title                0.000000\n",
       "average_rating       0.000000\n",
       "rating_number        0.000000\n",
       "features             0.000000\n",
       "description          0.000000\n",
       "price               40.753684\n",
       "images               0.000000\n",
       "videos               0.000000\n",
       "store                0.678328\n",
       "categories           0.000000\n",
       "details              0.000000\n",
       "parent_asin          0.000000\n",
       "bought_together    100.000000\n",
       "dtype: float64"
      ]
     },
     "execution_count": 7,
     "metadata": {},
     "output_type": "execute_result"
    }
   ],
   "source": [
    "#check the proportion of null values \n",
    "meta_df.isnull().mean()*100"
   ]
  },
  {
   "cell_type": "markdown",
   "metadata": {},
   "source": [
    "Since the `bought_together` column contains only null values, we drop it from the dataframe. The features, description, videos, images and categories columns contain lists that are empty; however, since they haven’t been encoded as NaN, the info method does not show them as having null values. For now, we will keep them as they are and decide later whether to convert them into NaNs."
   ]
  },
  {
   "cell_type": "code",
   "execution_count": 8,
   "metadata": {},
   "outputs": [],
   "source": [
    "meta_df.drop(columns='bought_together',inplace=True)"
   ]
  },
  {
   "cell_type": "markdown",
   "metadata": {},
   "source": [
    "We are missing less than 1% of the data in the `main_category` and `store` columns in the meta dataset. Since the missing values are minimal, we will proceed by dropping them."
   ]
  },
  {
   "cell_type": "code",
   "execution_count": 9,
   "metadata": {},
   "outputs": [],
   "source": [
    "meta_df = meta_df.dropna(subset=['main_category','store']).reset_index(drop=True)"
   ]
  },
  {
   "cell_type": "code",
   "execution_count": 10,
   "metadata": {},
   "outputs": [
    {
     "data": {
      "text/plain": [
       "main_category\n",
       "Handmade                  0.999768\n",
       "Amazon Home               0.000067\n",
       "AMAZON FASHION            0.000055\n",
       "Office Products           0.000037\n",
       "Health & Personal Care    0.000018\n",
       "Pet Supplies              0.000018\n",
       "All Beauty                0.000012\n",
       "All Electronics           0.000012\n",
       "Arts, Crafts & Sewing     0.000006\n",
       "Amazon Devices            0.000006\n",
       "Name: proportion, dtype: float64"
      ]
     },
     "execution_count": 10,
     "metadata": {},
     "output_type": "execute_result"
    }
   ],
   "source": [
    "#Checking if all items belong to the category of `Hand made Products`\n",
    "meta_df['main_category'].value_counts(normalize=True,dropna=False) "
   ]
  },
  {
   "cell_type": "markdown",
   "metadata": {},
   "source": [
    "Since the vast majority of the data (99.98%) belongs to the Handmade category, and the remaining categories make up only a tiny fraction of the dataset, we will remove these other categories to ensure we are working with a single, consistent category."
   ]
  },
  {
   "cell_type": "code",
   "execution_count": 11,
   "metadata": {},
   "outputs": [
    {
     "data": {
      "text/plain": [
       "main_category\n",
       "Handmade    163647\n",
       "Name: count, dtype: int64"
      ]
     },
     "execution_count": 11,
     "metadata": {},
     "output_type": "execute_result"
    }
   ],
   "source": [
    "meta_handmade_df = meta_df[meta_df['main_category'] == 'Handmade'].reset_index(drop=True)\n",
    "meta_handmade_df['main_category'].value_counts(dropna= False)"
   ]
  },
  {
   "cell_type": "markdown",
   "metadata": {},
   "source": [
    "A second way to confirm an item’s main_category is by checking the first element in the list stored in the categories column. Before doing that, let’s first check the length of the lists in the categories column."
   ]
  },
  {
   "cell_type": "code",
   "execution_count": 12,
   "metadata": {},
   "outputs": [
    {
     "data": {
      "text/plain": [
       "array([0, 2, 3, 4, 5, 6, 7])"
      ]
     },
     "execution_count": 12,
     "metadata": {},
     "output_type": "execute_result"
    }
   ],
   "source": [
    "np.sort(meta_handmade_df['categories'].map(len).unique())"
   ]
  },
  {
   "cell_type": "code",
   "execution_count": 13,
   "metadata": {},
   "outputs": [
    {
     "name": "stdout",
     "output_type": "stream",
     "text": [
      "There are 1030 records with missing categories.\n"
     ]
    }
   ],
   "source": [
    "print(f\"There are {len(meta_handmade_df[meta_handmade_df['categories'].map(len) == 0])} records with missing categories.\")\n"
   ]
  },
  {
   "cell_type": "code",
   "execution_count": 14,
   "metadata": {},
   "outputs": [
    {
     "data": {
      "text/plain": [
       "0"
      ]
     },
     "execution_count": 14,
     "metadata": {},
     "output_type": "execute_result"
    }
   ],
   "source": [
    "#Since there are only 1,030 such rows, let’s delete them to ensure we are only working with confirmed Handmade category items.\n",
    "meta_handmade_df = meta_handmade_df[meta_handmade_df['categories'].map(len) > 0].reset_index(drop=True)\n",
    "\n",
    "sum(meta_handmade_df['categories'].map(len) == 0)"
   ]
  },
  {
   "cell_type": "markdown",
   "metadata": {},
   "source": [
    "`Price` column  has over 40% of the rows with missing data. For the purposes of initial exploration , we will be using a smaller sample of our dataframe that do not contain missing prices. "
   ]
  },
  {
   "cell_type": "code",
   "execution_count": 15,
   "metadata": {},
   "outputs": [
    {
     "data": {
      "text/html": [
       "<div>\n",
       "<style scoped>\n",
       "    .dataframe tbody tr th:only-of-type {\n",
       "        vertical-align: middle;\n",
       "    }\n",
       "\n",
       "    .dataframe tbody tr th {\n",
       "        vertical-align: top;\n",
       "    }\n",
       "\n",
       "    .dataframe thead th {\n",
       "        text-align: right;\n",
       "    }\n",
       "</style>\n",
       "<table border=\"1\" class=\"dataframe\">\n",
       "  <thead>\n",
       "    <tr style=\"text-align: right;\">\n",
       "      <th></th>\n",
       "      <th>main_category</th>\n",
       "      <th>title</th>\n",
       "      <th>average_rating</th>\n",
       "      <th>rating_number</th>\n",
       "      <th>features</th>\n",
       "      <th>description</th>\n",
       "      <th>price</th>\n",
       "      <th>images</th>\n",
       "      <th>videos</th>\n",
       "      <th>store</th>\n",
       "      <th>categories</th>\n",
       "      <th>details</th>\n",
       "      <th>parent_asin</th>\n",
       "    </tr>\n",
       "  </thead>\n",
       "  <tbody>\n",
       "    <tr>\n",
       "      <th>0</th>\n",
       "      <td>Handmade</td>\n",
       "      <td>Sterling Silver Hammered Ear Cuff</td>\n",
       "      <td>4.4</td>\n",
       "      <td>243</td>\n",
       "      <td>[Solid Sterling Silver, Artisan Handcrafted, C...</td>\n",
       "      <td>[This simple ear cuff is made with solid Sterl...</td>\n",
       "      <td>24.00</td>\n",
       "      <td>[{'thumb': 'https://m.media-amazon.com/images/...</td>\n",
       "      <td>[]</td>\n",
       "      <td>Twisted Designs Jewelry</td>\n",
       "      <td>[Handmade Products, Jewelry, Earrings, Ear Cuff]</td>\n",
       "      <td>{'Package Dimensions': '3.62 x 2.05 x 0.83 inc...</td>\n",
       "      <td>B0178HXZUY</td>\n",
       "    </tr>\n",
       "    <tr>\n",
       "      <th>1</th>\n",
       "      <td>Handmade</td>\n",
       "      <td>Witch Cigarette Case Business Card ID Holder W...</td>\n",
       "      <td>5.0</td>\n",
       "      <td>1</td>\n",
       "      <td>[]</td>\n",
       "      <td>[This silver-tone metal case can be used as a ...</td>\n",
       "      <td>12.99</td>\n",
       "      <td>[{'thumb': 'https://m.media-amazon.com/images/...</td>\n",
       "      <td>[]</td>\n",
       "      <td>Generic</td>\n",
       "      <td>[Handmade Products, Clothing, Shoes &amp; Accessor...</td>\n",
       "      <td>{'Department': 'unisex-adult', 'Date First Ava...</td>\n",
       "      <td>B07B8ZKCVM</td>\n",
       "    </tr>\n",
       "    <tr>\n",
       "      <th>2</th>\n",
       "      <td>Handmade</td>\n",
       "      <td>Humorous Cat Wall Art - Decor for Home, Office...</td>\n",
       "      <td>4.5</td>\n",
       "      <td>108</td>\n",
       "      <td>[8x10 UNFRAMED PRINTS - NOT Canvas or Tin Sign...</td>\n",
       "      <td>[8x10 UNFRAMED Prints]</td>\n",
       "      <td>12.95</td>\n",
       "      <td>[{'thumb': 'https://m.media-amazon.com/images/...</td>\n",
       "      <td>[]</td>\n",
       "      <td>YELLOWBIRD ART &amp; DESIGN</td>\n",
       "      <td>[Handmade Products, Home &amp; Kitchen, Artwork, P...</td>\n",
       "      <td>{'Package Dimensions': '11.2 x 8.8 x 0.2 inche...</td>\n",
       "      <td>B07ZFJXDH8</td>\n",
       "    </tr>\n",
       "    <tr>\n",
       "      <th>3</th>\n",
       "      <td>Handmade</td>\n",
       "      <td>Whiskey Glasses by Black Lantern – Floral Whis...</td>\n",
       "      <td>4.4</td>\n",
       "      <td>11</td>\n",
       "      <td>[PREMIUM GLASSWARE READY TO GIFT - Our glasses...</td>\n",
       "      <td>[]</td>\n",
       "      <td>31.00</td>\n",
       "      <td>[{'thumb': 'https://m.media-amazon.com/images/...</td>\n",
       "      <td>[]</td>\n",
       "      <td>Black Lantern</td>\n",
       "      <td>[Handmade Products, Home &amp; Kitchen, Kitchen &amp; ...</td>\n",
       "      <td>{'Package Dimensions': '9 x 7 x 5 inches', 'Da...</td>\n",
       "      <td>B089LRPX7X</td>\n",
       "    </tr>\n",
       "    <tr>\n",
       "      <th>4</th>\n",
       "      <td>Handmade</td>\n",
       "      <td>LOVE Dog Paw Print Heart Sticker Decal Compati...</td>\n",
       "      <td>4.1</td>\n",
       "      <td>3</td>\n",
       "      <td>[]</td>\n",
       "      <td>[Decal Size: 1\" Tall X 3.2\" Wide Die cut out o...</td>\n",
       "      <td>3.99</td>\n",
       "      <td>[{'thumb': 'https://m.media-amazon.com/images/...</td>\n",
       "      <td>[]</td>\n",
       "      <td>Generic</td>\n",
       "      <td>[Handmade Products, Electronics Accessories, L...</td>\n",
       "      <td>{'Department': 'Womens', 'Date First Available...</td>\n",
       "      <td>B01MXKS1L5</td>\n",
       "    </tr>\n",
       "  </tbody>\n",
       "</table>\n",
       "</div>"
      ],
      "text/plain": [
       "  main_category                                              title  \\\n",
       "0      Handmade                  Sterling Silver Hammered Ear Cuff   \n",
       "1      Handmade  Witch Cigarette Case Business Card ID Holder W...   \n",
       "2      Handmade  Humorous Cat Wall Art - Decor for Home, Office...   \n",
       "3      Handmade  Whiskey Glasses by Black Lantern – Floral Whis...   \n",
       "4      Handmade  LOVE Dog Paw Print Heart Sticker Decal Compati...   \n",
       "\n",
       "   average_rating  rating_number  \\\n",
       "0             4.4            243   \n",
       "1             5.0              1   \n",
       "2             4.5            108   \n",
       "3             4.4             11   \n",
       "4             4.1              3   \n",
       "\n",
       "                                            features  \\\n",
       "0  [Solid Sterling Silver, Artisan Handcrafted, C...   \n",
       "1                                                 []   \n",
       "2  [8x10 UNFRAMED PRINTS - NOT Canvas or Tin Sign...   \n",
       "3  [PREMIUM GLASSWARE READY TO GIFT - Our glasses...   \n",
       "4                                                 []   \n",
       "\n",
       "                                         description  price  \\\n",
       "0  [This simple ear cuff is made with solid Sterl...  24.00   \n",
       "1  [This silver-tone metal case can be used as a ...  12.99   \n",
       "2                             [8x10 UNFRAMED Prints]  12.95   \n",
       "3                                                 []  31.00   \n",
       "4  [Decal Size: 1\" Tall X 3.2\" Wide Die cut out o...   3.99   \n",
       "\n",
       "                                              images videos  \\\n",
       "0  [{'thumb': 'https://m.media-amazon.com/images/...     []   \n",
       "1  [{'thumb': 'https://m.media-amazon.com/images/...     []   \n",
       "2  [{'thumb': 'https://m.media-amazon.com/images/...     []   \n",
       "3  [{'thumb': 'https://m.media-amazon.com/images/...     []   \n",
       "4  [{'thumb': 'https://m.media-amazon.com/images/...     []   \n",
       "\n",
       "                     store                                         categories  \\\n",
       "0  Twisted Designs Jewelry   [Handmade Products, Jewelry, Earrings, Ear Cuff]   \n",
       "1                  Generic  [Handmade Products, Clothing, Shoes & Accessor...   \n",
       "2  YELLOWBIRD ART & DESIGN  [Handmade Products, Home & Kitchen, Artwork, P...   \n",
       "3            Black Lantern  [Handmade Products, Home & Kitchen, Kitchen & ...   \n",
       "4                  Generic  [Handmade Products, Electronics Accessories, L...   \n",
       "\n",
       "                                             details parent_asin  \n",
       "0  {'Package Dimensions': '3.62 x 2.05 x 0.83 inc...  B0178HXZUY  \n",
       "1  {'Department': 'unisex-adult', 'Date First Ava...  B07B8ZKCVM  \n",
       "2  {'Package Dimensions': '11.2 x 8.8 x 0.2 inche...  B07ZFJXDH8  \n",
       "3  {'Package Dimensions': '9 x 7 x 5 inches', 'Da...  B089LRPX7X  \n",
       "4  {'Department': 'Womens', 'Date First Available...  B01MXKS1L5  "
      ]
     },
     "execution_count": 15,
     "metadata": {},
     "output_type": "execute_result"
    }
   ],
   "source": [
    "meta_sample_df = meta_handmade_df[~meta_handmade_df['price'].isnull()].sample(frac=0.5,replace=False, random_state=1).reset_index(drop = True)\n",
    "\n",
    "meta_sample_df.head()"
   ]
  },
  {
   "cell_type": "code",
   "execution_count": 16,
   "metadata": {},
   "outputs": [
    {
     "name": "stdout",
     "output_type": "stream",
     "text": [
      "The shape of the sampled meta dataset is 48576 by 13.\n"
     ]
    }
   ],
   "source": [
    "# Print the shape of the 'meta_sample_df' DataFrame\n",
    "print(f\"The shape of the sampled meta dataset is {meta_sample_df.shape[0]} by {meta_sample_df.shape[1]}.\")"
   ]
  },
  {
   "cell_type": "code",
   "execution_count": 17,
   "metadata": {},
   "outputs": [
    {
     "name": "stdout",
     "output_type": "stream",
     "text": [
      "<class 'pandas.core.frame.DataFrame'>\n",
      "RangeIndex: 48576 entries, 0 to 48575\n",
      "Data columns (total 13 columns):\n",
      " #   Column          Non-Null Count  Dtype  \n",
      "---  ------          --------------  -----  \n",
      " 0   main_category   48576 non-null  object \n",
      " 1   title           48576 non-null  object \n",
      " 2   average_rating  48576 non-null  float64\n",
      " 3   rating_number   48576 non-null  int64  \n",
      " 4   features        48576 non-null  object \n",
      " 5   description     48576 non-null  object \n",
      " 6   price           48576 non-null  float64\n",
      " 7   images          48576 non-null  object \n",
      " 8   videos          48576 non-null  object \n",
      " 9   store           48576 non-null  object \n",
      " 10  categories      48576 non-null  object \n",
      " 11  details         48576 non-null  object \n",
      " 12  parent_asin     48576 non-null  object \n",
      "dtypes: float64(2), int64(1), object(10)\n",
      "memory usage: 4.8+ MB\n"
     ]
    }
   ],
   "source": [
    "#checking df.info\n",
    "meta_sample_df.info()"
   ]
  },
  {
   "cell_type": "markdown",
   "metadata": {},
   "source": [
    "While there are no longer any null values in the dataset, `images`, `videos`, `features`, `description`, `categories` contain lists, with [] representing null values.\n",
    "\n",
    "Since `categories` columns represents the hierarchical categories of the product, we can further split it into subcategory levels."
   ]
  },
  {
   "cell_type": "markdown",
   "metadata": {},
   "source": [
    "#### <a id='toc1_1_2_1_'></a>[Categories column](#toc0_)"
   ]
  },
  {
   "cell_type": "code",
   "execution_count": 18,
   "metadata": {},
   "outputs": [
    {
     "data": {
      "text/html": [
       "<div>\n",
       "<style scoped>\n",
       "    .dataframe tbody tr th:only-of-type {\n",
       "        vertical-align: middle;\n",
       "    }\n",
       "\n",
       "    .dataframe tbody tr th {\n",
       "        vertical-align: top;\n",
       "    }\n",
       "\n",
       "    .dataframe thead th {\n",
       "        text-align: right;\n",
       "    }\n",
       "</style>\n",
       "<table border=\"1\" class=\"dataframe\">\n",
       "  <thead>\n",
       "    <tr style=\"text-align: right;\">\n",
       "      <th></th>\n",
       "      <th>main_category</th>\n",
       "      <th>title</th>\n",
       "      <th>average_rating</th>\n",
       "      <th>rating_number</th>\n",
       "      <th>features</th>\n",
       "      <th>description</th>\n",
       "      <th>price</th>\n",
       "      <th>images</th>\n",
       "      <th>videos</th>\n",
       "      <th>store</th>\n",
       "      <th>categories</th>\n",
       "      <th>details</th>\n",
       "      <th>parent_asin</th>\n",
       "      <th>sub_category_1</th>\n",
       "      <th>sub_category_2</th>\n",
       "      <th>sub_category_3</th>\n",
       "      <th>sub_category_4</th>\n",
       "      <th>sub_category_5</th>\n",
       "      <th>sub_category_6</th>\n",
       "    </tr>\n",
       "  </thead>\n",
       "  <tbody>\n",
       "    <tr>\n",
       "      <th>0</th>\n",
       "      <td>Handmade</td>\n",
       "      <td>Sterling Silver Hammered Ear Cuff</td>\n",
       "      <td>4.4</td>\n",
       "      <td>243</td>\n",
       "      <td>[Solid Sterling Silver, Artisan Handcrafted, C...</td>\n",
       "      <td>[This simple ear cuff is made with solid Sterl...</td>\n",
       "      <td>24.00</td>\n",
       "      <td>[{'thumb': 'https://m.media-amazon.com/images/...</td>\n",
       "      <td>[]</td>\n",
       "      <td>Twisted Designs Jewelry</td>\n",
       "      <td>[Handmade Products, Jewelry, Earrings, Ear Cuff]</td>\n",
       "      <td>{'Package Dimensions': '3.62 x 2.05 x 0.83 inc...</td>\n",
       "      <td>B0178HXZUY</td>\n",
       "      <td>Jewelry</td>\n",
       "      <td>Earrings</td>\n",
       "      <td>Ear Cuff</td>\n",
       "      <td>NaN</td>\n",
       "      <td>NaN</td>\n",
       "      <td>NaN</td>\n",
       "    </tr>\n",
       "    <tr>\n",
       "      <th>1</th>\n",
       "      <td>Handmade</td>\n",
       "      <td>Witch Cigarette Case Business Card ID Holder W...</td>\n",
       "      <td>5.0</td>\n",
       "      <td>1</td>\n",
       "      <td>[]</td>\n",
       "      <td>[This silver-tone metal case can be used as a ...</td>\n",
       "      <td>12.99</td>\n",
       "      <td>[{'thumb': 'https://m.media-amazon.com/images/...</td>\n",
       "      <td>[]</td>\n",
       "      <td>Generic</td>\n",
       "      <td>[Handmade Products, Clothing, Shoes &amp; Accessor...</td>\n",
       "      <td>{'Department': 'unisex-adult', 'Date First Ava...</td>\n",
       "      <td>B07B8ZKCVM</td>\n",
       "      <td>Clothing, Shoes &amp; Accessories</td>\n",
       "      <td>Luggage &amp; Travel Gear</td>\n",
       "      <td>Wallets &amp; Bag Accessories</td>\n",
       "      <td>Cigarette Cases</td>\n",
       "      <td>NaN</td>\n",
       "      <td>NaN</td>\n",
       "    </tr>\n",
       "    <tr>\n",
       "      <th>2</th>\n",
       "      <td>Handmade</td>\n",
       "      <td>Humorous Cat Wall Art - Decor for Home, Office...</td>\n",
       "      <td>4.5</td>\n",
       "      <td>108</td>\n",
       "      <td>[8x10 UNFRAMED PRINTS - NOT Canvas or Tin Sign...</td>\n",
       "      <td>[8x10 UNFRAMED Prints]</td>\n",
       "      <td>12.95</td>\n",
       "      <td>[{'thumb': 'https://m.media-amazon.com/images/...</td>\n",
       "      <td>[]</td>\n",
       "      <td>YELLOWBIRD ART &amp; DESIGN</td>\n",
       "      <td>[Handmade Products, Home &amp; Kitchen, Artwork, P...</td>\n",
       "      <td>{'Package Dimensions': '11.2 x 8.8 x 0.2 inche...</td>\n",
       "      <td>B07ZFJXDH8</td>\n",
       "      <td>Home &amp; Kitchen</td>\n",
       "      <td>Artwork</td>\n",
       "      <td>Prints</td>\n",
       "      <td>NaN</td>\n",
       "      <td>NaN</td>\n",
       "      <td>NaN</td>\n",
       "    </tr>\n",
       "    <tr>\n",
       "      <th>3</th>\n",
       "      <td>Handmade</td>\n",
       "      <td>Whiskey Glasses by Black Lantern – Floral Whis...</td>\n",
       "      <td>4.4</td>\n",
       "      <td>11</td>\n",
       "      <td>[PREMIUM GLASSWARE READY TO GIFT - Our glasses...</td>\n",
       "      <td>[]</td>\n",
       "      <td>31.00</td>\n",
       "      <td>[{'thumb': 'https://m.media-amazon.com/images/...</td>\n",
       "      <td>[]</td>\n",
       "      <td>Black Lantern</td>\n",
       "      <td>[Handmade Products, Home &amp; Kitchen, Kitchen &amp; ...</td>\n",
       "      <td>{'Package Dimensions': '9 x 7 x 5 inches', 'Da...</td>\n",
       "      <td>B089LRPX7X</td>\n",
       "      <td>Home &amp; Kitchen</td>\n",
       "      <td>Kitchen &amp; Dining</td>\n",
       "      <td>Tableware</td>\n",
       "      <td>Glassware</td>\n",
       "      <td>Tumblers</td>\n",
       "      <td>NaN</td>\n",
       "    </tr>\n",
       "    <tr>\n",
       "      <th>4</th>\n",
       "      <td>Handmade</td>\n",
       "      <td>LOVE Dog Paw Print Heart Sticker Decal Compati...</td>\n",
       "      <td>4.1</td>\n",
       "      <td>3</td>\n",
       "      <td>[]</td>\n",
       "      <td>[Decal Size: 1\" Tall X 3.2\" Wide Die cut out o...</td>\n",
       "      <td>3.99</td>\n",
       "      <td>[{'thumb': 'https://m.media-amazon.com/images/...</td>\n",
       "      <td>[]</td>\n",
       "      <td>Generic</td>\n",
       "      <td>[Handmade Products, Electronics Accessories, L...</td>\n",
       "      <td>{'Department': 'Womens', 'Date First Available...</td>\n",
       "      <td>B01MXKS1L5</td>\n",
       "      <td>Electronics Accessories</td>\n",
       "      <td>Laptop Accessories</td>\n",
       "      <td>Skins &amp; Decals</td>\n",
       "      <td>NaN</td>\n",
       "      <td>NaN</td>\n",
       "      <td>NaN</td>\n",
       "    </tr>\n",
       "  </tbody>\n",
       "</table>\n",
       "</div>"
      ],
      "text/plain": [
       "  main_category                                              title  \\\n",
       "0      Handmade                  Sterling Silver Hammered Ear Cuff   \n",
       "1      Handmade  Witch Cigarette Case Business Card ID Holder W...   \n",
       "2      Handmade  Humorous Cat Wall Art - Decor for Home, Office...   \n",
       "3      Handmade  Whiskey Glasses by Black Lantern – Floral Whis...   \n",
       "4      Handmade  LOVE Dog Paw Print Heart Sticker Decal Compati...   \n",
       "\n",
       "   average_rating  rating_number  \\\n",
       "0             4.4            243   \n",
       "1             5.0              1   \n",
       "2             4.5            108   \n",
       "3             4.4             11   \n",
       "4             4.1              3   \n",
       "\n",
       "                                            features  \\\n",
       "0  [Solid Sterling Silver, Artisan Handcrafted, C...   \n",
       "1                                                 []   \n",
       "2  [8x10 UNFRAMED PRINTS - NOT Canvas or Tin Sign...   \n",
       "3  [PREMIUM GLASSWARE READY TO GIFT - Our glasses...   \n",
       "4                                                 []   \n",
       "\n",
       "                                         description  price  \\\n",
       "0  [This simple ear cuff is made with solid Sterl...  24.00   \n",
       "1  [This silver-tone metal case can be used as a ...  12.99   \n",
       "2                             [8x10 UNFRAMED Prints]  12.95   \n",
       "3                                                 []  31.00   \n",
       "4  [Decal Size: 1\" Tall X 3.2\" Wide Die cut out o...   3.99   \n",
       "\n",
       "                                              images videos  \\\n",
       "0  [{'thumb': 'https://m.media-amazon.com/images/...     []   \n",
       "1  [{'thumb': 'https://m.media-amazon.com/images/...     []   \n",
       "2  [{'thumb': 'https://m.media-amazon.com/images/...     []   \n",
       "3  [{'thumb': 'https://m.media-amazon.com/images/...     []   \n",
       "4  [{'thumb': 'https://m.media-amazon.com/images/...     []   \n",
       "\n",
       "                     store                                         categories  \\\n",
       "0  Twisted Designs Jewelry   [Handmade Products, Jewelry, Earrings, Ear Cuff]   \n",
       "1                  Generic  [Handmade Products, Clothing, Shoes & Accessor...   \n",
       "2  YELLOWBIRD ART & DESIGN  [Handmade Products, Home & Kitchen, Artwork, P...   \n",
       "3            Black Lantern  [Handmade Products, Home & Kitchen, Kitchen & ...   \n",
       "4                  Generic  [Handmade Products, Electronics Accessories, L...   \n",
       "\n",
       "                                             details parent_asin  \\\n",
       "0  {'Package Dimensions': '3.62 x 2.05 x 0.83 inc...  B0178HXZUY   \n",
       "1  {'Department': 'unisex-adult', 'Date First Ava...  B07B8ZKCVM   \n",
       "2  {'Package Dimensions': '11.2 x 8.8 x 0.2 inche...  B07ZFJXDH8   \n",
       "3  {'Package Dimensions': '9 x 7 x 5 inches', 'Da...  B089LRPX7X   \n",
       "4  {'Department': 'Womens', 'Date First Available...  B01MXKS1L5   \n",
       "\n",
       "                  sub_category_1         sub_category_2  \\\n",
       "0                        Jewelry               Earrings   \n",
       "1  Clothing, Shoes & Accessories  Luggage & Travel Gear   \n",
       "2                 Home & Kitchen                Artwork   \n",
       "3                 Home & Kitchen       Kitchen & Dining   \n",
       "4        Electronics Accessories     Laptop Accessories   \n",
       "\n",
       "              sub_category_3   sub_category_4 sub_category_5 sub_category_6  \n",
       "0                   Ear Cuff              NaN            NaN            NaN  \n",
       "1  Wallets & Bag Accessories  Cigarette Cases            NaN            NaN  \n",
       "2                     Prints              NaN            NaN            NaN  \n",
       "3                  Tableware        Glassware       Tumblers            NaN  \n",
       "4             Skins & Decals              NaN            NaN            NaN  "
      ]
     },
     "execution_count": 18,
     "metadata": {},
     "output_type": "execute_result"
    }
   ],
   "source": [
    "#split the list of categories column into different columns in the dataframe\n",
    "col_names_dict = {0:'maincategory',\n",
    "                1:'sub_category_1',\n",
    "                2:'sub_category_2',\n",
    "                3:'sub_category_3',\n",
    "                4:'sub_category_4',\n",
    "                5:'sub_category_5',\n",
    "                6:'sub_category_6'}\n",
    "\n",
    "meta_sample_df = meta_sample_df.join(meta_sample_df.apply(lambda x: pd.Series(x['categories']), axis=1)).rename(columns=col_names_dict)\n",
    "\n",
    "#The first sub-category is simply the main category, so dropping it from the dataset\n",
    "meta_sample_df.drop(columns='maincategory',inplace=True)\n",
    "\n",
    "meta_sample_df.head()"
   ]
  },
  {
   "cell_type": "code",
   "execution_count": 19,
   "metadata": {},
   "outputs": [
    {
     "data": {
      "text/plain": [
       "main_category      0.000000\n",
       "title              0.000000\n",
       "average_rating     0.000000\n",
       "rating_number      0.000000\n",
       "features           0.000000\n",
       "description        0.000000\n",
       "price              0.000000\n",
       "images             0.000000\n",
       "videos             0.000000\n",
       "store              0.000000\n",
       "categories         0.000000\n",
       "details            0.000000\n",
       "parent_asin        0.000000\n",
       "sub_category_1     0.000000\n",
       "sub_category_2     0.150280\n",
       "sub_category_3     6.414690\n",
       "sub_category_4    72.770504\n",
       "sub_category_5    94.069088\n",
       "sub_category_6    99.921772\n",
       "dtype: float64"
      ]
     },
     "execution_count": 19,
     "metadata": {},
     "output_type": "execute_result"
    }
   ],
   "source": [
    "#Checking null values\n",
    "meta_sample_df.isna().mean()*100"
   ]
  },
  {
   "cell_type": "code",
   "execution_count": 20,
   "metadata": {},
   "outputs": [
    {
     "data": {
      "text/plain": [
       "sub_category_1\n",
       "Home & Kitchen                   6673\n",
       "Clothing, Shoes & Accessories    4166\n",
       "Beauty & Grooming                 922\n",
       "Jewelry                           575\n",
       "Pet Supplies                      358\n",
       "Sports & Outdoors                 213\n",
       "Baby                              212\n",
       "Health & Personal Care             87\n",
       "Electronics Accessories            21\n",
       "Name: count, dtype: int64"
      ]
     },
     "execution_count": 20,
     "metadata": {},
     "output_type": "execute_result"
    }
   ],
   "source": [
    "#deleting rows with null values in sub_category_2 as the missing data is < 1%\n",
    "\n",
    "meta_sample_df.dropna(subset='sub_category_2', inplace=True)\n",
    "\n",
    "#Since sub_category levels 4 and 5 have a high percentage of missing values, we will be removing these columns in the future. \n",
    "\n",
    "# Keeping a note of sub_category_1 for rows where sub_category levels 4 is not missing.\n",
    "meta_sample_df[~meta_sample_df['sub_category_4'].isna()]['sub_category_1'].value_counts()"
   ]
  },
  {
   "cell_type": "code",
   "execution_count": 21,
   "metadata": {},
   "outputs": [
    {
     "data": {
      "text/plain": [
       "sub_category_1\n",
       "Clothing, Shoes & Accessories    1752\n",
       "Home & Kitchen                    878\n",
       "Beauty & Grooming                 124\n",
       "Health & Personal Care             67\n",
       "Jewelry                            56\n",
       "Baby                                4\n",
       "Name: count, dtype: int64"
      ]
     },
     "execution_count": 21,
     "metadata": {},
     "output_type": "execute_result"
    }
   ],
   "source": [
    "#sub_category_1 values for rows where sub_category levels 5 is not missing.\n",
    "meta_sample_df[~meta_sample_df['sub_category_5'].isna()]['sub_category_1'].value_counts()"
   ]
  },
  {
   "cell_type": "code",
   "execution_count": 22,
   "metadata": {},
   "outputs": [
    {
     "data": {
      "text/plain": [
       "sub_category_1\n",
       "Home & Kitchen                                 20009\n",
       "Jewelry                                        15022\n",
       "Clothing, Shoes & Accessories                   4799\n",
       "Stationery & Party Supplies                     3933\n",
       "Beauty & Grooming                               1274\n",
       "Sports & Outdoors                                770\n",
       "Last minute gifts                                662\n",
       "Electronics Accessories                          571\n",
       "Pet Supplies                                     451\n",
       "Toys & Games                                     375\n",
       "Baby                                             331\n",
       "Health & Personal Care                           266\n",
       "Handmade Small Business Promotion - Jewelry       26\n",
       "Handmade Small Business Promotion                  6\n",
       "Southeast States                                   4\n",
       "Northeast States                                   2\n",
       "Southwest States                                   1\n",
       "Midwest States                                     1\n",
       "Name: count, dtype: int64"
      ]
     },
     "execution_count": 22,
     "metadata": {},
     "output_type": "execute_result"
    }
   ],
   "source": [
    "#Checking labels under sub_category1\n",
    "meta_sample_df['sub_category_1'].value_counts()\n"
   ]
  },
  {
   "cell_type": "markdown",
   "metadata": {},
   "source": [
    "Regional labels (e.g., \"Southeast States,\" \"Northeast States\") and promotional event-based labels(e.g., \"Prime-eligible products\") may not provide meaningful insights for forecasting product performance. Therefore, we will be dropping the rows with these labels."
   ]
  },
  {
   "cell_type": "code",
   "execution_count": 23,
   "metadata": {},
   "outputs": [
    {
     "data": {
      "text/plain": [
       "['Home & Kitchen',\n",
       " 'Jewelry',\n",
       " 'Clothing, Shoes & Accessories',\n",
       " 'Stationery & Party Supplies',\n",
       " 'Beauty & Grooming',\n",
       " 'Sports & Outdoors',\n",
       " 'Last minute gifts',\n",
       " 'Electronics Accessories',\n",
       " 'Pet Supplies',\n",
       " 'Toys & Games',\n",
       " 'Baby',\n",
       " 'Health & Personal Care']"
      ]
     },
     "execution_count": 23,
     "metadata": {},
     "output_type": "execute_result"
    }
   ],
   "source": [
    "meta_sample_df = meta_sample_df[~meta_sample_df['sub_category_1'].str.contains('States|Handmade|Prime')]\n",
    "\n",
    "meta_sample_df\n",
    "meta_sample_df['sub_category_1'].value_counts().index.unique().to_list()"
   ]
  },
  {
   "cell_type": "code",
   "execution_count": 24,
   "metadata": {},
   "outputs": [
    {
     "data": {
      "text/plain": [
       "sub_category_2\n",
       "Toys & Games              245\n",
       "Beauty & Grooming         128\n",
       "Home & Kitchen             91\n",
       "Pet Supplies               65\n",
       "Sporting Goods             53\n",
       "Baby                       40\n",
       "Handbags & Accessories     37\n",
       "Clothing                    2\n",
       "Shoes                       1\n",
       "Name: count, dtype: int64"
      ]
     },
     "execution_count": 24,
     "metadata": {},
     "output_type": "execute_result"
    }
   ],
   "source": [
    "#Checking labels under 'Last minute gifts'\n",
    "last_minute_gifts = meta_sample_df[meta_sample_df['sub_category_1']=='Last minute gifts']\n",
    "last_minute_gifts['sub_category_2'].value_counts(dropna=False)"
   ]
  },
  {
   "cell_type": "markdown",
   "metadata": {},
   "source": [
    "Since ‘Last Minute Gifts’ is a broad and non-specific label, we choose to rely on the more meaningful sub_category_2 labels for these products. The sub_category_2 labels (e.g., ‘Toys & Games,’ ‘Beauty & Grooming,’ etc.) provide clearer distinctions between product types, making them more useful for modeling and analysis."
   ]
  },
  {
   "cell_type": "code",
   "execution_count": 25,
   "metadata": {},
   "outputs": [
    {
     "data": {
      "text/plain": [
       "sub_category_1\n",
       "Home & Kitchen                   20100\n",
       "Jewelry                          15022\n",
       "Clothing, Shoes & Accessories     4799\n",
       "Stationery & Party Supplies       3933\n",
       "Beauty & Grooming                 1402\n",
       "Sports & Outdoors                  770\n",
       "Toys & Games                       620\n",
       "Electronics Accessories            571\n",
       "Pet Supplies                       516\n",
       "Baby                               371\n",
       "Health & Personal Care             266\n",
       "Sporting Goods                      53\n",
       "Handbags & Accessories              37\n",
       "Clothing                             2\n",
       "Shoes                                1\n",
       "Name: count, dtype: int64"
      ]
     },
     "execution_count": 25,
     "metadata": {},
     "output_type": "execute_result"
    }
   ],
   "source": [
    "# Select rows where sub_category_1 is 'Last minute gifts'\n",
    "mask = meta_sample_df['sub_category_1'] == 'Last minute gifts'\n",
    "\n",
    "# Shift subcategories by 1 level for selected rows\n",
    "meta_sample_df.loc[mask, 'sub_category_1'] = meta_sample_df.loc[mask, 'sub_category_2']\n",
    "meta_sample_df.loc[mask, 'sub_category_2'] = meta_sample_df.loc[mask, 'sub_category_3']\n",
    "meta_sample_df.loc[mask, 'sub_category_3'] = meta_sample_df.loc[mask, 'sub_category_4']\n",
    "meta_sample_df.loc[mask, 'sub_category_4'] = meta_sample_df.loc[mask, 'sub_category_5']\n",
    "meta_sample_df.loc[mask, 'sub_category_5'] = meta_sample_df.loc[mask, 'sub_category_6']\n",
    "\n",
    "# Optionally, set the last category to NaN since it shifts out of scope\n",
    "meta_sample_df.loc[mask, 'sub_category_6'] = np.nan\n",
    "\n",
    "meta_sample_df['sub_category_1'].value_counts()"
   ]
  },
  {
   "cell_type": "code",
   "execution_count": 26,
   "metadata": {},
   "outputs": [
    {
     "name": "stdout",
     "output_type": "stream",
     "text": [
      "There are 662 null values in the sub_category_2 column of the dataframe.\n"
     ]
    }
   ],
   "source": [
    "# Lets check null values introduced in sub_category_2 because of shfting categories above\n",
    "print(f'There are {meta_sample_df['sub_category_2'].isna().sum()} null values in the sub_category_2 column of the dataframe.')"
   ]
  },
  {
   "cell_type": "code",
   "execution_count": 27,
   "metadata": {},
   "outputs": [
    {
     "name": "stdout",
     "output_type": "stream",
     "text": [
      "There are 0 null values in the sub_category_2 column of the dataframe.\n"
     ]
    }
   ],
   "source": [
    "#dropping nulls in sub_category2 since they are only 625 rows\n",
    "meta_sample_df.dropna(subset='sub_category_2', inplace=True)\n",
    "\n",
    "print(f'There are {meta_sample_df['sub_category_2'].isna().sum()} null values in the sub_category_2 column of the dataframe.')"
   ]
  },
  {
   "cell_type": "markdown",
   "metadata": {},
   "source": [
    "The \"Handbags & Accessories\" category is ambiguous, mixing unrelated products like electronics and clothing accessories. With only 37 rows, deleting them has minimal impact on the dataset while improving data quality and simplifying category structure. This ensures cleaner, more meaningful analysis and modeling."
   ]
  },
  {
   "cell_type": "code",
   "execution_count": 28,
   "metadata": {},
   "outputs": [
    {
     "data": {
      "text/plain": [
       "sub_category_1\n",
       "Home & Kitchen                   20009\n",
       "Jewelry                          15022\n",
       "Clothing, Shoes & Accessories     4799\n",
       "Stationery & Party Supplies       3933\n",
       "Beauty & Grooming                 1274\n",
       "Sports & Outdoors                  770\n",
       "Electronics Accessories            571\n",
       "Pet Supplies                       451\n",
       "Toys & Games                       375\n",
       "Baby                               331\n",
       "Health & Personal Care             266\n",
       "Name: count, dtype: int64"
      ]
     },
     "execution_count": 28,
     "metadata": {},
     "output_type": "execute_result"
    }
   ],
   "source": [
    "#combining labels that are similar :\n",
    "label_map = {'Sporting Goods': 'Sports & Outdoors',\n",
    "             'Clothing':'Clothing, Shoes & Accessories',\n",
    "             'Shoes': 'Clothing, Shoes & Accessories'}\n",
    "\n",
    "meta_sample_df['sub_category_1'] = meta_sample_df['sub_category_1'].replace(label_map)\n",
    "\n",
    "#removing ambiguous labels\n",
    "meta_sample_df = meta_sample_df[~meta_sample_df['sub_category_1'].isin([\"Handbags & Accessories\",\"Birthday\",\n",
    "                                                                     \"Wedding\",\"Valentine's Day Gifts\" ])].reset_index(drop=True)\n",
    "meta_sample_df['sub_category_1'].value_counts()"
   ]
  },
  {
   "cell_type": "markdown",
   "metadata": {},
   "source": [
    "In the following cells, we investigate each of the labels under subcategory1."
   ]
  },
  {
   "cell_type": "code",
   "execution_count": 29,
   "metadata": {},
   "outputs": [
    {
     "data": {
      "text/plain": [
       "sub_category_2\n",
       "Artwork                   8873\n",
       "Home Décor                7504\n",
       "Kitchen & Dining          2224\n",
       "Storage & Organization     403\n",
       "Patio, Lawn & Garden       384\n",
       "Lighting                   277\n",
       "Furniture                  171\n",
       "Bath                        78\n",
       "Cleaning Supplies           52\n",
       "Bedding                     43\n",
       "Name: count, dtype: int64"
      ]
     },
     "execution_count": 29,
     "metadata": {},
     "output_type": "execute_result"
    }
   ],
   "source": [
    "home_and_kitchen_df = meta_sample_df[meta_sample_df['sub_category_1'] == 'Home & Kitchen']\n",
    "home_and_kitchen_df['sub_category_2'].value_counts(dropna=False)"
   ]
  },
  {
   "cell_type": "code",
   "execution_count": 30,
   "metadata": {},
   "outputs": [
    {
     "data": {
      "text/plain": [
       "sub_category_2\n",
       "Necklaces                        4825\n",
       "Earrings                         3673\n",
       "Bracelets                        2662\n",
       "Rings                            2013\n",
       "Body Jewelry                      631\n",
       "Brooches, Buttons & Pins          404\n",
       "Charms                            258\n",
       "Jewelry Sets                      175\n",
       "Prayer & Meditation Beads         138\n",
       "Cufflinks & Shirt Accessories     131\n",
       "Accessories                        80\n",
       "Watches                            32\n",
       "Name: count, dtype: int64"
      ]
     },
     "execution_count": 30,
     "metadata": {},
     "output_type": "execute_result"
    }
   ],
   "source": [
    "jewelry_df = meta_sample_df[meta_sample_df['sub_category_1'] == 'Jewelry']\n",
    "jewelry_df['sub_category_2'].value_counts(dropna=False)"
   ]
  },
  {
   "cell_type": "code",
   "execution_count": 31,
   "metadata": {},
   "outputs": [
    {
     "data": {
      "text/plain": [
       "sub_category_2\n",
       "Luggage & Travel Gear         1734\n",
       "Men                           1394\n",
       "Women                          844\n",
       "Handbags & Shoulder Bags       263\n",
       "Boys                           235\n",
       "Baby                           230\n",
       "Girls                           55\n",
       "Insoles & Shoe Accessories      44\n",
       "Name: count, dtype: int64"
      ]
     },
     "execution_count": 31,
     "metadata": {},
     "output_type": "execute_result"
    }
   ],
   "source": [
    "#Clothing, Shoes & Accessories\n",
    "clothing_df = meta_sample_df[meta_sample_df['sub_category_1'] == 'Clothing, Shoes & Accessories']\n",
    "clothing_df['sub_category_2'].value_counts(dropna=False)"
   ]
  },
  {
   "cell_type": "code",
   "execution_count": 32,
   "metadata": {},
   "outputs": [
    {
     "data": {
      "text/html": [
       "<div>\n",
       "<style scoped>\n",
       "    .dataframe tbody tr th:only-of-type {\n",
       "        vertical-align: middle;\n",
       "    }\n",
       "\n",
       "    .dataframe tbody tr th {\n",
       "        vertical-align: top;\n",
       "    }\n",
       "\n",
       "    .dataframe thead th {\n",
       "        text-align: right;\n",
       "    }\n",
       "</style>\n",
       "<table border=\"1\" class=\"dataframe\">\n",
       "  <thead>\n",
       "    <tr style=\"text-align: right;\">\n",
       "      <th></th>\n",
       "      <th>stores</th>\n",
       "    </tr>\n",
       "    <tr>\n",
       "      <th>sub_category_4</th>\n",
       "      <th></th>\n",
       "    </tr>\n",
       "  </thead>\n",
       "  <tbody>\n",
       "    <tr>\n",
       "      <th>Arm Warmers</th>\n",
       "      <td>3</td>\n",
       "    </tr>\n",
       "    <tr>\n",
       "      <th>Arm Warmers &amp; Muffs</th>\n",
       "      <td>1</td>\n",
       "    </tr>\n",
       "    <tr>\n",
       "      <th>Badge Clips &amp; Reels</th>\n",
       "      <td>23</td>\n",
       "    </tr>\n",
       "    <tr>\n",
       "      <th>Bag Organizers</th>\n",
       "      <td>8</td>\n",
       "    </tr>\n",
       "    <tr>\n",
       "      <th>Belt Buckles</th>\n",
       "      <td>6</td>\n",
       "    </tr>\n",
       "    <tr>\n",
       "      <th>Belts</th>\n",
       "      <td>11</td>\n",
       "    </tr>\n",
       "    <tr>\n",
       "      <th>Blouses &amp; Shirts</th>\n",
       "      <td>3</td>\n",
       "    </tr>\n",
       "    <tr>\n",
       "      <th>Boots</th>\n",
       "      <td>1</td>\n",
       "    </tr>\n",
       "    <tr>\n",
       "      <th>Bottoms</th>\n",
       "      <td>3</td>\n",
       "    </tr>\n",
       "    <tr>\n",
       "      <th>Button Down Shirts</th>\n",
       "      <td>6</td>\n",
       "    </tr>\n",
       "    <tr>\n",
       "      <th>Card Cases</th>\n",
       "      <td>9</td>\n",
       "    </tr>\n",
       "    <tr>\n",
       "      <th>Cigarette Cases</th>\n",
       "      <td>2</td>\n",
       "    </tr>\n",
       "    <tr>\n",
       "      <th>Clothing</th>\n",
       "      <td>35</td>\n",
       "    </tr>\n",
       "    <tr>\n",
       "      <th>Clothing Sets</th>\n",
       "      <td>5</td>\n",
       "    </tr>\n",
       "    <tr>\n",
       "      <th>Coin Purses &amp; Pouches</th>\n",
       "      <td>7</td>\n",
       "    </tr>\n",
       "    <tr>\n",
       "      <th>Costumes</th>\n",
       "      <td>15</td>\n",
       "    </tr>\n",
       "    <tr>\n",
       "      <th>Dresses</th>\n",
       "      <td>9</td>\n",
       "    </tr>\n",
       "    <tr>\n",
       "      <th>Earmuffs</th>\n",
       "      <td>1</td>\n",
       "    </tr>\n",
       "    <tr>\n",
       "      <th>Eyewear &amp; Accessories</th>\n",
       "      <td>15</td>\n",
       "    </tr>\n",
       "    <tr>\n",
       "      <th>Fanny Packs</th>\n",
       "      <td>5</td>\n",
       "    </tr>\n",
       "    <tr>\n",
       "      <th>Flats</th>\n",
       "      <td>4</td>\n",
       "    </tr>\n",
       "    <tr>\n",
       "      <th>Garters</th>\n",
       "      <td>5</td>\n",
       "    </tr>\n",
       "    <tr>\n",
       "      <th>Gloves &amp; Mittens</th>\n",
       "      <td>5</td>\n",
       "    </tr>\n",
       "    <tr>\n",
       "      <th>Handkerchiefs</th>\n",
       "      <td>8</td>\n",
       "    </tr>\n",
       "    <tr>\n",
       "      <th>Hats &amp; Caps</th>\n",
       "      <td>41</td>\n",
       "    </tr>\n",
       "    <tr>\n",
       "      <th>Hoodies &amp; Sweatshirts</th>\n",
       "      <td>33</td>\n",
       "    </tr>\n",
       "    <tr>\n",
       "      <th>Key Cases</th>\n",
       "      <td>5</td>\n",
       "    </tr>\n",
       "    <tr>\n",
       "      <th>Keychains &amp; Keyrings</th>\n",
       "      <td>137</td>\n",
       "    </tr>\n",
       "    <tr>\n",
       "      <th>Lanyards</th>\n",
       "      <td>18</td>\n",
       "    </tr>\n",
       "    <tr>\n",
       "      <th>Leggings</th>\n",
       "      <td>1</td>\n",
       "    </tr>\n",
       "    <tr>\n",
       "      <th>Loafers &amp; Slip-Ons</th>\n",
       "      <td>1</td>\n",
       "    </tr>\n",
       "    <tr>\n",
       "      <th>Luggage Straps</th>\n",
       "      <td>2</td>\n",
       "    </tr>\n",
       "    <tr>\n",
       "      <th>Luggage Tags</th>\n",
       "      <td>14</td>\n",
       "    </tr>\n",
       "    <tr>\n",
       "      <th>Messenger Bags</th>\n",
       "      <td>1</td>\n",
       "    </tr>\n",
       "    <tr>\n",
       "      <th>Money Clips</th>\n",
       "      <td>10</td>\n",
       "    </tr>\n",
       "    <tr>\n",
       "      <th>Neck Pouches</th>\n",
       "      <td>1</td>\n",
       "    </tr>\n",
       "    <tr>\n",
       "      <th>Outerwear</th>\n",
       "      <td>4</td>\n",
       "    </tr>\n",
       "    <tr>\n",
       "      <th>Pants</th>\n",
       "      <td>3</td>\n",
       "    </tr>\n",
       "    <tr>\n",
       "      <th>Passport Covers &amp; Wallets</th>\n",
       "      <td>16</td>\n",
       "    </tr>\n",
       "    <tr>\n",
       "      <th>Pumps</th>\n",
       "      <td>4</td>\n",
       "    </tr>\n",
       "    <tr>\n",
       "      <th>Purse Hangers &amp; Hooks</th>\n",
       "      <td>1</td>\n",
       "    </tr>\n",
       "    <tr>\n",
       "      <th>Sandals</th>\n",
       "      <td>9</td>\n",
       "    </tr>\n",
       "    <tr>\n",
       "      <th>Sashes</th>\n",
       "      <td>2</td>\n",
       "    </tr>\n",
       "    <tr>\n",
       "      <th>Scarves &amp; Wraps</th>\n",
       "      <td>26</td>\n",
       "    </tr>\n",
       "    <tr>\n",
       "      <th>Shoes</th>\n",
       "      <td>4</td>\n",
       "    </tr>\n",
       "    <tr>\n",
       "      <th>Shorts</th>\n",
       "      <td>1</td>\n",
       "    </tr>\n",
       "    <tr>\n",
       "      <th>Skirts</th>\n",
       "      <td>3</td>\n",
       "    </tr>\n",
       "    <tr>\n",
       "      <th>Sleepwear, Lingerie &amp; Underwear</th>\n",
       "      <td>11</td>\n",
       "    </tr>\n",
       "    <tr>\n",
       "      <th>Slippers</th>\n",
       "      <td>9</td>\n",
       "    </tr>\n",
       "    <tr>\n",
       "      <th>Sneakers &amp; Athletic Shoes</th>\n",
       "      <td>3</td>\n",
       "    </tr>\n",
       "    <tr>\n",
       "      <th>Socks, Tights &amp; Leg Warmers</th>\n",
       "      <td>10</td>\n",
       "    </tr>\n",
       "    <tr>\n",
       "      <th>Sweaters, Cardigans &amp; Capes</th>\n",
       "      <td>3</td>\n",
       "    </tr>\n",
       "    <tr>\n",
       "      <th>Sweaters, Cardigans &amp; Vests</th>\n",
       "      <td>1</td>\n",
       "    </tr>\n",
       "    <tr>\n",
       "      <th>Swimwear</th>\n",
       "      <td>4</td>\n",
       "    </tr>\n",
       "    <tr>\n",
       "      <th>Ties</th>\n",
       "      <td>7</td>\n",
       "    </tr>\n",
       "    <tr>\n",
       "      <th>Tops &amp; Tees</th>\n",
       "      <td>123</td>\n",
       "    </tr>\n",
       "    <tr>\n",
       "      <th>Umbrellas</th>\n",
       "      <td>1</td>\n",
       "    </tr>\n",
       "    <tr>\n",
       "      <th>Wallet Chains</th>\n",
       "      <td>2</td>\n",
       "    </tr>\n",
       "    <tr>\n",
       "      <th>Wallet Inserts</th>\n",
       "      <td>10</td>\n",
       "    </tr>\n",
       "  </tbody>\n",
       "</table>\n",
       "</div>"
      ],
      "text/plain": [
       "                                 stores\n",
       "sub_category_4                         \n",
       "Arm Warmers                           3\n",
       "Arm Warmers & Muffs                   1\n",
       "Badge Clips & Reels                  23\n",
       "Bag Organizers                        8\n",
       "Belt Buckles                          6\n",
       "Belts                                11\n",
       "Blouses & Shirts                      3\n",
       "Boots                                 1\n",
       "Bottoms                               3\n",
       "Button Down Shirts                    6\n",
       "Card Cases                            9\n",
       "Cigarette Cases                       2\n",
       "Clothing                             35\n",
       "Clothing Sets                         5\n",
       "Coin Purses & Pouches                 7\n",
       "Costumes                             15\n",
       "Dresses                               9\n",
       "Earmuffs                              1\n",
       "Eyewear & Accessories                15\n",
       "Fanny Packs                           5\n",
       "Flats                                 4\n",
       "Garters                               5\n",
       "Gloves & Mittens                      5\n",
       "Handkerchiefs                         8\n",
       "Hats & Caps                          41\n",
       "Hoodies & Sweatshirts                33\n",
       "Key Cases                             5\n",
       "Keychains & Keyrings                137\n",
       "Lanyards                             18\n",
       "Leggings                              1\n",
       "Loafers & Slip-Ons                    1\n",
       "Luggage Straps                        2\n",
       "Luggage Tags                         14\n",
       "Messenger Bags                        1\n",
       "Money Clips                          10\n",
       "Neck Pouches                          1\n",
       "Outerwear                             4\n",
       "Pants                                 3\n",
       "Passport Covers & Wallets            16\n",
       "Pumps                                 4\n",
       "Purse Hangers & Hooks                 1\n",
       "Sandals                               9\n",
       "Sashes                                2\n",
       "Scarves & Wraps                      26\n",
       "Shoes                                 4\n",
       "Shorts                                1\n",
       "Skirts                                3\n",
       "Sleepwear, Lingerie & Underwear      11\n",
       "Slippers                              9\n",
       "Sneakers & Athletic Shoes             3\n",
       "Socks, Tights & Leg Warmers          10\n",
       "Sweaters, Cardigans & Capes           3\n",
       "Sweaters, Cardigans & Vests           1\n",
       "Swimwear                              4\n",
       "Ties                                  7\n",
       "Tops & Tees                         123\n",
       "Umbrellas                             1\n",
       "Wallet Chains                         2\n",
       "Wallet Inserts                       10"
      ]
     },
     "execution_count": 32,
     "metadata": {},
     "output_type": "execute_result"
    }
   ],
   "source": [
    "clothing_df.groupby('sub_category_4')['store'].agg(stores = 'nunique')"
   ]
  },
  {
   "cell_type": "code",
   "execution_count": 33,
   "metadata": {},
   "outputs": [
    {
     "data": {
      "text/plain": [
       "mean_price      45.263713\n",
       "median_price    41.045593\n",
       "std_price       30.025022\n",
       "iqr_price       21.438475\n",
       "dtype: float64"
      ]
     },
     "execution_count": 33,
     "metadata": {},
     "output_type": "execute_result"
    }
   ],
   "source": [
    "clothing_df.groupby('sub_category_4')['price'].agg(mean_price = 'mean',median_price = 'median',std_price ='std',\n",
    "                                                   iqr_price=lambda x: x.quantile(0.75) - x.quantile(0.25)).mean()"
   ]
  },
  {
   "cell_type": "code",
   "execution_count": 34,
   "metadata": {},
   "outputs": [
    {
     "data": {
      "text/plain": [
       "mean_price      36.657965\n",
       "median_price    29.008529\n",
       "std_price       33.316819\n",
       "iqr_price       21.865588\n",
       "dtype: float64"
      ]
     },
     "execution_count": 34,
     "metadata": {},
     "output_type": "execute_result"
    }
   ],
   "source": [
    "clothing_df.groupby('sub_category_3')['price'].agg(mean_price = 'mean',median_price = 'median',std_price = 'std',\n",
    "                                                   iqr_price=lambda x: x.quantile(0.75) - x.quantile(0.25)).mean()"
   ]
  },
  {
   "cell_type": "code",
   "execution_count": 35,
   "metadata": {},
   "outputs": [
    {
     "data": {
      "text/plain": [
       "mean_price      30.942651\n",
       "median_price    22.158750\n",
       "std_price       34.485000\n",
       "iqr_price       14.925000\n",
       "dtype: float64"
      ]
     },
     "execution_count": 35,
     "metadata": {},
     "output_type": "execute_result"
    }
   ],
   "source": [
    "clothing_df.groupby('sub_category_2')['price'].agg(mean_price = 'mean',median_price = 'median',std_price = 'std',\n",
    "                                                   iqr_price=lambda x: x.quantile(0.75) - x.quantile(0.25)).mean()"
   ]
  },
  {
   "cell_type": "code",
   "execution_count": 36,
   "metadata": {},
   "outputs": [],
   "source": [
    "# meta_sample_df.loc[(meta_sample_df['sub_category_2']== 'Men')&(meta_sample_df['sub_category_3']== 'Clothing'),'sub_category_4'].value_counts()"
   ]
  },
  {
   "cell_type": "code",
   "execution_count": 37,
   "metadata": {},
   "outputs": [
    {
     "name": "stdout",
     "output_type": "stream",
     "text": [
      "sub_category_2\n",
      "Luggage & Travel Gear         1734\n",
      "Men Clothing                  1021\n",
      "Women Clothing                 429\n",
      "Men Accessories                343\n",
      "Women Accessories              311\n",
      "Handbags & Shoulder Bags       263\n",
      "Boys Clothing                  216\n",
      "Baby Boys Clothing             145\n",
      "Women Shoes                    104\n",
      "Baby Girls Clothing             65\n",
      "Girls Clothing                  49\n",
      "Insoles & Shoe Accessories      44\n",
      "Men Shoes                       30\n",
      "Boys Accessories                19\n",
      "Baby Boys unknown               11\n",
      "Baby Boys Shoes                  7\n",
      "Girls Accessories                4\n",
      "Girls Shoes                      2\n",
      "Baby Girls Shoes                 1\n",
      "Baby Girls unknown               1\n",
      "Name: count, dtype: int64\n"
     ]
    }
   ],
   "source": [
    "#regrouping redundant categories\n",
    "#meta_sample_df.loc[meta_sample_df['sub_category_2']== 'Clothing','sub_category_2'] = 'Boys'\n",
    "\n",
    "#meta_sample_df.loc[meta_sample_df['sub_category_2']== 'Shoes','sub_category_2'] == 'Insoles & Shoe Accessories'\n",
    "\n",
    "# changing the sub-category2 labels for some categories to give more detail \n",
    "meta_sample_df.loc[meta_sample_df['sub_category_2']== 'Men','sub_category_2']= 'Men ' + \\\n",
    "                                                                            meta_sample_df['sub_category_3'].fillna('unknown')\n",
    "\n",
    "meta_sample_df.loc[meta_sample_df['sub_category_2']== 'Women','sub_category_2']= 'Women ' + \\\n",
    "                                                                            meta_sample_df['sub_category_3'].fillna('unknown')\n",
    "\n",
    "meta_sample_df.loc[meta_sample_df['sub_category_2']== 'Boys','sub_category_2']= 'Boys ' + \\\n",
    "                                                                            meta_sample_df['sub_category_3'].fillna('unknown')\n",
    "\n",
    "meta_sample_df.loc[meta_sample_df['sub_category_2']== 'Girls','sub_category_2']= 'Girls ' + \\\n",
    "                                                                            meta_sample_df['sub_category_3'].fillna('unknown')\n",
    "\n",
    "meta_sample_df.loc[meta_sample_df['sub_category_2']== 'Baby','sub_category_2']=  \\\n",
    "                                                                            meta_sample_df['sub_category_3'] + ' ' + \\\n",
    "                                                                            meta_sample_df['sub_category_4'].fillna('unknown')\n",
    "                                                                            \n",
    "clothing_df = meta_sample_df[meta_sample_df['sub_category_1'] == 'Clothing, Shoes & Accessories']\n",
    " \n",
    "\n",
    "print(clothing_df['sub_category_2'].value_counts(dropna=False))\n"
   ]
  },
  {
   "cell_type": "code",
   "execution_count": 38,
   "metadata": {},
   "outputs": [
    {
     "data": {
      "text/plain": [
       "mean_price      33.165918\n",
       "median_price    26.613500\n",
       "std_price       27.641621\n",
       "iqr_price       15.902750\n",
       "dtype: float64"
      ]
     },
     "execution_count": 38,
     "metadata": {},
     "output_type": "execute_result"
    }
   ],
   "source": [
    "clothing_df.groupby('sub_category_2')['price'].agg(mean_price = 'mean',median_price = 'median',std_price ='std',\n",
    "                                                   iqr_price=lambda x: x.quantile(0.75) - x.quantile(0.25)).mean()"
   ]
  },
  {
   "cell_type": "code",
   "execution_count": 39,
   "metadata": {},
   "outputs": [
    {
     "data": {
      "text/plain": [
       "Series([], Name: count, dtype: int64)"
      ]
     },
     "execution_count": 39,
     "metadata": {},
     "output_type": "execute_result"
    }
   ],
   "source": [
    "clothing_df.loc[clothing_df['sub_category_2'] == 'Baby','sub_category_5'].value_counts()"
   ]
  },
  {
   "cell_type": "code",
   "execution_count": 40,
   "metadata": {},
   "outputs": [
    {
     "data": {
      "text/plain": [
       "mean_price      33.165918\n",
       "median_price    26.613500\n",
       "std_price       27.641621\n",
       "iqr_price       15.902750\n",
       "dtype: float64"
      ]
     },
     "execution_count": 40,
     "metadata": {},
     "output_type": "execute_result"
    }
   ],
   "source": [
    "clothing_df.groupby('sub_category_2')['price'].agg(mean_price = 'mean',median_price = 'median',std_price ='std',\n",
    "                                                   iqr_price=lambda x: x.quantile(0.75) - x.quantile(0.25)).mean()\n"
   ]
  },
  {
   "cell_type": "code",
   "execution_count": 41,
   "metadata": {},
   "outputs": [],
   "source": [
    "# Shifting sub_categories by 1 level for rows that had sub_category_2 labels renamed in the previous cell.\n",
    "# Since sub_category_4,sub_category_5 and sub_category_6 will be deleted later, this ensures no meaningful data is lost.\n",
    "\n",
    "target_categories = ['Men Clothing',\n",
    " 'Women Clothing','Women Accessories',\n",
    " 'Men Accessories', 'Boys Clothing',\n",
    " 'Girls Clothing', 'Women Shoes',\n",
    " 'Men Shoes','Boys Accessories']\n",
    "\n",
    "# Replace sub_category_3 with sub_category_4 for the target categories \n",
    "meta_sample_df.loc[\n",
    "    meta_sample_df['sub_category_2'].isin(target_categories),\n",
    "    'sub_category_3'\n",
    "                  ] = meta_sample_df['sub_category_4']\n",
    "\n",
    "#similarly replace the sub_category_4 labels with sub_category_5 ones\n",
    "meta_sample_df.loc[\n",
    "    meta_sample_df['sub_category_2'].isin(target_categories),\n",
    "    'sub_category_4'\n",
    "                  ] = meta_sample_df['sub_category_5']\n",
    "\n",
    "meta_sample_df.loc[\n",
    "    meta_sample_df['sub_category_2'].isin(target_categories),\n",
    "    'sub_category_5'\n",
    "                  ] = meta_sample_df['sub_category_6']\n",
    "meta_sample_df.loc[\n",
    "    meta_sample_df['sub_category_2'].isin(target_categories),\n",
    "    'sub_category_6'\n",
    "                  ] = np.nan\n",
    "\n",
    "\n",
    "baby_categories = ['Baby Boys Clothing', 'Baby Girls Clothing']\n",
    "\n",
    "# Replace sub_category_3 with sub_category_5 for the baby categories \n",
    "meta_sample_df.loc[\n",
    "    meta_sample_df['sub_category_2'].isin(baby_categories),\n",
    "    'sub_category_3'\n",
    "                  ] = meta_sample_df['sub_category_5']\n",
    "\n",
    "#similarly replace the sub_category_4 labels with sub_category_6 ones\n",
    "meta_sample_df.loc[\n",
    "    meta_sample_df['sub_category_2'].isin(baby_categories),\n",
    "    'sub_category_4'\n",
    "                  ] = meta_sample_df['sub_category_6']\n",
    "\n",
    "meta_sample_df.loc[\n",
    "    meta_sample_df['sub_category_2'].isin(baby_categories),\n",
    "    'sub_category_6'\n",
    "                  ] = np.nan"
   ]
  },
  {
   "cell_type": "code",
   "execution_count": 42,
   "metadata": {},
   "outputs": [
    {
     "name": "stdout",
     "output_type": "stream",
     "text": [
      "sub_category_2\n",
      "Luggage & Travel Gear         1734\n",
      "Men Clothing                  1021\n",
      "Women Clothing                 429\n",
      "Men Accessories                343\n",
      "Women Accessories              311\n",
      "Handbags & Shoulder Bags       263\n",
      "Boys Clothing                  216\n",
      "Baby Boys Clothing             145\n",
      "Women Shoes                    104\n",
      "Baby Girls Clothing             65\n",
      "Girls Clothing                  49\n",
      "Insoles & Shoe Accessories      44\n",
      "Men Shoes                       30\n",
      "Boys Accessories                19\n",
      "Name: count, dtype: int64\n"
     ]
    }
   ],
   "source": [
    "#Deleting categories with very few items\n",
    "clothing_df = meta_sample_df[meta_sample_df['sub_category_1'] == 'Clothing, Shoes & Accessories']\n",
    "\n",
    "#Excluding sub_categories with fewer than 12 items\n",
    "categories_to_exclude = clothing_df['sub_category_2'].value_counts().loc[lambda x: x < 12].index.to_list()\n",
    "\n",
    "meta_sample_df = meta_sample_df[~meta_sample_df['sub_category_2'].isin(categories_to_exclude)].reset_index(drop=True)\n",
    "\n",
    "#Checking if those categories have been deleted\n",
    "clothing_df = meta_sample_df[meta_sample_df['sub_category_1'] == 'Clothing, Shoes & Accessories']\n",
    "print(clothing_df['sub_category_2'].value_counts(dropna=False))\n"
   ]
  },
  {
   "cell_type": "markdown",
   "metadata": {},
   "source": [
    "Some sub-categories under different sub category level 2  have similar names - for eg. Tops & Tees could be found under both Men and Women Clothing, so lets tackle those."
   ]
  },
  {
   "cell_type": "code",
   "execution_count": 43,
   "metadata": {},
   "outputs": [
    {
     "name": "stdout",
     "output_type": "stream",
     "text": [
      "sub_category_3\n",
      "Key & Identification Accessories    1209\n",
      "Men Tops & Tees                      859\n",
      "Wallets & Bag Accessories            361\n",
      "Women Tops & Tees                    237\n",
      "Boys Tops & Tees                     172\n",
      "                                    ... \n",
      "Baby Girls Costumes                    1\n",
      "Boots                                  1\n",
      "Baby Girls Skirts                      1\n",
      "Loafers & Slip-Ons                     1\n",
      "Leggings                               1\n",
      "Name: count, Length: 86, dtype: int64\n"
     ]
    }
   ],
   "source": [
    "# Identify sub_category_3 values that are associated with multiple sub_category_2 values\n",
    "subcat2_counts = meta_sample_df.groupby('sub_category_3')['sub_category_2'].nunique()\n",
    "\n",
    "# Find non-unique subcategories (appearing under multiple sub_category_2)\n",
    "non_unique_subcat = subcat2_counts[subcat2_counts > 1].index\n",
    "\n",
    "# Create masks for updating sub_category_3 labels\n",
    "mask_non_unique = meta_sample_df['sub_category_3'].isin(non_unique_subcat)\n",
    "mask_baby = meta_sample_df['sub_category_2'].str.contains('Baby', na=False)\n",
    "\n",
    "# Update labels for baby-related subcategories\n",
    "meta_sample_df.loc[mask_non_unique & mask_baby, 'sub_category_3'] = (\n",
    "    meta_sample_df['sub_category_2'].str.split().str[:2].str.join(' ') + ' ' + meta_sample_df['sub_category_3']\n",
    ")\n",
    "\n",
    "# Update labels for other non-unique subcategories\n",
    "meta_sample_df.loc[mask_non_unique & ~mask_baby, 'sub_category_3'] = (\n",
    "    meta_sample_df['sub_category_2'].str.split().str[0] + ' ' + meta_sample_df['sub_category_3']\n",
    ")\n",
    "\n",
    "# Filter clothing-related data\n",
    "clothing_df = meta_sample_df[meta_sample_df['sub_category_1'] == 'Clothing, Shoes & Accessories']\n",
    "\n",
    "# Display updated category counts\n",
    "print(clothing_df['sub_category_3'].value_counts(dropna=False))"
   ]
  },
  {
   "cell_type": "code",
   "execution_count": 44,
   "metadata": {},
   "outputs": [],
   "source": [
    "# #Some sub-categories under different sub category level 2  have similar names - for eg. Tops & Tees could be found under both Men and Women Clothing, so lets tackle those\n",
    "\n",
    "# non_unique_subcat = []\n",
    "# for subcategory3 in clothing_df['sub_category_3'].unique():                     #Loop through all sub_category_3 in clothing_df\n",
    "    \n",
    "#     mask = meta_sample_df['sub_category_3'] == subcategory3\n",
    "#     unique_subcat2 = meta_sample_df.loc[mask,'sub_category_2'].nunique()        #find number of unique subcategory_2 correponding to that sub_category_3\n",
    "\n",
    "#     if (unique_subcat2 != 1) and ('Baby' in meta_sample_df.loc[mask,'sub_category_2'].unique()):   #treat  baby subcategories separately\n",
    "        \n",
    "#         meta_sample_df.loc[mask, 'sub_category_3'] = meta_sample_df['sub_category_2'].str.split().apply(lambda x: x[0]+ ' '+ x[1]) + \\\n",
    "#                                                      ' ' + meta_sample_df['sub_category_3']\n",
    "    \n",
    "#     if unique_subcat2 != 1:                                                     # prefix subcategory3  with the corresponding gender\n",
    "        \n",
    "#         meta_sample_df.loc[mask, 'sub_category_3'] = meta_sample_df['sub_category_2'].str.split().apply(lambda x: x[0]) + \\\n",
    "#                                                      ' ' + meta_sample_df['sub_category_3']\n",
    "\n",
    "# clothing_df = meta_sample_df[meta_sample_df['sub_category_1'] == 'Clothing, Shoes & Accessories']\n",
    "# print(clothing_df['sub_category_3'].value_counts(dropna=False))\n"
   ]
  },
  {
   "cell_type": "markdown",
   "metadata": {},
   "source": [
    "##### <a id='toc1_1_2_1_1_'></a>[Observations on Categories](#toc0_)\n",
    "\n",
    "**Handbags & Shoulder Bags**: This category seems less distinct and could potentially be merged under one of the accessories columns (e.g., Women Accessories or Men Accessories). However, I am not certain about the best fit at this time. For now, I will keep it as a separate category and revisit this decision later if needed.\n",
    "\n",
    "**Baby Categories**: There are two baby-related categories:  \n",
    "1. Baby under sub_category_1: Non-clothing items (e.g., Nursery, Nursing & Feeding).  \n",
    "2. Baby Boys/Girls Clothing under sub_category_1 = 'Clothing, Shoes & Accessories': Represents baby clothing items.  \n",
    "\n",
    "For now, we’ll keep them separate to retain granularity and analyze potential differences. This decision can be revisited later if needed.\n"
   ]
  },
  {
   "cell_type": "code",
   "execution_count": 45,
   "metadata": {},
   "outputs": [
    {
     "data": {
      "text/plain": [
       "sub_category_1\n",
       "Home & Kitchen                   19843\n",
       "Jewelry                          13795\n",
       "Clothing, Shoes & Accessories     4650\n",
       "Stationery & Party Supplies       3877\n",
       "Beauty & Grooming                 1222\n",
       "Sports & Outdoors                  663\n",
       "Pet Supplies                       440\n",
       "Baby                               283\n",
       "Health & Personal Care             263\n",
       "Electronics Accessories            262\n",
       "Toys & Games                        21\n",
       "Name: count, dtype: int64"
      ]
     },
     "execution_count": 45,
     "metadata": {},
     "output_type": "execute_result"
    }
   ],
   "source": [
    "meta_sample_df[~meta_sample_df['sub_category_3'].isna()]['sub_category_1'].value_counts()"
   ]
  },
  {
   "cell_type": "code",
   "execution_count": 46,
   "metadata": {},
   "outputs": [
    {
     "name": "stdout",
     "output_type": "stream",
     "text": [
      "sub_category_2\n",
      "Stationery        2396\n",
      "Party Supplies    1521\n",
      "Pens & Pencils      16\n",
      "Name: count, dtype: int64\n"
     ]
    }
   ],
   "source": [
    "#Stationery & Party Supplies\n",
    "stationary_df = meta_sample_df[meta_sample_df['sub_category_1'] == 'Stationery & Party Supplies']\n",
    "\n",
    "print(stationary_df['sub_category_2'].value_counts(dropna=False))\n"
   ]
  },
  {
   "cell_type": "code",
   "execution_count": 47,
   "metadata": {},
   "outputs": [
    {
     "data": {
      "text/plain": [
       "sub_category_2\n",
       "Stationery        2412\n",
       "Party Supplies    1521\n",
       "Name: count, dtype: int64"
      ]
     },
     "execution_count": 47,
     "metadata": {},
     "output_type": "execute_result"
    }
   ],
   "source": [
    "#Moving Pens and Pencils under 'Stationery' as that seems like a suitable regrouping \n",
    "\n",
    "meta_sample_df.loc[meta_sample_df['sub_category_2'] == 'Pens & Pencils','sub_category_3'] = 'Pens & Pencils'\n",
    "\n",
    "meta_sample_df.loc[meta_sample_df['sub_category_3'] == 'Pens & Pencils','sub_category_2'] = 'Stationery'\n",
    "\n",
    "meta_sample_df.loc[meta_sample_df['sub_category_1'] == 'Stationery & Party Supplies','sub_category_2'].value_counts()"
   ]
  },
  {
   "cell_type": "code",
   "execution_count": 48,
   "metadata": {},
   "outputs": [
    {
     "data": {
      "text/plain": [
       "sub_category_2\n",
       "Skin Care                 451\n",
       "Hair Care                 424\n",
       "Fragrance                 164\n",
       "Makeup                     94\n",
       "Tools & Accessories        91\n",
       "Shaving & Hair Removal     50\n",
       "Name: count, dtype: int64"
      ]
     },
     "execution_count": 48,
     "metadata": {},
     "output_type": "execute_result"
    }
   ],
   "source": [
    "#Beauty & Grooming\n",
    "beauty_df = meta_sample_df[meta_sample_df['sub_category_1'] == 'Beauty & Grooming']\n",
    "beauty_df['sub_category_2'].value_counts(dropna=False)"
   ]
  },
  {
   "cell_type": "code",
   "execution_count": 49,
   "metadata": {},
   "outputs": [
    {
     "data": {
      "text/plain": [
       "sub_category_2\n",
       "Car & Vehicle Accessories    424\n",
       "Hunting & Shooting           197\n",
       "Sports & Fitness              65\n",
       "Camping & Hiking              45\n",
       "Fishing                       32\n",
       "Cycling                        7\n",
       "Name: count, dtype: int64"
      ]
     },
     "execution_count": 49,
     "metadata": {},
     "output_type": "execute_result"
    }
   ],
   "source": [
    "# Sports & Outdoors\n",
    "sports_df = meta_sample_df[meta_sample_df['sub_category_1'] == 'Sports & Outdoors']\n",
    "sports_df['sub_category_2'].value_counts(dropna=False)"
   ]
  },
  {
   "cell_type": "code",
   "execution_count": 50,
   "metadata": {},
   "outputs": [
    {
     "data": {
      "text/plain": [
       "sub_category_2\n",
       "Laptop Accessories                235\n",
       "Cell Phone Accessories            204\n",
       "Fitness Tracker Bands & Straps     59\n",
       "Computer Accessories               48\n",
       "Camera & Photo Accessories         25\n",
       "Name: count, dtype: int64"
      ]
     },
     "execution_count": 50,
     "metadata": {},
     "output_type": "execute_result"
    }
   ],
   "source": [
    "#Electronics Accessories\n",
    "electronics_df = meta_sample_df[meta_sample_df['sub_category_1'] == 'Electronics Accessories']\n",
    "electronics_df['sub_category_2'].value_counts(dropna=False)"
   ]
  },
  {
   "cell_type": "code",
   "execution_count": 51,
   "metadata": {},
   "outputs": [
    {
     "data": {
      "text/plain": [
       "sub_category_2\n",
       "Cats    264\n",
       "Dogs    187\n",
       "Name: count, dtype: int64"
      ]
     },
     "execution_count": 51,
     "metadata": {},
     "output_type": "execute_result"
    }
   ],
   "source": [
    "# Pet Supplies\n",
    "pet_df = meta_sample_df[meta_sample_df['sub_category_1'] == 'Pet Supplies']\n",
    "pet_df['sub_category_2'].value_counts(dropna=False)"
   ]
  },
  {
   "cell_type": "code",
   "execution_count": 52,
   "metadata": {},
   "outputs": [
    {
     "data": {
      "text/plain": [
       "sub_category_2\n",
       "Dolls, Toy Figures & Accessories    68\n",
       "Learning & Education                57\n",
       "Plushies & Stuffed Animals          53\n",
       "Novelty & Gag Toys                  51\n",
       "Puzzles                             47\n",
       "Baby & Toddler Toys                 39\n",
       "Pretend Play                        31\n",
       "Lawn & Playground                   20\n",
       "Puppets                              5\n",
       "Musical Toy Instruments              4\n",
       "Name: count, dtype: int64"
      ]
     },
     "execution_count": 52,
     "metadata": {},
     "output_type": "execute_result"
    }
   ],
   "source": [
    "#Toys & Games\n",
    "toys_df = meta_sample_df[meta_sample_df['sub_category_1'] == 'Toys & Games']\n",
    "toys_df['sub_category_2'].value_counts(dropna=False)"
   ]
  },
  {
   "cell_type": "code",
   "execution_count": 53,
   "metadata": {},
   "outputs": [
    {
     "data": {
      "text/plain": [
       "sub_category_2\n",
       "Nursery                        249\n",
       "Nursing & Feeding               26\n",
       "Diaper Changing                 20\n",
       "Health, Bathing & Skin Care     18\n",
       "Pacifiers & Teethers            12\n",
       "Carriers                         6\n",
       "Name: count, dtype: int64"
      ]
     },
     "execution_count": 53,
     "metadata": {},
     "output_type": "execute_result"
    }
   ],
   "source": [
    "#Baby\n",
    "baby_df = meta_sample_df[meta_sample_df['sub_category_1'] == 'Baby']\n",
    "baby_df['sub_category_2'].value_counts(dropna=False)"
   ]
  },
  {
   "cell_type": "code",
   "execution_count": 54,
   "metadata": {},
   "outputs": [
    {
     "data": {
      "text/plain": [
       "sub_category_2\n",
       "Personal Care            263\n",
       "Wellness & Relaxation      3\n",
       "Name: count, dtype: int64"
      ]
     },
     "execution_count": 54,
     "metadata": {},
     "output_type": "execute_result"
    }
   ],
   "source": [
    "#Health & Personal Care\n",
    "health_df = meta_sample_df[meta_sample_df['sub_category_1'] == 'Health & Personal Care']\n",
    "health_df['sub_category_2'].value_counts(dropna=False)"
   ]
  },
  {
   "cell_type": "code",
   "execution_count": 55,
   "metadata": {},
   "outputs": [
    {
     "name": "stdout",
     "output_type": "stream",
     "text": [
      "0 sub-categories under sub-category-1 have the same name.\n"
     ]
    }
   ],
   "source": [
    "#checking if sub_category_2 under differernt sub_catgory_1 have the same name\n",
    "non_unique_subcat = []\n",
    "for subcategory2 in meta_sample_df['sub_category_2'].unique():\n",
    "    unique_cat = meta_sample_df.loc[meta_sample_df['sub_category_2'] == subcategory2,'sub_category_1'].nunique()\n",
    "    if unique_cat != 1:\n",
    "        print(f'{subcategory2} is a subcategory under {unique_cat} subcategories at level 1')\n",
    "        non_unique_subcat.append(subcategory2)\n",
    "\n",
    "print(f'{len(non_unique_subcat)} sub-categories under sub-category-1 have the same name.')"
   ]
  },
  {
   "cell_type": "code",
   "execution_count": 56,
   "metadata": {},
   "outputs": [
    {
     "name": "stdout",
     "output_type": "stream",
     "text": [
      "0 sub-categories under sub-category-2 have the same name.\n"
     ]
    }
   ],
   "source": [
    "#checking if sub_category_3 under differernt sub_catgory_2 have the same name\n",
    "non_unique_subcat = []\n",
    "for subcategory3 in meta_sample_df['sub_category_3'].dropna().unique():\n",
    "    unique_cat = meta_sample_df.loc[meta_sample_df['sub_category_3'] == subcategory3,'sub_category_2'].nunique()\n",
    "    if unique_cat != 1:\n",
    "        print(f'{subcategory3} is a subcategory under {unique_cat} subcategories at level 2')\n",
    "        non_unique_subcat.append(subcategory3)\n",
    "\n",
    "print(f'{len(non_unique_subcat)} sub-categories under sub-category-2 have the same name.')"
   ]
  },
  {
   "cell_type": "code",
   "execution_count": 57,
   "metadata": {},
   "outputs": [
    {
     "name": "stdout",
     "output_type": "stream",
     "text": [
      "T-Shirts is a subcategory under 2 subcategories at level 3\n",
      "Bandanas is a subcategory under 2 subcategories at level 3\n",
      "Chains & Straps is a subcategory under 2 subcategories at level 3\n",
      "Collars is a subcategory under 2 subcategories at level 3\n",
      "Baseball Caps is a subcategory under 2 subcategories at level 3\n",
      "ID Tags & Collar Accessories is a subcategory under 2 subcategories at level 3\n",
      "Cases is a subcategory under 2 subcategories at level 3\n",
      "Tank Tops is a subcategory under 2 subcategories at level 3\n",
      "Display Stands is a subcategory under 2 subcategories at level 3\n",
      "Essential Oils is a subcategory under 2 subcategories at level 3\n",
      "Mobiles is a subcategory under 2 subcategories at level 3\n",
      "Neckwear is a subcategory under 2 subcategories at level 3\n",
      "12 sub-categories under sub-category-3 have the same name.\n"
     ]
    }
   ],
   "source": [
    "#checking if sub_category_4 under differernt sub_catgory_3 have the same name\n",
    "non_unique_subcat = []\n",
    "for subcategory4 in meta_sample_df['sub_category_4'].dropna().unique():\n",
    "    unique_cat = meta_sample_df.loc[meta_sample_df['sub_category_4'] == subcategory4,'sub_category_3'].nunique()\n",
    "    if unique_cat != 1:\n",
    "        print(f'{subcategory4} is a subcategory under {unique_cat} subcategories at level 3')\n",
    "        non_unique_subcat.append(subcategory4)\n",
    "\n",
    "print(f'{len(non_unique_subcat)} sub-categories under sub-category-3 have the same name.')"
   ]
  },
  {
   "cell_type": "markdown",
   "metadata": {},
   "source": [
    "Some sub-category 4 labels are still duplicated across different sub-category 3 labels. Let’s rename these sub-category 4 labels to ensure that no two sub-category 4 labels from different sub-category 3 labels have the same name."
   ]
  },
  {
   "cell_type": "code",
   "execution_count": 58,
   "metadata": {},
   "outputs": [],
   "source": [
    "# Identify sub_category_4 values that are associated with multiple sub_category_3 values\n",
    "subcat3_counts = meta_sample_df.groupby('sub_category_4')['sub_category_3'].nunique()\n",
    "\n",
    "# Find non-unique subcategories (appearing under multiple sub_category_3)\n",
    "non_unique_subcat = subcat3_counts[subcat3_counts > 1].index\n",
    "\n",
    "# Create masks for updating sub_category_3 labels\n",
    "mask_non_unique = meta_sample_df['sub_category_4'].isin(non_unique_subcat)\n",
    "mask_special = meta_sample_df['sub_category_4'].str.contains(r'Mobiles|Essential Oils|Display Stands', na=False)\n",
    "\n",
    "# Update labels for all but special subcategories\n",
    "meta_sample_df.loc[mask_non_unique & ~mask_special, 'sub_category_4'] = (\n",
    "    meta_sample_df['sub_category_2'].str.split().str[0] + ' ' + meta_sample_df['sub_category_4']\n",
    ")\n",
    "\n",
    "# Update labels individually for special subcategories\n",
    "\n",
    "meta_sample_df.loc[(meta_sample_df['sub_category_4'].str.contains(r'Mobiles|Essential Oils')) & \\\n",
    "                   (meta_sample_df['sub_category_2'].str.contains('Nursery')),'sub_category_4'] = \\\n",
    "'Nursery ' + meta_sample_df['sub_category_4']\n",
    "\n",
    "meta_sample_df.loc[(meta_sample_df['sub_category_4'] == 'Display Stands') & \\\n",
    "                   (meta_sample_df['sub_category_2'].str.contains('Home')),'sub_category_4'] = \\\n",
    "'Home ' + meta_sample_df['sub_category_4']\n",
    "\n",
    "meta_sample_df.loc[meta_sample_df['sub_category_4'] == 'Essential Oils','sub_category_4'] = \\\n",
    "meta_sample_df['sub_category_3'].str.split().str[0] + ' ' + meta_sample_df['sub_category_4']\n"
   ]
  },
  {
   "cell_type": "code",
   "execution_count": 59,
   "metadata": {},
   "outputs": [
    {
     "name": "stdout",
     "output_type": "stream",
     "text": [
      "0 sub-categories under sub-category-3 have the same name.\n"
     ]
    }
   ],
   "source": [
    "# checking again that no two sub-category 4 labels from different sub-category 3 labels have the same name.\n",
    "non_unique_subcat = []\n",
    "for subcategory4 in meta_sample_df['sub_category_4'].dropna().unique():\n",
    "    unique_cat = meta_sample_df.loc[meta_sample_df['sub_category_4'] == subcategory4,'sub_category_3'].nunique()\n",
    "    if unique_cat != 1:\n",
    "        print(f'{subcategory4} is a subcategory under {unique_cat} subcategories at level 3')\n",
    "        non_unique_subcat.append(subcategory4)\n",
    "\n",
    "print(f'{len(non_unique_subcat)} sub-categories under sub-category-3 have the same name.')\n"
   ]
  },
  {
   "cell_type": "code",
   "execution_count": 60,
   "metadata": {},
   "outputs": [
    {
     "name": "stdout",
     "output_type": "stream",
     "text": [
      "Clothing Sets is a subcategory under 0 subcategories at level 4\n",
      "Dresses is a subcategory under 0 subcategories at level 4\n",
      "Bodysuits, Footies & Rompers is a subcategory under 0 subcategories at level 4\n",
      "Oils is a subcategory under 2 subcategories at level 4\n",
      "Tops & Tees is a subcategory under 0 subcategories at level 4\n",
      "Pants is a subcategory under 0 subcategories at level 4\n",
      "Costumes is a subcategory under 0 subcategories at level 4\n",
      "Skirts is a subcategory under 0 subcategories at level 4\n",
      "8 sub-categories under sub-category-4 have the same name.\n"
     ]
    }
   ],
   "source": [
    "non_unique_subcat = []\n",
    "for subcategory5 in meta_sample_df['sub_category_5'].dropna().unique():\n",
    "    unique_cat = meta_sample_df.loc[meta_sample_df['sub_category_5'] == subcategory5,'sub_category_4'].nunique()\n",
    "    if unique_cat != 1:\n",
    "        print(f'{subcategory5} is a subcategory under {unique_cat} subcategories at level 4')\n",
    "        non_unique_subcat.append(subcategory4)\n",
    "\n",
    "print(f'{len(non_unique_subcat)} sub-categories under sub-category-4 have the same name.')\n"
   ]
  },
  {
   "cell_type": "markdown",
   "metadata": {},
   "source": [
    " As you can see above, we still have sub_category_5 with similar names under two differnt sub_category_4/3. This shouldn't be a problem as we are almost never going to group products by sub_category5 because this column has lot of missing values."
   ]
  },
  {
   "cell_type": "code",
   "execution_count": 61,
   "metadata": {},
   "outputs": [],
   "source": [
    "# # This function identifies common labels between consecutive subcategory columns and shifts values\n",
    "# # to the next level in the hierarchy. It is used to clean up duplicate or redundant labels in\n",
    "# # hierarchical subcategory data.\n",
    "\n",
    "# def shift_similar_labels(df, start):\n",
    "#     \"\"\"\n",
    "#     Identifies common labels across consecutive subcategories and shifts values accordingly.\n",
    "    \n",
    "#     Args:\n",
    "#         df (pd.DataFrame): The dataframe containing hierarchical subcategory columns.\n",
    "#         start (int): The starting index of the subcategory columns to process (e.g., 1 for sub_category_1).\n",
    "    \n",
    "#     Returns:\n",
    "#         pd.DataFrame: The modified dataframe with shifted subcategory labels.\n",
    "#     \"\"\"\n",
    "#     # Step 1: Check for common labels between current and next sub_category\n",
    "#     col_start = f'sub_category_{start}' \n",
    "#     col_next = f'sub_category_{start + 1}'  # Labels must be consecutive\n",
    "\n",
    "#     similar_labels_df = df[df[col_start] == df[col_next]]\n",
    "#     similar_labels = similar_labels_df[col_start].value_counts().index.to_list()\n",
    "    \n",
    "#     print(f'Labels common across {col_start} and {col_next} are: {similar_labels}')\n",
    "\n",
    "#     # Step 2: Shift labels for consecutive subcategories\n",
    "#     for i in range(start + 1, 5): \n",
    "#         col_current = f'sub_category_{i}'\n",
    "#         col_next = f'sub_category_{i + 1}'\n",
    "        \n",
    "#         # Replace current sub_category labels with next sub_category labels\n",
    "#         df.loc[df[col_start].isin(similar_labels), col_current] = df[col_next]\n",
    "\n",
    "#     return df"
   ]
  },
  {
   "cell_type": "code",
   "execution_count": 62,
   "metadata": {},
   "outputs": [],
   "source": [
    "# This function combines non-null subcategory values from multiple hierarchical columns into a single\n",
    "# 'combined_category' field. \n",
    "def combine_categories(row):\n",
    "    \"\"\"\n",
    "    Combines non-null subcategory values into a single 'combined_category' field.\n",
    "\n",
    "    Args:\n",
    "    row (pd.Series): A row of the DataFrame.\n",
    "\n",
    "    Returns:\n",
    "    str: Concatenated string of non-null subcategories.\n",
    "    \"\"\"\n",
    "    no_duplicate_combined = []\n",
    "    combined = row['sub_category_1']  # Start with sub_category_1\n",
    "\n",
    "    for ind in range(2, 6):  # Iterate through sub_category_2 to sub_category_5\n",
    "        col_name = f'sub_category_{ind}'\n",
    "        if pd.notna(row[col_name]):  # Check if the column value is not NaN\n",
    "            combined += ' ' + row[col_name]  # Append the value\n",
    "        # We can also add an else-break once we encounter a null subcategory, as the future subcategories should also be null.\n",
    "    \n",
    "     #Remove any duplicate words that exist in the combined string\n",
    "    for x in re.split(r\"[, ]+\", combined): \n",
    "        if x not in no_duplicate_combined:\n",
    "            no_duplicate_combined.append(x)\n",
    "    return ' '.join(no_duplicate_combined)"
   ]
  },
  {
   "cell_type": "code",
   "execution_count": 63,
   "metadata": {},
   "outputs": [
    {
     "data": {
      "text/plain": [
       "combined_category\n",
       "Home & Kitchen Artwork Prints                            6823\n",
       "Jewelry Necklaces Pendant                                3456\n",
       "Jewelry Earrings Drop & Dangle                           2133\n",
       "Home & Kitchen Décor Decorative Accessories Ornaments    1751\n",
       "Home & Kitchen Décor Signs Plaques                       1421\n",
       "                                                         ... \n",
       "Beauty & Grooming Tools Accessories                         1\n",
       "Clothing Shoes & Accessories Women Hats Caps Visors         1\n",
       "Clothing Shoes & Accessories Women Earmuffs                 1\n",
       "Home & Kitchen Bedding Bed Pillows                          1\n",
       "Clothing Shoes & Accessories Women Leggings                 1\n",
       "Name: count, Length: 541, dtype: int64"
      ]
     },
     "execution_count": 63,
     "metadata": {},
     "output_type": "execute_result"
    }
   ],
   "source": [
    "#Create a new column - combined category till the highest level of hierarchy available\n",
    "\n",
    "# Apply the combine_categories function to the DataFrame\n",
    "meta_sample_df['combined_category'] = meta_sample_df.apply(combine_categories,axis=1)\n",
    "\n",
    "meta_sample_df['combined_category'].value_counts(dropna=False)"
   ]
  },
  {
   "cell_type": "markdown",
   "metadata": {},
   "source": [
    "We have a total of 500 unique categories in our dataset. For the purpose of our model, we could consider using only those categories that have a sufficient number of items.\n",
    "\n",
    "However, for now, we will keep all categories in the dataset and filter later as needed."
   ]
  },
  {
   "cell_type": "markdown",
   "metadata": {},
   "source": [
    "#### <a id='toc1_1_2_2_'></a>[Details Column](#toc0_)"
   ]
  },
  {
   "cell_type": "code",
   "execution_count": 64,
   "metadata": {},
   "outputs": [
    {
     "data": {
      "text/plain": [
       "0    {'Package Dimensions': '3.62 x 2.05 x 0.83 inc...\n",
       "1    {'Department': 'unisex-adult', 'Date First Ava...\n",
       "2    {'Package Dimensions': '11.2 x 8.8 x 0.2 inche...\n",
       "3    {'Package Dimensions': '9 x 7 x 5 inches', 'Da...\n",
       "4    {'Department': 'Womens', 'Date First Available...\n",
       "Name: details, dtype: object"
      ]
     },
     "execution_count": 64,
     "metadata": {},
     "output_type": "execute_result"
    }
   ],
   "source": [
    "meta_sample_df['details'].head()"
   ]
  },
  {
   "cell_type": "markdown",
   "metadata": {},
   "source": [
    "Details column contains dictionaries with keys describing different product features. Lets unpack this column into multiple columns."
   ]
  },
  {
   "cell_type": "code",
   "execution_count": 65,
   "metadata": {},
   "outputs": [
    {
     "data": {
      "text/plain": [
       "Index(['main_category', 'title', 'average_rating', 'rating_number', 'features',\n",
       "       'description', 'price', 'images', 'videos', 'store', 'categories',\n",
       "       'details', 'parent_asin', 'sub_category_1', 'sub_category_2',\n",
       "       'sub_category_3', 'sub_category_4', 'sub_category_5', 'sub_category_6',\n",
       "       'combined_category', 'Package Dimensions', 'Department',\n",
       "       'Date First Available', 'Manufacturer recommended age', 'Item Weight',\n",
       "       'Manufacturer', 'Product Dimensions', 'Item model number',\n",
       "       'Country of Origin', 'Is Discontinued By Manufacturer', 'Color',\n",
       "       'Brand', 'Theme', 'Mounting Type', 'Shape',\n",
       "       'Best Sellers Rank.Handmade Products',\n",
       "       'Best Sellers Rank.Handmade Picture Frames',\n",
       "       'Best Sellers Rank.Photo Albums, Frames & Accessories', 'Material',\n",
       "       'Batteries', 'Batteries required',\n",
       "       'Best Sellers Rank.Handmade Signs & Plaques',\n",
       "       'Best Sellers Rank.Handmade Prints',\n",
       "       'Best Sellers Rank.Posters & Prints', 'Material Feature'],\n",
       "      dtype='object')"
      ]
     },
     "execution_count": 65,
     "metadata": {},
     "output_type": "execute_result"
    }
   ],
   "source": [
    "#keeping records with non-empty values in details column\n",
    "meta_sample_df = meta_sample_df[meta_sample_df['details'].map(bool)].reset_index(drop=True) #meta_sample_df[meta_sample_df['details'].map(len) > 0]\n",
    "\n",
    "#Flatten nested dictionaries with 'details' column into separate columns.\n",
    "\n",
    "details_df = pd.json_normalize(meta_sample_df['details']) #details_df = pd.DataFrame.from_dict(meta_sample_df['details'].to_list())\n",
    "\n",
    "#joining the original df\n",
    "meta_sample_expanded_df = pd.concat([meta_sample_df, details_df], axis=1)\n",
    "\n",
    "meta_sample_expanded_df.columns\n"
   ]
  },
  {
   "cell_type": "code",
   "execution_count": 66,
   "metadata": {},
   "outputs": [
    {
     "name": "stdout",
     "output_type": "stream",
     "text": [
      "There are 0 duplicated columns in the dataframe.\n"
     ]
    }
   ],
   "source": [
    "#Dropping empty column \n",
    "#meta_sample_expanded_df = meta_sample_expanded_df.drop(columns=[''])\n",
    "\n",
    "#Checking duplicated columns\n",
    "print(f\"There are {sum(meta_sample_expanded_df.columns.duplicated())} duplicated columns in the dataframe.\")"
   ]
  },
  {
   "cell_type": "markdown",
   "metadata": {},
   "source": [
    "Columns Product Dimensions, Item Weight, contain information about the item wherease Package Dimensions contains information about the Package. Since there are a lot of null values in Product Dimensions/ Item Weight , we will be dropping them."
   ]
  },
  {
   "cell_type": "code",
   "execution_count": 67,
   "metadata": {},
   "outputs": [
    {
     "data": {
      "text/plain": [
       "main_category                                             0.000000\n",
       "title                                                     0.000000\n",
       "average_rating                                            0.000000\n",
       "rating_number                                             0.000000\n",
       "features                                                  0.000000\n",
       "description                                               0.000000\n",
       "price                                                     0.000000\n",
       "images                                                    0.000000\n",
       "videos                                                    0.000000\n",
       "store                                                     0.000000\n",
       "categories                                                0.000000\n",
       "details                                                   0.000000\n",
       "parent_asin                                               0.000000\n",
       "sub_category_1                                            0.000000\n",
       "sub_category_2                                            0.000000\n",
       "sub_category_3                                            5.097844\n",
       "sub_category_4                                           74.595203\n",
       "sub_category_5                                           97.151269\n",
       "sub_category_6                                          100.000000\n",
       "combined_category                                         0.000000\n",
       "Package Dimensions                                       59.877479\n",
       "Department                                               57.041735\n",
       "Date First Available                                      0.030306\n",
       "Manufacturer recommended age                             97.242185\n",
       "Item Weight                                              96.449909\n",
       "Manufacturer                                             99.482639\n",
       "Product Dimensions                                       99.839813\n",
       "Item model number                                        99.859295\n",
       "Country of Origin                                        99.651485\n",
       "Is Discontinued By Manufacturer                          99.803013\n",
       "Color                                                    99.997835\n",
       "Brand                                                    99.991341\n",
       "Theme                                                    99.997835\n",
       "Mounting Type                                            99.997835\n",
       "Shape                                                    99.991341\n",
       "Best Sellers Rank.Handmade Products                      99.991341\n",
       "Best Sellers Rank.Handmade Picture Frames                99.997835\n",
       "Best Sellers Rank.Photo Albums, Frames & Accessories     99.997835\n",
       "Material                                                 99.993506\n",
       "Batteries                                                99.991341\n",
       "Batteries required                                       99.997835\n",
       "Best Sellers Rank.Handmade Signs & Plaques               99.997835\n",
       "Best Sellers Rank.Handmade Prints                        99.995671\n",
       "Best Sellers Rank.Posters & Prints                       99.995671\n",
       "Material Feature                                         99.997835\n",
       "dtype: float64"
      ]
     },
     "execution_count": 67,
     "metadata": {},
     "output_type": "execute_result"
    }
   ],
   "source": [
    "#Checking null values\n",
    "meta_sample_expanded_df.isna().mean()*100"
   ]
  },
  {
   "cell_type": "markdown",
   "metadata": {},
   "source": [
    "Most of the newly created columns appear to have more than 99% data missing because they will not contribute meaningful information to the model."
   ]
  },
  {
   "cell_type": "code",
   "execution_count": 68,
   "metadata": {},
   "outputs": [
    {
     "data": {
      "text/plain": [
       "['main_category',\n",
       " 'title',\n",
       " 'average_rating',\n",
       " 'rating_number',\n",
       " 'features',\n",
       " 'description',\n",
       " 'price',\n",
       " 'images',\n",
       " 'videos',\n",
       " 'store',\n",
       " 'categories',\n",
       " 'details',\n",
       " 'parent_asin',\n",
       " 'sub_category_1',\n",
       " 'sub_category_2',\n",
       " 'sub_category_3',\n",
       " 'sub_category_4',\n",
       " 'combined_category',\n",
       " 'Package Dimensions',\n",
       " 'Department',\n",
       " 'Date First Available']"
      ]
     },
     "execution_count": 68,
     "metadata": {},
     "output_type": "execute_result"
    }
   ],
   "source": [
    "meta_sample_expanded_df = meta_sample_expanded_df.dropna(thresh= 0.20*len(meta_sample_expanded_df),axis=1)\n",
    "\n",
    "meta_sample_expanded_df.columns.to_list()"
   ]
  },
  {
   "cell_type": "code",
   "execution_count": 69,
   "metadata": {},
   "outputs": [
    {
     "data": {
      "text/plain": [
       "0     October 27, 2015\n",
       "1     January 10, 2018\n",
       "2     November 5, 2019\n",
       "3     January 26, 2016\n",
       "4    November 14, 2016\n",
       "5       March 30, 2019\n",
       "6        April 5, 2019\n",
       "7      August 23, 2018\n",
       "8      August 22, 2016\n",
       "9      October 1, 2016\n",
       "Name: Date First Available, dtype: object"
      ]
     },
     "execution_count": 69,
     "metadata": {},
     "output_type": "execute_result"
    }
   ],
   "source": [
    "meta_sample_expanded_df['Date First Available'].head(10)"
   ]
  },
  {
   "cell_type": "code",
   "execution_count": 70,
   "metadata": {},
   "outputs": [
    {
     "data": {
      "text/plain": [
       "main_category                   object\n",
       "title                           object\n",
       "average_rating                 float64\n",
       "rating_number                    int64\n",
       "features                        object\n",
       "description                     object\n",
       "price                          float64\n",
       "images                          object\n",
       "videos                          object\n",
       "store                           object\n",
       "categories                      object\n",
       "details                         object\n",
       "parent_asin                     object\n",
       "sub_category_1                  object\n",
       "sub_category_2                  object\n",
       "sub_category_3                  object\n",
       "sub_category_4                  object\n",
       "combined_category               object\n",
       "Package Dimensions              object\n",
       "Department                      object\n",
       "date_first_available    datetime64[ns]\n",
       "dtype: object"
      ]
     },
     "execution_count": 70,
     "metadata": {},
     "output_type": "execute_result"
    }
   ],
   "source": [
    "\n",
    "#convert ` Date First Available` column to datetime, coercing errors to NaT\n",
    "meta_sample_expanded_df['date_first_available'] = pd.to_datetime(meta_sample_expanded_df['Date First Available'],errors='coerce')\n",
    "\n",
    "# Drop rows with NaT values in the column\n",
    "meta_sample_expanded_df = meta_sample_expanded_df.dropna(subset=['date_first_available']).reset_index(drop=True)\n",
    "\n",
    "#Delete redundant column \n",
    "meta_sample_expanded_df.drop(columns = 'Date First Available',inplace=True)\n",
    "\n",
    "#checking column data types\n",
    "meta_sample_expanded_df.dtypes\n"
   ]
  },
  {
   "cell_type": "code",
   "execution_count": 71,
   "metadata": {},
   "outputs": [
    {
     "data": {
      "text/plain": [
       "0    3.62 x 2.05 x 0.83 inches; 0.46 Ounces\n",
       "1                                       NaN\n",
       "2      11.2 x 8.8 x 0.2 inches; 3.21 Ounces\n",
       "3                          9 x 7 x 5 inches\n",
       "4                                       NaN\n",
       "5                         10 x 8 x 1 inches\n",
       "6    3.78 x 2.87 x 0.75 inches; 0.18 Ounces\n",
       "7                                       NaN\n",
       "8                                       NaN\n",
       "9       4.4 x 4.4 x 4.3 inches; 6.38 Ounces\n",
       "Name: Package Dimensions, dtype: object"
      ]
     },
     "execution_count": 71,
     "metadata": {},
     "output_type": "execute_result"
    }
   ],
   "source": [
    "#Inspecting Package Dimensions column\n",
    "meta_sample_expanded_df['Package Dimensions'].head(10)"
   ]
  },
  {
   "cell_type": "code",
   "execution_count": 72,
   "metadata": {},
   "outputs": [],
   "source": [
    "#Splitting Package Dimensions into dimensions and weight columns\n",
    "meta_sample_expanded_df[['package_dimensions_inches','package_weight_ounces']] = meta_sample_expanded_df['Package Dimensions'].str.lower().str.split('; ',expand=True).replace({None: np.nan})\n",
    "\n",
    "# Cleaning the columns further for non missing rows\n",
    "rows_not_null_dim, rows_not_null_wt = meta_sample_expanded_df['package_dimensions_inches'].notna(), meta_sample_expanded_df['package_weight_ounces'].notna()\n",
    "\n",
    "meta_sample_expanded_df.loc[rows_not_null_wt,'package_weight_ounces'] = (\n",
    "    meta_sample_expanded_df.loc[rows_not_null_wt,'package_weight_ounces']\n",
    "    .apply(lambda x: float(x.replace('ounces', '').strip()) if 'ounces' in x else float(x.replace('pounds', '').strip()) * 16)  # Handle Pounds or Ounces\n",
    ")\n",
    "meta_sample_expanded_df['package_weight_ounces'] = meta_sample_expanded_df['package_weight_ounces'].astype('float')\n",
    "\n",
    "\n",
    "meta_sample_expanded_df[['package_length_inches', 'package_width_inches', 'package_height_inches']] = (\n",
    "                                                                        meta_sample_expanded_df['package_dimensions_inches']\n",
    "                                                                        .str.replace('inches', '')  \n",
    "                                                                        .str.strip()  \n",
    "                                                                        .str.split(' x ',expand=True)\n",
    "                                                                        .astype('float')\n",
    "                                                                    )\n",
    "#Delete redundant column \n",
    "meta_sample_expanded_df.drop(columns = 'package_dimensions_inches', inplace=True)"
   ]
  },
  {
   "cell_type": "code",
   "execution_count": 73,
   "metadata": {},
   "outputs": [
    {
     "data": {
      "text/plain": [
       "main_category             0.000000\n",
       "title                     0.000000\n",
       "average_rating            0.000000\n",
       "rating_number             0.000000\n",
       "features                  0.000000\n",
       "description               0.000000\n",
       "price                     0.000000\n",
       "images                    0.000000\n",
       "videos                    0.000000\n",
       "store                     0.000000\n",
       "categories                0.000000\n",
       "details                   0.000000\n",
       "parent_asin               0.000000\n",
       "sub_category_1            0.000000\n",
       "sub_category_2            0.000000\n",
       "sub_category_3            5.092603\n",
       "sub_category_4           74.591140\n",
       "combined_category         0.000000\n",
       "Package Dimensions       59.876530\n",
       "Department               57.045381\n",
       "date_first_available      0.000000\n",
       "package_weight_ounces    61.310517\n",
       "package_length_inches    59.876530\n",
       "package_width_inches     59.876530\n",
       "package_height_inches    59.876530\n",
       "dtype: float64"
      ]
     },
     "execution_count": 73,
     "metadata": {},
     "output_type": "execute_result"
    }
   ],
   "source": [
    "#checking null values\n",
    "meta_sample_expanded_df.isna().mean() *100"
   ]
  },
  {
   "cell_type": "code",
   "execution_count": 74,
   "metadata": {},
   "outputs": [
    {
     "name": "stdout",
     "output_type": "stream",
     "text": [
      "['womens', 'unisex-adult', 'women', 'mens', 'girls', 'unisex adult', 'unisex-child', 'unisex', 'unisex-baby', 'women, girls', 'men', 'boys', 'baby-girls', 'women, men', 'unisex adult, unisex child', 'women-girls', 'baby-boys', 'female', 'woman', 'girls, women', 'men, women', 'women/girls', \"women,women's,ladies,girl,girl's\", 'women girls', 'women, men, girls, boys', 'women, men, unisex', 'women,girls', 'women,men', 'women,men,unisex', 'women or men', 'women, girl', 'women and girls', 'baby', 'women, man', 'women, girls, and babies', 'women men', 'unisex adult, unisex children', 'women, girls, unisex', 'both', 'girls, women, men, unisex adult', 'women, girls,', 'any body', 'boys,girls,unisex adult', 'baby girl', 'girls, woman', 'women and girls.', 'women, men, boys, girls', 'women/girls/unisex', 'cheerleader', 'unisex adult & child', 'teen', 'everyone', 'women, girls, men, unisex adult', 'men and women', 'dance', 'unisex adult,women', 'girls,women', 'women, girl, men, unisex', 'men, women, unisex', 'women, men, girls, boys, unisex adults, children', 'volleyball', 'women, teen', 'unisex adult, teens, seniors, women, men', 'men, boys', 'girl', 'unisex adult, women, men, girls', 'unisex adult, men, women', 'women, girls, boys, men', 'women,unisex adult, unisex child', 'unisex adult/unisex child', 'man', 'women, girls, men, boy, unisex adult,', 'women and men', 'girls, teens, and women', 'unisex child', 'women men boys girls', 'baby girls', 'paracord keychain for unisex adult', 'field hockey', 'unisex adult or child', 'unisex child, unisex adult, girls, women', 'girls, women,', 'all', 'unisex,queen,goddess,princess,gifts for women&girl', 'wedding', 'unisex adult and child', 'men, women, boys, unisex', 'male', 'women, teens', 'men, women, unisex adult', 'women, unisex adult, girls, men', \"women,woman,lady,ladies,girl's,girl,women's\", 'any', 'soccer', 'unisex adult & youth', 'softball', 'women, girls, men, unisex adult,', 'unisex baby', 'unisex adult, unisex child, baby', 'unisex adult unisex child', 'womens, mens', 'unisex adult and children', 'women, teens, little girls', 'women, girls , teens', 'boys, mens', 'women, men, girls', 'women,unisex adult,unisex child,child,boy, girl', 'women girl', 'men, women, his and her', 'women, infant', 'men / women', 'girls and women', 'men, woman, unisex', 'women, girl, men, unisex adult', 'men/women', 'women ladies girls female', 'woman, girls, men, boys', 'unisex youth', 'anybody', 'women, man, girls, boys', 'women, unisex, girls, boys, men', 'unisex adults and kids', 'women, girls, men', 'woman, girls', 'unisex teen or adult', 'unisex adult children', 'women ladies females girls', 'women girls unisex', 'unisex adult,unisex child,women,men', \"women,women's,ladies,girl,girl's,boys, sports\", 'women, men, girls, boy,', 'swim', 'women, girls, mothers', 'women, man, teenage', 'bracelets for men/women', 'women/teen', 'unisex adult59', 'wome', 'women, girls, men, unisex adult, boys', 'women, bride', 'women & man', 'cats, kittens, unisex', 'women men girls boys', 'men, women, ring bearer, teens', 'baby,children,unisex child,unisex baby', 'unisex aldult', 'women girls ladies females', 'unisex adult,unisex children,women,men', 'girls, women, teen', 'for everyone, all ages and genders', 'women, teen, girls', 'male, female', 'unisex kids, infant, toddler', 'children', 'communion', 'women, men, girls, boys, unisex', 'women, girls, unisex adults', 'women, girl, men', 'men, women, teens, people', 'women, girls, teens', 'men,women,boy,girl', 'women ,girl', 'unisex child and unisex adult', 'brown', 'men, women, teens, unisex', 'man, women', 'men women', 'men, wonem, children', 'unisex adult, teens, unisex kids, godmother', 'women, unisex', 'women,girl,men,boy', 'women,men,teen girl,boy,best friend,couples', 're', 'womenlight', 'women, girls, uniisex', 'girls, women, couple', 'women men girls boys unisex adult unisex child', 'ladies', 'women teen girl', 'men.male,teen boy,women,teen girls', 'mens, male,women,teen girl', 'unisex adults and teens', 'women,girl,men', 'women, men, girls, boys, wife, husband her, him', 'women, child, teen', 'pet', 'women, girls, men, boy, unisex adults', 'women, girls and babies', 'women, girls, unisex child, unisex adult', 'women, man, girl, boy', 'women, men, boy, girls, unisex adult', 'women,unisex adult, unisex child,man.boy, girl', 'womem', 'female, male', \"women,women's,ladies,girl,girl's,men,\", 'unisex adult , girls', 'kids', 'cheerleading', 'unisex adult, women', \"women's, men's\", 'women, girls, unisex adult, men']\n"
     ]
    }
   ],
   "source": [
    "print(meta_sample_expanded_df['Department'].str.lower().value_counts().index.unique().to_list())"
   ]
  },
  {
   "cell_type": "markdown",
   "metadata": {},
   "source": [
    "#### <a id='toc1_1_2_3_'></a>[Department Column](#toc0_)"
   ]
  },
  {
   "cell_type": "code",
   "execution_count": 75,
   "metadata": {},
   "outputs": [],
   "source": [
    "# Function to clean different categories in the Department column \n",
    "\n",
    "def clean_and_categorize(text):\n",
    "    \"\"\"\n",
    "    Cleans the text in department column to create cleaner categories.\n",
    "\n",
    "    Args:\n",
    "        text (str): The input text from Department column.\n",
    "\n",
    "    Returns:\n",
    "        str: The cleaned department\n",
    "    \"\"\"\n",
    "\n",
    "    # Step 1: Clean text\n",
    "    clean_text = text.lower()\n",
    "    clean_text = re.sub(r'[^a-z /s]', ' ', clean_text).strip()  # Remove non-alphabetic characters\n",
    "    clean_text = re.sub(r'\\ss', '', clean_text)  # Remove space before 's\n",
    "    clean_text = re.sub(r'wo\\w+', 'women', clean_text)  # Normalize 'women'\n",
    "    clean_text = re.sub(r'man', 'men', clean_text)  # Normalize 'men'\n",
    "    clean_text = re.sub(r'\\/', ' ', clean_text)  # Replace '/' with space\n",
    "    clean_text = re.sub(r'\\s+', ',', clean_text)  # Replace spaces with commas\n",
    "    \n",
    "    # Step 2: Clean categories\n",
    "    category_map = {\n",
    "        r'\\b(girls?|ladies|female?|womens?)\\b': 'women',\n",
    "        r'\\b(boys?|male?|mens?)\\b': 'men',\n",
    "        r'\\b(both|unisex|uniisex|any\\w*|everyone|all)\\b': 'unisex',\n",
    "        r'\\b(dance|volleyball|field|hockey|soccer|softball|swim|cheerlead\\w+|sports)\\b': 'sports',\n",
    "        r'\\b(bab\\w+|infant|toddler|kids?|teens?|child\\w*)\\b': 'kids',\n",
    "        r'\\b(pet|brown|re|communion|wedding)\\b': 'misc'\n",
    "    }\n",
    "\n",
    "    for pattern, replacement in category_map.items():\n",
    "        clean_text = re.sub(pattern, replacement, clean_text)\n",
    "\n",
    "    # Step 3: Categorize based on cleaned values\n",
    "    set_cat = set(clean_text.split(','))\n",
    "    \n",
    "    special_map = {\n",
    "    frozenset({'adult', 'kids'}): 'unisex',\n",
    "    frozenset({'kids', 'men', 'women'}): 'unisex',\n",
    "    frozenset({'kids', 'unisex'}): 'unisex',\n",
    "    frozenset({'women', 'men'}): 'unisex',\n",
    "                   }\n",
    "\n",
    "    priority_list = ['kids', 'unisex', 'women', 'men', 'sports', 'misc']\n",
    "\n",
    "    #check special_map first\n",
    "    for key_set,category in special_map.items():\n",
    "        if key_set <= set_cat:\n",
    "            return(category)\n",
    "\n",
    "    # Check priority categories in order\n",
    "    for category in priority_list:\n",
    "        if category in set_cat:\n",
    "            return category\n"
   ]
  },
  {
   "cell_type": "code",
   "execution_count": 76,
   "metadata": {},
   "outputs": [
    {
     "data": {
      "text/plain": [
       "department\n",
       "NaN       26335\n",
       "women     11707\n",
       "unisex     6707\n",
       "men        1269\n",
       "kids        123\n",
       "sports       18\n",
       "misc          6\n",
       "Name: count, dtype: int64"
      ]
     },
     "execution_count": 76,
     "metadata": {},
     "output_type": "execute_result"
    }
   ],
   "source": [
    "# Apply the clean_and_categorize function to the 'Department' column\n",
    "\n",
    "meta_sample_expanded_df['department'] = (meta_sample_expanded_df['Department']\n",
    "                                                .apply(lambda x: clean_and_categorize(x) if pd.notnull(x) else x)\n",
    "                                                )\n",
    "#checking distinct values in the column\n",
    "meta_sample_expanded_df['department'].value_counts(dropna=False)"
   ]
  },
  {
   "cell_type": "code",
   "execution_count": 77,
   "metadata": {},
   "outputs": [],
   "source": [
    "#Rename columns\n",
    "meta_sample_expanded_df = meta_sample_expanded_df.rename(\n",
    "                          columns={'Department': 'orig_department',\n",
    "                                   'videos':'videos_product',\n",
    "                                   'description':'description_product'})"
   ]
  },
  {
   "cell_type": "code",
   "execution_count": 78,
   "metadata": {},
   "outputs": [],
   "source": [
    "# Pickle the DataFrame\n",
    "meta_sample_expanded_df.to_pickle('../data/meta_sample_handmade.pkl')"
   ]
  },
  {
   "cell_type": "markdown",
   "metadata": {},
   "source": [
    "### <a id='toc1_1_3_'></a>[Loading Review dataset](#toc0_)"
   ]
  },
  {
   "cell_type": "markdown",
   "metadata": {},
   "source": [
    "Overview: Contains full review text data including user_id of the reviewer and the rating they provided.\n",
    "\n",
    "Step: Importing reviews data into a new dataframe review_df."
   ]
  },
  {
   "cell_type": "code",
   "execution_count": 79,
   "metadata": {},
   "outputs": [
    {
     "data": {
      "text/html": [
       "<div>\n",
       "<style scoped>\n",
       "    .dataframe tbody tr th:only-of-type {\n",
       "        vertical-align: middle;\n",
       "    }\n",
       "\n",
       "    .dataframe tbody tr th {\n",
       "        vertical-align: top;\n",
       "    }\n",
       "\n",
       "    .dataframe thead th {\n",
       "        text-align: right;\n",
       "    }\n",
       "</style>\n",
       "<table border=\"1\" class=\"dataframe\">\n",
       "  <thead>\n",
       "    <tr style=\"text-align: right;\">\n",
       "      <th></th>\n",
       "      <th>rating</th>\n",
       "      <th>title</th>\n",
       "      <th>text</th>\n",
       "      <th>images</th>\n",
       "      <th>asin</th>\n",
       "      <th>parent_asin</th>\n",
       "      <th>user_id</th>\n",
       "      <th>timestamp</th>\n",
       "      <th>helpful_vote</th>\n",
       "      <th>verified_purchase</th>\n",
       "    </tr>\n",
       "  </thead>\n",
       "  <tbody>\n",
       "    <tr>\n",
       "      <th>0</th>\n",
       "      <td>5</td>\n",
       "      <td>Beautiful colors</td>\n",
       "      <td>I bought one for myself and one for my grandda...</td>\n",
       "      <td>[]</td>\n",
       "      <td>B08GPJ1MSN</td>\n",
       "      <td>B08GPJ1MSN</td>\n",
       "      <td>AF7OANMNHQJC3PD4HRPX2FATECPA</td>\n",
       "      <td>2021-05-21 14:31:35.111</td>\n",
       "      <td>1</td>\n",
       "      <td>True</td>\n",
       "    </tr>\n",
       "    <tr>\n",
       "      <th>1</th>\n",
       "      <td>5</td>\n",
       "      <td>You simply must order order more than one!</td>\n",
       "      <td>I’ve ordered three bows so far. Have not been ...</td>\n",
       "      <td>[]</td>\n",
       "      <td>B084TWHS7W</td>\n",
       "      <td>B084TWHS7W</td>\n",
       "      <td>AGMJ3EMDVL6OWBJF7CA5RGJLXN5A</td>\n",
       "      <td>2020-04-24 21:15:46.965</td>\n",
       "      <td>0</td>\n",
       "      <td>True</td>\n",
       "    </tr>\n",
       "    <tr>\n",
       "      <th>2</th>\n",
       "      <td>5</td>\n",
       "      <td>Great</td>\n",
       "      <td>As pictured. Used a frame from the dollar stor...</td>\n",
       "      <td>[]</td>\n",
       "      <td>B07V3NRQC4</td>\n",
       "      <td>B07V3NRQC4</td>\n",
       "      <td>AEYORY2AVPMCPDV57CE337YU5LXA</td>\n",
       "      <td>2020-06-06 13:09:11.297</td>\n",
       "      <td>0</td>\n",
       "      <td>True</td>\n",
       "    </tr>\n",
       "    <tr>\n",
       "      <th>3</th>\n",
       "      <td>5</td>\n",
       "      <td>Well made and so beautiful</td>\n",
       "      <td>This is beyond beautiful.  So shiny, the size ...</td>\n",
       "      <td>[]</td>\n",
       "      <td>B071ZMDK26</td>\n",
       "      <td>B071ZMDK26</td>\n",
       "      <td>AEINY4XOINMMJCK5GZ3M6MMHBN6A</td>\n",
       "      <td>2019-06-02 01:14:39.784</td>\n",
       "      <td>2</td>\n",
       "      <td>True</td>\n",
       "    </tr>\n",
       "    <tr>\n",
       "      <th>4</th>\n",
       "      <td>5</td>\n",
       "      <td>Smells just like the real thing!</td>\n",
       "      <td>Oh wow what a pleasant surprise! This smells g...</td>\n",
       "      <td>[]</td>\n",
       "      <td>B01MPVZ4YP</td>\n",
       "      <td>B01MPVZ4YP</td>\n",
       "      <td>AGCPAPUHXYA3EEIL2KGSQTGO5HRA</td>\n",
       "      <td>2019-01-08 00:12:11.674</td>\n",
       "      <td>1</td>\n",
       "      <td>True</td>\n",
       "    </tr>\n",
       "  </tbody>\n",
       "</table>\n",
       "</div>"
      ],
      "text/plain": [
       "   rating                                       title  \\\n",
       "0       5                            Beautiful colors   \n",
       "1       5  You simply must order order more than one!   \n",
       "2       5                                       Great   \n",
       "3       5                  Well made and so beautiful   \n",
       "4       5            Smells just like the real thing!   \n",
       "\n",
       "                                                text images        asin  \\\n",
       "0  I bought one for myself and one for my grandda...     []  B08GPJ1MSN   \n",
       "1  I’ve ordered three bows so far. Have not been ...     []  B084TWHS7W   \n",
       "2  As pictured. Used a frame from the dollar stor...     []  B07V3NRQC4   \n",
       "3  This is beyond beautiful.  So shiny, the size ...     []  B071ZMDK26   \n",
       "4  Oh wow what a pleasant surprise! This smells g...     []  B01MPVZ4YP   \n",
       "\n",
       "  parent_asin                       user_id               timestamp  \\\n",
       "0  B08GPJ1MSN  AF7OANMNHQJC3PD4HRPX2FATECPA 2021-05-21 14:31:35.111   \n",
       "1  B084TWHS7W  AGMJ3EMDVL6OWBJF7CA5RGJLXN5A 2020-04-24 21:15:46.965   \n",
       "2  B07V3NRQC4  AEYORY2AVPMCPDV57CE337YU5LXA 2020-06-06 13:09:11.297   \n",
       "3  B071ZMDK26  AEINY4XOINMMJCK5GZ3M6MMHBN6A 2019-06-02 01:14:39.784   \n",
       "4  B01MPVZ4YP  AGCPAPUHXYA3EEIL2KGSQTGO5HRA 2019-01-08 00:12:11.674   \n",
       "\n",
       "   helpful_vote  verified_purchase  \n",
       "0             1               True  \n",
       "1             0               True  \n",
       "2             0               True  \n",
       "3             2               True  \n",
       "4             1               True  "
      ]
     },
     "execution_count": 79,
     "metadata": {},
     "output_type": "execute_result"
    }
   ],
   "source": [
    "# Load the Reviews json file into a dataframe\n",
    "review_df = pd.read_json('../data/Handmade_Products.jsonl',lines=True)\n",
    "\n",
    "# Display the first few rows to get a preview of the 'reviews_df' DataFrame\n",
    "review_df.head() "
   ]
  },
  {
   "cell_type": "code",
   "execution_count": 80,
   "metadata": {},
   "outputs": [
    {
     "name": "stdout",
     "output_type": "stream",
     "text": [
      "<class 'pandas.core.frame.DataFrame'>\n",
      "RangeIndex: 664162 entries, 0 to 664161\n",
      "Data columns (total 10 columns):\n",
      " #   Column             Non-Null Count   Dtype         \n",
      "---  ------             --------------   -----         \n",
      " 0   rating             664162 non-null  int64         \n",
      " 1   title              664162 non-null  object        \n",
      " 2   text               664162 non-null  object        \n",
      " 3   images             664162 non-null  object        \n",
      " 4   asin               664162 non-null  object        \n",
      " 5   parent_asin        664162 non-null  object        \n",
      " 6   user_id            664162 non-null  object        \n",
      " 7   timestamp          664162 non-null  datetime64[ns]\n",
      " 8   helpful_vote       664162 non-null  int64         \n",
      " 9   verified_purchase  664162 non-null  bool          \n",
      "dtypes: bool(1), datetime64[ns](1), int64(2), object(6)\n",
      "memory usage: 46.2+ MB\n"
     ]
    }
   ],
   "source": [
    "# Inspecting review_df and check its concise summary\n",
    "review_df.info()"
   ]
  },
  {
   "cell_type": "code",
   "execution_count": 81,
   "metadata": {},
   "outputs": [
    {
     "name": "stdout",
     "output_type": "stream",
     "text": [
      "The shape of the review dataset is 664162 by 10.\n"
     ]
    }
   ],
   "source": [
    "# Print the shape of the 'review_df' DataFrame\n",
    "print(f\"The shape of the review dataset is {review_df.shape[0]} by {review_df.shape[1]}.\")"
   ]
  },
  {
   "cell_type": "code",
   "execution_count": 82,
   "metadata": {},
   "outputs": [
    {
     "data": {
      "text/plain": [
       "rating               0\n",
       "title                0\n",
       "text                 0\n",
       "images               0\n",
       "asin                 0\n",
       "parent_asin          0\n",
       "user_id              0\n",
       "timestamp            0\n",
       "helpful_vote         0\n",
       "verified_purchase    0\n",
       "dtype: int64"
      ]
     },
     "execution_count": 82,
     "metadata": {},
     "output_type": "execute_result"
    }
   ],
   "source": [
    "#check number of null values explicitly\n",
    "review_df.isnull().sum()"
   ]
  },
  {
   "cell_type": "code",
   "execution_count": 83,
   "metadata": {},
   "outputs": [],
   "source": [
    "#rename columns\n",
    "review_df.rename(columns={'rating':'rating_by_user','text':'text_review',\n",
    "                          'timestamp':'time_of_review','asin':'product_id',\n",
    "                         },inplace=True)"
   ]
  },
  {
   "cell_type": "code",
   "execution_count": 84,
   "metadata": {},
   "outputs": [],
   "source": [
    "# Pickle the DataFrame\n",
    "review_df.to_pickle('../data/review_sample_handmade.pkl')"
   ]
  },
  {
   "cell_type": "markdown",
   "metadata": {},
   "source": [
    "### <a id='toc1_1_4_'></a>[Merging datasets](#toc0_)"
   ]
  },
  {
   "cell_type": "markdown",
   "metadata": {},
   "source": [
    "Merging `review_df` and `meta_sample_expanded_df`."
   ]
  },
  {
   "cell_type": "code",
   "execution_count": 85,
   "metadata": {},
   "outputs": [
    {
     "data": {
      "text/plain": [
       "Index(['main_category', 'title', 'average_rating', 'rating_number', 'features',\n",
       "       'description_product', 'price', 'images', 'videos_product', 'store',\n",
       "       'categories', 'details', 'parent_asin', 'sub_category_1',\n",
       "       'sub_category_2', 'sub_category_3', 'sub_category_4',\n",
       "       'combined_category', 'Package Dimensions', 'orig_department',\n",
       "       'date_first_available', 'package_weight_ounces',\n",
       "       'package_length_inches', 'package_width_inches',\n",
       "       'package_height_inches', 'department'],\n",
       "      dtype='object')"
      ]
     },
     "execution_count": 85,
     "metadata": {},
     "output_type": "execute_result"
    }
   ],
   "source": [
    "meta_sample_expanded_df.columns"
   ]
  },
  {
   "cell_type": "code",
   "execution_count": 86,
   "metadata": {},
   "outputs": [
    {
     "data": {
      "text/html": [
       "<div>\n",
       "<style scoped>\n",
       "    .dataframe tbody tr th:only-of-type {\n",
       "        vertical-align: middle;\n",
       "    }\n",
       "\n",
       "    .dataframe tbody tr th {\n",
       "        vertical-align: top;\n",
       "    }\n",
       "\n",
       "    .dataframe thead th {\n",
       "        text-align: right;\n",
       "    }\n",
       "</style>\n",
       "<table border=\"1\" class=\"dataframe\">\n",
       "  <thead>\n",
       "    <tr style=\"text-align: right;\">\n",
       "      <th></th>\n",
       "      <th>rating_by_user</th>\n",
       "      <th>title_review</th>\n",
       "      <th>text_review</th>\n",
       "      <th>images_review</th>\n",
       "      <th>product_id</th>\n",
       "      <th>parent_asin</th>\n",
       "      <th>user_id</th>\n",
       "      <th>time_of_review</th>\n",
       "      <th>helpful_vote</th>\n",
       "      <th>verified_purchase</th>\n",
       "      <th>...</th>\n",
       "      <th>sub_category_4</th>\n",
       "      <th>combined_category</th>\n",
       "      <th>Package Dimensions</th>\n",
       "      <th>orig_department</th>\n",
       "      <th>date_first_available</th>\n",
       "      <th>package_weight_ounces</th>\n",
       "      <th>package_length_inches</th>\n",
       "      <th>package_width_inches</th>\n",
       "      <th>package_height_inches</th>\n",
       "      <th>department</th>\n",
       "    </tr>\n",
       "  </thead>\n",
       "  <tbody>\n",
       "    <tr>\n",
       "      <th>0</th>\n",
       "      <td>5</td>\n",
       "      <td>Beautiful colors</td>\n",
       "      <td>I bought one for myself and one for my grandda...</td>\n",
       "      <td>[]</td>\n",
       "      <td>B08GPJ1MSN</td>\n",
       "      <td>B08GPJ1MSN</td>\n",
       "      <td>AF7OANMNHQJC3PD4HRPX2FATECPA</td>\n",
       "      <td>2021-05-21 14:31:35.111</td>\n",
       "      <td>1</td>\n",
       "      <td>True</td>\n",
       "      <td>...</td>\n",
       "      <td>NaN</td>\n",
       "      <td>Jewelry Necklaces Pendant</td>\n",
       "      <td>4.37 x 3.43 x 0.67 inches; 1.27 Ounces</td>\n",
       "      <td>Unisex-adult</td>\n",
       "      <td>2020-09-09</td>\n",
       "      <td>1.27</td>\n",
       "      <td>4.37</td>\n",
       "      <td>3.43</td>\n",
       "      <td>0.67</td>\n",
       "      <td>unisex</td>\n",
       "    </tr>\n",
       "    <tr>\n",
       "      <th>1</th>\n",
       "      <td>5</td>\n",
       "      <td>Great</td>\n",
       "      <td>As pictured. Used a frame from the dollar stor...</td>\n",
       "      <td>[]</td>\n",
       "      <td>B07V3NRQC4</td>\n",
       "      <td>B07V3NRQC4</td>\n",
       "      <td>AEYORY2AVPMCPDV57CE337YU5LXA</td>\n",
       "      <td>2020-06-06 13:09:11.297</td>\n",
       "      <td>0</td>\n",
       "      <td>True</td>\n",
       "      <td>...</td>\n",
       "      <td>NaN</td>\n",
       "      <td>Home &amp; Kitchen Artwork Prints</td>\n",
       "      <td>14.7 x 12.4 x 0.2 inches; 3.53 Ounces</td>\n",
       "      <td>NaN</td>\n",
       "      <td>2019-07-11</td>\n",
       "      <td>3.53</td>\n",
       "      <td>14.70</td>\n",
       "      <td>12.40</td>\n",
       "      <td>0.20</td>\n",
       "      <td>NaN</td>\n",
       "    </tr>\n",
       "    <tr>\n",
       "      <th>2</th>\n",
       "      <td>5</td>\n",
       "      <td>These are beautiful</td>\n",
       "      <td>I have several of these prints. Yes the size i...</td>\n",
       "      <td>[]</td>\n",
       "      <td>B09ZXMD847</td>\n",
       "      <td>B09ZXTLVWP</td>\n",
       "      <td>AFGNIWCBLQT2QIXXKIW7Q6VREZRQ</td>\n",
       "      <td>2022-11-13 07:11:04.824</td>\n",
       "      <td>29</td>\n",
       "      <td>False</td>\n",
       "      <td>...</td>\n",
       "      <td>NaN</td>\n",
       "      <td>Home &amp; Kitchen Artwork Prints</td>\n",
       "      <td>12.52 x 1.22 x 1.14 inches; 2.4 Ounces</td>\n",
       "      <td>NaN</td>\n",
       "      <td>2022-05-10</td>\n",
       "      <td>2.40</td>\n",
       "      <td>12.52</td>\n",
       "      <td>1.22</td>\n",
       "      <td>1.14</td>\n",
       "      <td>NaN</td>\n",
       "    </tr>\n",
       "    <tr>\n",
       "      <th>3</th>\n",
       "      <td>5</td>\n",
       "      <td>fair trade necklace</td>\n",
       "      <td>This is a very lovely, fair trade necklace mad...</td>\n",
       "      <td>[]</td>\n",
       "      <td>B07PWBRXJG</td>\n",
       "      <td>B07PWBRXJG</td>\n",
       "      <td>AFZUK3MTBIBEDQOPAK3OATUOUKLA</td>\n",
       "      <td>2020-12-05 19:21:29.380</td>\n",
       "      <td>1</td>\n",
       "      <td>True</td>\n",
       "      <td>...</td>\n",
       "      <td>NaN</td>\n",
       "      <td>Jewelry Necklaces Strand</td>\n",
       "      <td>4.49 x 4.21 x 2.05 inches; 3.32 Ounces</td>\n",
       "      <td>Womens</td>\n",
       "      <td>2019-03-20</td>\n",
       "      <td>3.32</td>\n",
       "      <td>4.49</td>\n",
       "      <td>4.21</td>\n",
       "      <td>2.05</td>\n",
       "      <td>women</td>\n",
       "    </tr>\n",
       "    <tr>\n",
       "      <th>4</th>\n",
       "      <td>5</td>\n",
       "      <td>Set of 2 Fair Trade bracelets</td>\n",
       "      <td>I purchased about 5 different color combos of ...</td>\n",
       "      <td>[]</td>\n",
       "      <td>B0855GMD9K</td>\n",
       "      <td>B0855GMD9K</td>\n",
       "      <td>AFZUK3MTBIBEDQOPAK3OATUOUKLA</td>\n",
       "      <td>2020-12-04 19:15:16.926</td>\n",
       "      <td>7</td>\n",
       "      <td>True</td>\n",
       "      <td>...</td>\n",
       "      <td>NaN</td>\n",
       "      <td>Jewelry Bracelets Wrap</td>\n",
       "      <td>6.18 x 4.8 x 1.38 inches; 3.21 Ounces</td>\n",
       "      <td>Womens</td>\n",
       "      <td>2020-02-26</td>\n",
       "      <td>3.21</td>\n",
       "      <td>6.18</td>\n",
       "      <td>4.80</td>\n",
       "      <td>1.38</td>\n",
       "      <td>women</td>\n",
       "    </tr>\n",
       "  </tbody>\n",
       "</table>\n",
       "<p>5 rows × 35 columns</p>\n",
       "</div>"
      ],
      "text/plain": [
       "   rating_by_user                   title_review  \\\n",
       "0               5               Beautiful colors   \n",
       "1               5                          Great   \n",
       "2               5            These are beautiful   \n",
       "3               5            fair trade necklace   \n",
       "4               5  Set of 2 Fair Trade bracelets   \n",
       "\n",
       "                                         text_review images_review  \\\n",
       "0  I bought one for myself and one for my grandda...            []   \n",
       "1  As pictured. Used a frame from the dollar stor...            []   \n",
       "2  I have several of these prints. Yes the size i...            []   \n",
       "3  This is a very lovely, fair trade necklace mad...            []   \n",
       "4  I purchased about 5 different color combos of ...            []   \n",
       "\n",
       "   product_id parent_asin                       user_id  \\\n",
       "0  B08GPJ1MSN  B08GPJ1MSN  AF7OANMNHQJC3PD4HRPX2FATECPA   \n",
       "1  B07V3NRQC4  B07V3NRQC4  AEYORY2AVPMCPDV57CE337YU5LXA   \n",
       "2  B09ZXMD847  B09ZXTLVWP  AFGNIWCBLQT2QIXXKIW7Q6VREZRQ   \n",
       "3  B07PWBRXJG  B07PWBRXJG  AFZUK3MTBIBEDQOPAK3OATUOUKLA   \n",
       "4  B0855GMD9K  B0855GMD9K  AFZUK3MTBIBEDQOPAK3OATUOUKLA   \n",
       "\n",
       "           time_of_review  helpful_vote  verified_purchase  ...  \\\n",
       "0 2021-05-21 14:31:35.111             1               True  ...   \n",
       "1 2020-06-06 13:09:11.297             0               True  ...   \n",
       "2 2022-11-13 07:11:04.824            29              False  ...   \n",
       "3 2020-12-05 19:21:29.380             1               True  ...   \n",
       "4 2020-12-04 19:15:16.926             7               True  ...   \n",
       "\n",
       "  sub_category_4              combined_category  \\\n",
       "0            NaN      Jewelry Necklaces Pendant   \n",
       "1            NaN  Home & Kitchen Artwork Prints   \n",
       "2            NaN  Home & Kitchen Artwork Prints   \n",
       "3            NaN       Jewelry Necklaces Strand   \n",
       "4            NaN         Jewelry Bracelets Wrap   \n",
       "\n",
       "                       Package Dimensions  orig_department  \\\n",
       "0  4.37 x 3.43 x 0.67 inches; 1.27 Ounces     Unisex-adult   \n",
       "1   14.7 x 12.4 x 0.2 inches; 3.53 Ounces              NaN   \n",
       "2  12.52 x 1.22 x 1.14 inches; 2.4 Ounces              NaN   \n",
       "3  4.49 x 4.21 x 2.05 inches; 3.32 Ounces           Womens   \n",
       "4   6.18 x 4.8 x 1.38 inches; 3.21 Ounces           Womens   \n",
       "\n",
       "  date_first_available package_weight_ounces  package_length_inches  \\\n",
       "0           2020-09-09                  1.27                   4.37   \n",
       "1           2019-07-11                  3.53                  14.70   \n",
       "2           2022-05-10                  2.40                  12.52   \n",
       "3           2019-03-20                  3.32                   4.49   \n",
       "4           2020-02-26                  3.21                   6.18   \n",
       "\n",
       "  package_width_inches package_height_inches department  \n",
       "0                 3.43                  0.67     unisex  \n",
       "1                12.40                  0.20        NaN  \n",
       "2                 1.22                  1.14        NaN  \n",
       "3                 4.21                  2.05      women  \n",
       "4                 4.80                  1.38      women  \n",
       "\n",
       "[5 rows x 35 columns]"
      ]
     },
     "execution_count": 86,
     "metadata": {},
     "output_type": "execute_result"
    }
   ],
   "source": [
    "# Merge the 'review_df' DataFrame and 'meta_df' DataFrame based on the common column 'parent_asin' as outlined in the dataset documentation\n",
    "handmade_df = review_df.merge(meta_sample_expanded_df, on='parent_asin', suffixes=('_review', '_product')).reset_index(drop=True)\n",
    "\n",
    "# Display the first few rows of the 'handmade_df' DataFrame\n",
    "handmade_df.head()"
   ]
  },
  {
   "cell_type": "code",
   "execution_count": 87,
   "metadata": {},
   "outputs": [
    {
     "name": "stdout",
     "output_type": "stream",
     "text": [
      "The shape of the final merged sample dataset is 232909 by 35.\n"
     ]
    }
   ],
   "source": [
    "print(f\"The shape of the final merged sample dataset is {handmade_df.shape[0]} by {handmade_df.shape[1]}.\")"
   ]
  },
  {
   "cell_type": "code",
   "execution_count": 88,
   "metadata": {},
   "outputs": [],
   "source": [
    "# Pickle the DataFrame\n",
    "handmade_df.to_pickle('../data/user_sample_handmade.pkl')"
   ]
  }
 ],
 "metadata": {
  "kernelspec": {
   "display_name": "capstone_env",
   "language": "python",
   "name": "capstone_env"
  },
  "language_info": {
   "codemirror_mode": {
    "name": "ipython",
    "version": 3
   },
   "file_extension": ".py",
   "mimetype": "text/x-python",
   "name": "python",
   "nbconvert_exporter": "python",
   "pygments_lexer": "ipython3",
   "version": "3.12.4"
  }
 },
 "nbformat": 4,
 "nbformat_minor": 4
}
